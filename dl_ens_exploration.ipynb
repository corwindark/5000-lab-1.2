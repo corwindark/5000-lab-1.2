{
  "cells": [
    {
      "cell_type": "markdown",
      "metadata": {
        "id": "view-in-github",
        "colab_type": "text"
      },
      "source": [
        "<a href=\"https://colab.research.google.com/github/corwindark/5000-lab-1.2/blob/main/dl_ens_exploration.ipynb\" target=\"_parent\"><img src=\"https://colab.research.google.com/assets/colab-badge.svg\" alt=\"Open In Colab\"/></a>"
      ]
    },
    {
      "cell_type": "markdown",
      "metadata": {
        "id": "IcQ0TfR_NvtR"
      },
      "source": [
        "\n",
        "\n",
        "```\n",
        "# This is formatted as code\n",
        "```\n",
        "\n",
        "# Setup - Run Every Time"
      ]
    },
    {
      "cell_type": "code",
      "execution_count": 1,
      "metadata": {
        "colab": {
          "base_uri": "https://localhost:8080/"
        },
        "id": "0GmcHy4PefJh",
        "outputId": "34637677-8ef1-40c4-828d-731e2a8f3c15"
      },
      "outputs": [
        {
          "output_type": "stream",
          "name": "stdout",
          "text": [
            "TENSORFLOW VERSION: 2.15.0\n",
            "PYTORCH VERSION: 2.1.0+cu121\n",
            "KERAS VERSION: 2.15.0\n"
          ]
        }
      ],
      "source": [
        "# TENSORFLOW\n",
        "import tensorflow as tf\n",
        "print(\"TENSORFLOW VERSION:\",tf.__version__)\n",
        "\n",
        "# PYTORCH\n",
        "import torch\n",
        "print(\"PYTORCH VERSION:\",torch.__version__)\n",
        "\n",
        "# KERAS\n",
        "import keras;\n",
        "print(\"KERAS VERSION:\",keras.__version__)"
      ]
    },
    {
      "cell_type": "code",
      "execution_count": 2,
      "metadata": {
        "colab": {
          "base_uri": "https://localhost:8080/"
        },
        "id": "MgLd74Zteqck",
        "outputId": "f9b51f81-53da-460e-b547-db153a5959b3"
      },
      "outputs": [
        {
          "output_type": "stream",
          "name": "stdout",
          "text": [
            "True\n"
          ]
        }
      ],
      "source": [
        "print(torch.cuda.is_available())"
      ]
    },
    {
      "cell_type": "code",
      "execution_count": 3,
      "metadata": {
        "colab": {
          "base_uri": "https://localhost:8080/"
        },
        "id": "BWIeaqgue6WW",
        "outputId": "1432897b-860d-4fc8-d1db-3e51d9c5375b"
      },
      "outputs": [
        {
          "output_type": "stream",
          "name": "stdout",
          "text": [
            "\n",
            "Python version: ['3.10.12 (main, Nov 20 2023, 15:14:05) [GCC 11.4.0]']\n",
            "dist: N/A\n",
            "num_cores: 2\n",
            "linux_distribution: N/A\n",
            "system: Linux\n",
            "machine: x86_64\n",
            "platform: Linux-6.1.58+-x86_64-with-glibc2.35\n",
            "uname: uname_result(system='Linux', node='230e3bd3331e', release='6.1.58+', version='#1 SMP PREEMPT_DYNAMIC Sat Nov 18 15:31:17 UTC 2023', machine='x86_64')\n",
            "version: #1 SMP PREEMPT_DYNAMIC Sat Nov 18 15:31:17 UTC 2023\n",
            "RAM: 13.60945152\n",
            "\n"
          ]
        }
      ],
      "source": [
        "# GET SYSTEM INFO\n",
        "# code modified from: https://stackoverflow.com/questions/110362/how-can-i-find-the-current-os-in-python\n",
        "\n",
        "import platform\n",
        "import multiprocessing\n",
        "import sys\n",
        "import psutil\n",
        "\n",
        "def linux_distribution():\n",
        "  try:\n",
        "    return platform.linux_distribution()\n",
        "  except:\n",
        "    return \"N/A\"\n",
        "\n",
        "def dist():\n",
        "  try:\n",
        "    return platform.dist()\n",
        "  except:\n",
        "    return \"N/A\"\n",
        "\n",
        "num_cores=multiprocessing.cpu_count()\n",
        "\n",
        "print(\"\"\"\n",
        "Python version: %s\n",
        "dist: %s\n",
        "num_cores: %s\n",
        "linux_distribution: %s\n",
        "system: %s\n",
        "machine: %s\n",
        "platform: %s\n",
        "uname: %s\n",
        "version: %s\n",
        "RAM: %s\n",
        "\"\"\" % (\n",
        "sys.version.split('\\n'),\n",
        "str(dist()),\n",
        "num_cores,\n",
        "linux_distribution(),\n",
        "platform.system(),\n",
        "platform.machine(),\n",
        "platform.platform(),\n",
        "platform.uname(),\n",
        "platform.version(),\n",
        "psutil.virtual_memory().total*10**(-9.)\n",
        "))\n",
        "\n",
        "# print('GPU name: ', tf.config.experimental.list_physical_devices('GPU'))"
      ]
    },
    {
      "cell_type": "code",
      "execution_count": 4,
      "metadata": {
        "colab": {
          "base_uri": "https://localhost:8080/"
        },
        "id": "hHpcauGQfDuU",
        "outputId": "813d5ee3-bd46-434b-cbea-eaa439c87dd8"
      },
      "outputs": [
        {
          "output_type": "execute_result",
          "data": {
            "text/plain": [
              "15835660288"
            ]
          },
          "metadata": {},
          "execution_count": 4
        }
      ],
      "source": [
        "torch.cuda.device_count()\n",
        "torch.cuda.get_device_properties(0).total_memory"
      ]
    },
    {
      "cell_type": "code",
      "execution_count": 5,
      "metadata": {
        "id": "-YU0DRxuga_4"
      },
      "outputs": [],
      "source": [
        "import yfinance as yf\n",
        "import pandas as pd\n",
        "import seaborn as sns\n",
        "import matplotlib as plt\n",
        "from sklearn.model_selection import TimeSeriesSplit\n",
        "from datetime import datetime\n",
        "import matplotlib.pyplot as plt\n",
        "from keras.models import Sequential\n",
        "from keras import layers\n",
        "from keras.optimizers.legacy import RMSprop\n",
        "from tensorflow.keras import regularizers\n",
        "from keras.callbacks import EarlyStopping\n",
        "from sklearn.metrics import mean_squared_error\n",
        "import time\n",
        "from datetime import timedelta\n",
        "from sklearn.model_selection import KFold\n",
        "import math\n",
        "pd.options.mode.chained_assignment = None\n",
        "\n"
      ]
    },
    {
      "cell_type": "code",
      "execution_count": 6,
      "metadata": {
        "colab": {
          "base_uri": "https://localhost:8080/"
        },
        "id": "bKOyzoq0kuAB",
        "outputId": "18fda166-e956-4982-aaf9-9b5edce49fe1"
      },
      "outputs": [
        {
          "output_type": "execute_result",
          "data": {
            "text/plain": [
              "0"
            ]
          },
          "metadata": {},
          "execution_count": 6
        }
      ],
      "source": [
        "import subprocess\n",
        "import sys\n",
        "\n",
        "subprocess.check_call([sys.executable, \"-m\", \"pip\", \"install\", \"statsforecast\"])"
      ]
    },
    {
      "cell_type": "code",
      "execution_count": 7,
      "metadata": {
        "colab": {
          "base_uri": "https://localhost:8080/"
        },
        "id": "HI2srljshLUI",
        "outputId": "4adcc726-0655-4fb7-9257-599437805d52"
      },
      "outputs": [
        {
          "output_type": "stream",
          "name": "stderr",
          "text": [
            "/usr/local/lib/python3.10/dist-packages/statsforecast/core.py:26: TqdmExperimentalWarning: Using `tqdm.autonotebook.tqdm` in notebook mode. Use `tqdm.tqdm` instead to force console mode (e.g. in jupyter console)\n",
            "  from tqdm.autonotebook import tqdm\n"
          ]
        }
      ],
      "source": [
        "from statsforecast import StatsForecast\n",
        "from statsforecast.models import AutoCES, AutoARIMA, AutoETS, DynamicOptimizedTheta\n",
        "import numpy as np\n",
        "import time"
      ]
    },
    {
      "cell_type": "markdown",
      "metadata": {
        "id": "l14ED15pN7TW"
      },
      "source": [
        "# Old Stat Functions"
      ]
    },
    {
      "cell_type": "code",
      "execution_count": null,
      "metadata": {
        "id": "HVpcUSSjhJOd"
      },
      "outputs": [],
      "source": [
        "def crossValidation(train, test, window, outputFrame, modelName, predReturnFunction):\n",
        "\n",
        "    totalPredictions = pd.Series(dtype = 'float64')\n",
        "    windows = len(test) // window\n",
        "\n",
        "    predictionIndex = 0\n",
        "\n",
        "    for i in range(0, windows):\n",
        "        # debug\n",
        "        #print(\"Window: \", i, \"Method: \", modelName)\n",
        "\n",
        "        # How many observations to move forward each frame\n",
        "        addNum = i * window\n",
        "        # Combine training data with additional test window\n",
        "        intermediateData = pd.concat([train, test[:addNum]])\n",
        "        # Generate prediction of the given window size\n",
        "        prediction = predReturnFunction(intermediateData, window)\n",
        "        #print(prediction)\n",
        "        # Check if we have multiple predictions in the window\n",
        "        if len(prediction) > 1:\n",
        "            # Store each predicted value with a loop\n",
        "            for j in range(0,window):\n",
        "\n",
        "                # Store in the prediction-comparison frame\n",
        "                outputFrame[modelName][predictionIndex] = prediction[j]\n",
        "\n",
        "                # Move to next open spot\n",
        "                predictionIndex += 1\n",
        "        else:\n",
        "\n",
        "            outputFrame[modelName][predictionIndex] = prediction[0]\n",
        "            predictionIndex += 1\n"
      ]
    },
    {
      "cell_type": "code",
      "execution_count": null,
      "metadata": {
        "id": "e0eVuMiIlN01"
      },
      "outputs": [],
      "source": [
        "def stat_test_wrapper(seriesTrain, seriesTest, testDF,  test_out_size = 100, window_size = 1):\n",
        "    # Set the number of observations to be included in the test set\n",
        "\n",
        "  testDFCopy = testDF.copy()\n",
        "\n",
        "  tempTest = seriesTest[:test_out_size]\n",
        "\n",
        "  # Auto Arima\n",
        "  crossValidation(seriesTrain, tempTest, window_size, testDFCopy, 'auto_arima', aaPredFunction)\n",
        "\n",
        "  crossValidation(seriesTrain, tempTest, window_size, testDFCopy, 'complex_smoothing', cesPredFunction)\n",
        "\n",
        "  #crossValidation(seriesTrain, tempTest, window_size, testDFCopy, 'auto_ets', etsPredFunction)\n",
        "\n",
        "  crossValidation(seriesTrain, tempTest, window_size, testDFCopy, 'dyn_theta', dotPredFunction)\n",
        "\n",
        "\n",
        "\n",
        "\n",
        "  plot2 = testDFCopy.iloc[0:test_out_size,:]\n",
        "\n",
        "  preds = plot2.loc[:,['auto_arima', 'complex_smoothing', 'dyn_theta']]\n",
        "  # ensemble methods\n",
        "  plot2.loc[:,'mean_ens'] = preds.mean(axis = 1)\n",
        "  plot2.loc[:,'median_ens'] = preds.median(axis = 1)\n",
        "\n",
        "\n",
        "  plot2.loc[:,'auto_arima'] = abs( plot2.loc[:,'auto_arima'] - plot2.loc[:,'Price'] )\n",
        "  # auto ets is not very good apparently\n",
        "  #plot2.loc[:,'auto_ets'] = abs( plot2.loc[:,'auto_ets'] - plot2.loc[:,'Price'] )\n",
        "  plot2.loc[:,'complex_smoothing'] = abs( plot2.loc[:,'complex_smoothing'] - plot2.loc[:,'Price'] )\n",
        "  plot2.loc[:,'dyn_theta'] = abs( plot2.loc[:,'dyn_theta'] - plot2.loc[:,'Price'] )\n",
        "  plot2.loc[:,'mean_ens'] = abs( plot2.loc[:,'mean_ens'] - plot2.loc[:,'Price'] )\n",
        "  plot2.loc[:,'median_ens'] = abs( plot2.loc[:,'median_ens'] - plot2.loc[:,'Price'] )\n",
        "\n",
        "\n",
        "\n",
        "  # get the index as a column for plotting\n",
        "  plot2 = plot2.reset_index()\n",
        "\n",
        "  errorDat = plot2.copy()\n",
        "\n",
        "  names = ['auto_arima', 'dyn_theta', 'complex_smoothing']\n",
        "  errorDat['optimal'] = errorDat[names].idxmin(axis=\"columns\")\n",
        "\n",
        "  #print(\"reached loop\")\n",
        "  \"\"\"\n",
        "  for index in range(0, errorDat.shape[0]):\n",
        "      #print(index)\n",
        "\n",
        "      predictionErrors = errorDat.loc[index,['auto_arima', 'auto_ets', 'dyn_theta', 'complex_smoothing'] ]\n",
        "\n",
        "      #print(predictionErrors)\n",
        "\n",
        "      #print(min(abs(predictionErrors)))\n",
        "      #errorDat.loc[index ,'optimal'] = min(abs(predictionErrors))\n",
        "  \"\"\"\n",
        "\n",
        "\n",
        "\n",
        "  return testDFCopy, errorDat"
      ]
    },
    {
      "cell_type": "code",
      "execution_count": null,
      "metadata": {
        "id": "tM9QbHylhSvQ"
      },
      "outputs": [],
      "source": [
        "def aaPredFunction(dataIn, windowSize):\n",
        "    model = AutoARIMA()\n",
        "    fit1 = model.fit(y = np.concatenate(dataIn.to_numpy()))\n",
        "    prediction = fit1.predict(h = windowSize)\n",
        "    return prediction.get('mean')\n",
        "\n",
        "\n",
        "def cesPredFunction(dataIn, windowSize):\n",
        "    model = AutoCES()\n",
        "    fit1 = model.fit(y = np.concatenate(dataIn.to_numpy()))\n",
        "    predictionList = fit1.predict(windowSize)\n",
        "    return predictionList.get('mean')\n",
        "\n",
        "def etsPredFunction(dataIn, windowSize):\n",
        "    model = AutoETS()\n",
        "    fit1 = model.fit(y = np.concatenate(dataIn.to_numpy()))\n",
        "    predictionList = fit1.predict(windowSize)\n",
        "    return predictionList.get('mean')\n",
        "\n",
        "def dotPredFunction(dataIn, windowSize):\n",
        "    model = DynamicOptimizedTheta()\n",
        "    fit1 = model.fit(y = np.concatenate(dataIn.to_numpy()))\n",
        "    predictionList = fit1.predict(windowSize)\n",
        "    return predictionList.get('mean')\n",
        "\n",
        "\n",
        "\n",
        "# Set the number of observations to be included in the test set\n",
        "test_out_size = 200\n",
        "\n",
        "tempTest = seriesTest[:test_out_size]\n"
      ]
    },
    {
      "cell_type": "code",
      "execution_count": null,
      "metadata": {
        "id": "GRRsuTtaWZd2"
      },
      "outputs": [],
      "source": [
        "\n",
        "\n",
        "def prep_ticker(ticker, start_date = '2022-06-01', end_date = '2023-09-30', intervals = '60m', split = True, train_size = 2000, model_list = ['auto_arima', 'dyn_theta', 'auto_ets', 'complex_smoothing']):\n",
        "  data = yf.download(ticker,start_date, end_date, interval = intervals)\n",
        "  #print(data.head())\n",
        "  data.reset_index(inplace = True)\n",
        "\n",
        "\n",
        "  data_train = data[:train_size]\n",
        "  data_test = data[train_size:]\n",
        "\n",
        "  test_size = len(data_test)\n",
        "\n",
        "\n",
        "  data_test = data_test[[\"Datetime\", \"Close\"]]\n",
        "  data_train = data_train[[\"Datetime\", \"Close\"]]\n",
        "\n",
        "  seriesTrain = data_train.set_index('Datetime')\n",
        "  seriesTest = data_test.set_index('Datetime')\n",
        "\n",
        "  testResultsDF = pd.DataFrame(index = range(test_size))\n",
        "  testResultsDF['Price'] = 0\n",
        "\n",
        "  #print(data.head())\n",
        "\n",
        "  # Get a clean format for close prices\n",
        "  for i in range(0,test_size):\n",
        "      testResultsDF['Price'][i] = seriesTest.values[i][0]\n",
        "\n",
        "\n",
        "  # Initialize empty cells for the statistical forecasts\n",
        "  for modeltype in model_list:\n",
        "    testResultsDF[modeltype] = 0\n",
        "\n",
        "  return testResultsDF, seriesTrain, seriesTest"
      ]
    },
    {
      "cell_type": "markdown",
      "metadata": {
        "id": "N3FbBbIBN-db"
      },
      "source": [
        "# Old Stat Examples\n"
      ]
    },
    {
      "cell_type": "code",
      "execution_count": null,
      "metadata": {
        "id": "yzKoe4nigzre"
      },
      "outputs": [],
      "source": [
        "\n",
        "data = yf.download('SPY','2022-06-01','2023-09-30', interval =\"60m\")\n",
        "%matplotlib inline\n",
        "\n",
        "data['Adj Close'].plot()\n",
        "plt.ion()\n",
        "print(data)\n",
        "\n",
        "data.reset_index(inplace = True)\n",
        "print(data.head())"
      ]
    },
    {
      "cell_type": "code",
      "execution_count": null,
      "metadata": {
        "id": "Xo_WQK4WhEky"
      },
      "outputs": [],
      "source": [
        "train_size = 2000\n",
        "\n",
        "data_train = data[:train_size]\n",
        "data_test = data[train_size:]\n",
        "\n",
        "test_size = len(data_test)\n",
        "\n",
        "\n",
        "data_test = data_test[[\"Datetime\", \"Close\"]]\n",
        "data_train = data_train[[\"Datetime\", \"Close\"]]\n",
        "\n",
        "seriesTrain = data_train.set_index('Datetime')\n",
        "seriesTest = data_test.set_index('Datetime')\n",
        "\n",
        "cv_data = data[['Close']]"
      ]
    },
    {
      "cell_type": "code",
      "execution_count": null,
      "metadata": {
        "id": "nAYAKdiChGmB"
      },
      "outputs": [],
      "source": [
        "# Let's reformat the test data into a dataframe we can add our predictions to\n",
        "\n",
        "testResultsDF = pd.DataFrame(index = range(test_size))\n",
        "testResultsDF['Price'] = 0\n",
        "# Get a clean format for close prices\n",
        "for i in range(0,test_size):\n",
        "    testResultsDF['Price'][i] = seriesTest.values[i][0]\n",
        "\n",
        "\n",
        "# Initialize empty cells for the statistical forecasts\n",
        "testResultsDF['auto_arima'] = 0\n",
        "testResultsDF['dyn_theta'] = 0\n",
        "#testResultsDF['auto_ets'] = 0\n",
        "testResultsDF['complex_smoothing'] = 0"
      ]
    },
    {
      "cell_type": "code",
      "execution_count": null,
      "metadata": {
        "id": "nzAn1r3eAO3y"
      },
      "outputs": [],
      "source": [
        "\n",
        "# Auto Arima\n",
        "crossValidation(seriesTrain, tempTest, 1, testResultsDF, 'auto_arima', aaPredFunction)\n",
        "\n",
        "crossValidation(seriesTrain, tempTest, 1, testResultsDF, 'complex_smoothing', cesPredFunction)\n",
        "\n",
        "crossValidation(seriesTrain, tempTest, 1, testResultsDF, 'auto_ets', etsPredFunction)\n",
        "\n",
        "crossValidation(seriesTrain, tempTest, 1, testResultsDF, 'dyn_theta', dotPredFunction)\n"
      ]
    },
    {
      "cell_type": "code",
      "execution_count": null,
      "metadata": {
        "id": "3pR4l_YPhdoF"
      },
      "outputs": [],
      "source": [
        "print(testResultsDF)\n",
        "\n",
        "plot1 = testResultsDF.iloc[0:test_out_size,:]\n",
        "\n",
        "# get the index as a column for plotting\n",
        "plot1 = plot1.reset_index()\n",
        "\n",
        "plot1 = pd.melt(plot1, id_vars = ['index'], value_vars =  ['auto_arima', 'auto_ets', 'complex_smoothing', 'dyn_theta', 'Price'])\n",
        "\n",
        "print(plot1)\n",
        "\n",
        "sns.lineplot(plot1, x = 'index', y = 'value', hue = 'variable')"
      ]
    },
    {
      "cell_type": "code",
      "execution_count": null,
      "metadata": {
        "id": "99el4haXjZJM"
      },
      "outputs": [],
      "source": [
        "\n",
        "plot1 = testResultsDF.iloc[0:test_out_size,:]\n",
        "\n",
        "# get the index as a column for plotting\n",
        "plot1 = plot1.reset_index()\n",
        "\n",
        "plot1 = pd.melt(plot1, id_vars = ['index'], value_vars =  ['auto_arima', 'auto_ets', 'complex_smoothing', 'dyn_theta', 'Price'])\n",
        "\n",
        "print(plot1)\n",
        "\n",
        "sns.lineplot(plot1, x = 'index', y = 'value', hue = 'variable')"
      ]
    },
    {
      "cell_type": "code",
      "execution_count": null,
      "metadata": {
        "id": "P-p9QbHCj5gN"
      },
      "outputs": [],
      "source": [
        "print(testResultsDF)\n",
        "\n",
        "plot2 = testResultsDF.iloc[0:test_out_size,:]\n",
        "\n",
        "plot2['auto_arima'] = plot2['auto_arima'] - plot2['Price']\n",
        "plot2['auto_ets'] = plot2['auto_ets'] - plot2['Price']\n",
        "plot2['complex_smoothing'] = plot2['complex_smoothing'] - plot2['Price']\n",
        "plot2['dyn_theta'] = plot2['dyn_theta'] - plot2['Price']\n",
        "\n",
        "\n",
        "\n",
        "\n",
        "\n",
        "# get the index as a column for plotting\n",
        "plot2 = plot2.reset_index()\n",
        "\n",
        "errorDat = plot2.copy()\n",
        "\n",
        "plot2 = pd.melt(plot2, id_vars = ['index'], value_vars =  ['auto_arima', 'auto_ets', 'complex_smoothing', 'dyn_theta'])\n",
        "\n",
        "sns.barplot(plot2, x = 'index', y = 'value', hue = 'variable')"
      ]
    },
    {
      "cell_type": "code",
      "execution_count": null,
      "metadata": {
        "id": "aeAJVba9zC3G"
      },
      "outputs": [],
      "source": [
        "print(AAPLerrors.head())\n",
        "print(AAPLerrors['optimal'].value_counts() )\n",
        "\n",
        "print(AAPLerrors['auto_arima'].mean())\n",
        "print(AAPLerrors['dyn_theta'].mean())\n",
        "print(AAPLerrors['complex_smoothing'].mean())\n",
        "print(AAPLerrors['mean_ens'].mean())\n",
        "\n",
        "optimals = ['auto_arima', 'dyn_theta', 'complex_smoothing']\n",
        "print(AAPLerrors[optimals].min(axis=\"columns\").mean())\n"
      ]
    },
    {
      "cell_type": "code",
      "execution_count": null,
      "metadata": {
        "id": "G57EBqz8y2S-"
      },
      "outputs": [],
      "source": [
        "AAPLpreds, AAPLerrors = stat_test_wrapper(trainSeriesAAPL, testSeriesAAPL, testResultsAAPL, 25, 1)\n"
      ]
    },
    {
      "cell_type": "code",
      "execution_count": null,
      "metadata": {
        "id": "rRxuc2fUly-G"
      },
      "outputs": [],
      "source": [
        "errorDat['optimal'] = 0\n",
        "\n",
        "for index in range(0, errorDat.shape[0]):\n",
        "   # print(index)\n",
        "    predictionErrors = errorDat.loc[:,('auto_arima', 'auto_ets', 'dyn_theta', 'complex_smoothing') ]\n",
        "\n",
        "    #print(predictionErrors.min())\n",
        "\n",
        "    errorDat.loc[index ,'optimal'] = min(predictionErrors)\n",
        "\n",
        "errorDat"
      ]
    },
    {
      "cell_type": "code",
      "execution_count": null,
      "metadata": {
        "id": "5oF603FGsIs1"
      },
      "outputs": [],
      "source": [
        "print(qqqerrors.head())\n",
        "print(qqqerrors['optimal'].value_counts() )\n",
        "# QQQ, 22-6-1 to 23-9-30, 1hr,\n",
        "# > 5-1 is auto_arima 4, complex smoothing 1\n",
        "# > 100-1 is auto_arima 50, complex smoothing 44, dyn_theta 6\n",
        "# > 200-20 is auto_arima 41, complex_smoothing 111, dyn_theta 48\n",
        "# > 200-50 is auto_arima 18, c_s 92, dyn_theta 90\n",
        "# > 200-100 is a_a 60, c_s 78, d_t 62\n",
        "# AAPL, 22-6-1 to 23-9-30, 1hr,\n",
        "# 100 - 1 is a_a 42, c_s 51, d_t 7\n",
        "\n"
      ]
    },
    {
      "cell_type": "code",
      "execution_count": null,
      "metadata": {
        "id": "yQv9zLVxJHLp"
      },
      "outputs": [],
      "source": [
        "def full_single_nn_wrapper(\n",
        "    nn_modeltype,\n",
        "    nn_task,\n",
        "    train_split,\n",
        "    ticker,\n",
        "    model_names = ['auto_arima','complex_smoothing'],\n",
        "    predReturnFunctions = [new_aaPredFunction, new_cesPredFunction],\n",
        "    start_date_in = '2022-06-01',\n",
        "    end_date_in = '2023-09-30',\n",
        "    interval_in = '60m',\n",
        "    split = False,\n",
        "    train_size = 2000,\n",
        "    train_window = 10,\n",
        "    test_window = 1,\n",
        "    epochs_in = 10,\n",
        "    verbose = 1):\n",
        "\n",
        "  # use inputs to get stock data of the requested format\n",
        "  ticker_data = prep_ticker(ticker, intervals = interval_in, start_date = start_date_in, end_date = end_date_in, split = split)\n",
        "\n",
        "  # difference data to test if it makes a 'difference'\n",
        "  # update, differenced data seems to break auto CES\n",
        "  #ticker_data = ticker_data.diff()\n",
        "\n",
        "  # normalize data\n",
        "  ticker_mean = ticker_data.mean()\n",
        "  ticker_std = ticker_data.std()\n",
        "  ticker_data = (ticker_data - ticker_mean) / ticker_std\n",
        "\n",
        "  # break stock data into windows and return statistical model predictions\n",
        "  xs,ys,preds = stat_true_window_cross_val(ticker_data, model_names, predReturnFunctions, train_window, test_window)\n",
        "\n",
        "  # generate categorical outcome data (which model was optimal) if task is classification\n",
        "  # only works with 1-ahead windows for now\n",
        "  stat_model_number = len(model_names)\n",
        "  y_optimals = np.zeros(shape = [ys.shape[0], stat_model_number])\n",
        "\n",
        "  #iterate through the occurences to find optimal model in the ensemble in each\n",
        "  for i in range(0, y_optimals.shape[0]):\n",
        "    yval = ys[i,0]\n",
        "    errors = np.zeros(shape = preds[i,:].shape)\n",
        "    #print(\"error shape: \", errors.shape)\n",
        "    for j in range(0, errors.shape[0]):\n",
        "       errors[j] = yval - preds[i,j]\n",
        "\n",
        "    y_optimals[i, np.argmin(errors, axis=0)] = 1\n",
        "\n",
        "  #print(y_optimals)\n",
        "  if nn_task == \"classification\":\n",
        "    ys = y_optimals\n",
        "\n",
        "\n",
        "  # status update\n",
        "  if verbose == 1:\n",
        "    print(\"STAT MODELS TRAINED\")\n",
        "\n",
        "  # calculate train test split\n",
        "  train_obs = round(xs.shape[0] * train_split)\n",
        "\n",
        "\n",
        "\n",
        "  # divide matrices\n",
        "  x_train_dat = xs[0:train_obs,:]\n",
        "  x_val_dat = xs[train_obs:xs.shape[0],:]\n",
        "  y_train_dat = ys[0:train_obs,:]\n",
        "  y_val_dat = ys[train_obs:ys.shape[0],:]\n",
        "  stat_train = preds[0:train_obs,:]\n",
        "  stat_val = preds[train_obs:preds.shape[0],:]\n",
        "\n",
        "\n",
        "  if verbose == 1:\n",
        "      print(\"X DATA SHAPE:\", xs.shape)\n",
        "      print(\"X TRAINING DATA SHAPE:\", x_train_dat.shape)\n",
        "      print(\"STAT PRED DATA SHAPE:\", preds.shape)\n",
        "      print(\"X VALIDATION DATA SHAPE:\", x_val_dat.shape)\n",
        "\n",
        "\n",
        "\n",
        "\n",
        "  # train-test split\n",
        "  if verbose == 1:\n",
        "\n",
        "    print(\"TRAIN SHAPE: \", x_train_dat.shape)\n",
        "    print(\"VAL SHAPE: \", x_val_dat.shape)\n",
        "\n",
        "\n",
        "\n",
        "\n",
        "  # set up neural network for the given data\n",
        "\n",
        "  # Include stat preds into the data (will be for one type of CV and included in if-statement later)\n",
        "  x_train_dat = np.concatenate([x_train_dat, stat_train], axis = 1)\n",
        "  x_val_dat = np.concatenate([x_val_dat, stat_val], axis = 1)\n",
        "\n",
        "\n",
        "\n",
        "\n",
        "  # declare a sequential model\n",
        "  model = Sequential()\n",
        "\n",
        "  if nn_modeltype == \"feedforward\" and nn_task == \"regression\":\n",
        "\n",
        "    # create a simple linear feed forward model\n",
        "    model.add(layers.Dense(32, activation='relu',input_shape=[x_train_dat.shape[1],]))\n",
        "    # This layer is the recurent layer, which returns all previous data\n",
        "    model.add(layers.Dense(64, kernel_regularizer=regularizers.L1L2(l1=L1, l2=L2)))\n",
        "    # layer that reads the recurent layer\n",
        "    model.add(layers.Dense(y_train_dat.shape[1]))\n",
        "    model.compile(optimizer=RMSprop(learning_rate = 0.0001), loss='mse')\n",
        "\n",
        "  if nn_modeltype == \"feedforward\" and nn_task == \"classification\":\n",
        "    cce = keras.losses.CategoricalCrossentropy()\n",
        "\n",
        "    # create a simple linear feed forward model\n",
        "    model.add(layers.Dense(32, activation='relu',input_shape=[x_train_dat.shape[1],]))\n",
        "    # This layer is the recurent layer, which returns all previous data\n",
        "    model.add(layers.Dense(64, kernel_regularizer=regularizers.L1L2(l1=L1, l2=L2)))\n",
        "    # layer that reads the recurent layer\n",
        "    model.add(layers.Dense(y_train_dat.shape[1], activation = \"softmax\"))\n",
        "    model.compile(optimizer=RMSprop(learning_rate = 0.0001), loss=cce)\n",
        "\n",
        "\n",
        "\n",
        "  # run NN model\n",
        "  test_one = model.fit(x = x_train_dat,\n",
        "                      y = y_train_dat,\n",
        "                      steps_per_epoch = x_train_dat.shape[0],\n",
        "                      epochs= epochs_in,\n",
        "                      batch_size = 1,\n",
        "                      validation_data= (x_val_dat, y_val_dat),\n",
        "                      callbacks=[callback],\n",
        "                      validation_steps= x_val_dat.shape[0],\n",
        "                      verbose = 1)\n",
        "  # print plot training graph\n",
        "  if verbose == 1:\n",
        "    history_plot(test_one)\n",
        "\n",
        "  # get NN predictions\n",
        "  nn_preds = model.predict(x_val_dat)\n",
        "  same_preds = x_val_dat[,]\n",
        "\n",
        "  print(\"NN pred shape\", nn_preds.shape)\n",
        "  print(\"Y Shape Uncollapsed\", y_val_dat.shape )\n",
        "\n",
        "  # for classification tasks, turn optimal model prediction (categorical) back into regression prediction\n",
        "  if nn_task == \"classification\":\n",
        "    real_preds = np.zeros(shape = [nn_preds.shape[0],1])\n",
        "    nn_preds = nn_preds * stat_val\n",
        "    for row in range(0,nn_preds.shape[0]):\n",
        "\n",
        "      real_preds[row,0] = nn_preds[row, np.argmax(np.absolute(nn_preds[row,:]), axis=0)]\n",
        "\n",
        "    nn_preds = real_preds\n",
        "\n",
        "  print(\"Y Shape Reshapen\", nn_preds.shape)\n",
        "  print(nn_preds[0:5])\n",
        "  # get MSE for validation data\n",
        "  stat_avg_mse, nn_mse, nn_avg_mse = calculate_metrics(test_window, y_val_dat, stat_val, nn_preds)\n",
        "\n",
        "\n",
        "  print(\"STAT VAL ENSEMBLE MSE: \", stat_avg_mse)\n",
        "  print(\"NN VAL MODEL MSE: \", nn_mse)\n",
        "  print(\"NN+STAT VAL ENSEMBLE MSE: \", nn_avg_mse)\n",
        "\n",
        "  if nn_task == \"regression\":\n",
        "    return stat_avg_mse, nn_mse, nn_avg_mse\n",
        "  #if nn_task == \"classification\":\n"
      ]
    },
    {
      "cell_type": "markdown",
      "metadata": {
        "id": "Cx2aXYcaOA0-"
      },
      "source": [
        "\n",
        "\n",
        "```\n",
        "# This is formatted as code\n",
        "```\n",
        "\n",
        "# New DL Functions"
      ]
    },
    {
      "cell_type": "code",
      "execution_count": 8,
      "metadata": {
        "id": "7ZVIFG9onTH7"
      },
      "outputs": [],
      "source": [
        "# Getting more different financial datasets\n",
        "\n",
        "\n",
        "def prep_ticker(ticker, start_date = '2022-06-01', end_date = '2023-09-30', intervals = '60m', split = True, train_size = 2000):\n",
        "  data = yf.download(ticker,start_date, end_date, interval = intervals)\n",
        "\n",
        "  #print(data.head)\n",
        "\n",
        "  data.reset_index(inplace = True)\n",
        "\n",
        "  if split == True:\n",
        "    data_train = data[:train_size]\n",
        "    data_test = data[train_size:]\n",
        "\n",
        "    test_size = len(data_test)\n",
        "\n",
        "\n",
        "    data_test = data_test[[\"Datetime\", \"Close\"]]\n",
        "    data_train = data_train[[\"Datetime\", \"Close\"]]\n",
        "\n",
        "    seriesTrain = data_train.set_index('Datetime')\n",
        "    seriesTest = data_test.set_index('Datetime')\n",
        "\n",
        "\n",
        "    return seriesTrain, seriesTest\n",
        "\n",
        "  elif split == False:\n",
        "    data_out = data\n",
        "\n",
        "    data_out = data_out[[\"Datetime\", \"Close\"]]\n",
        "\n",
        "    seriesOut = data_out.set_index('Datetime')\n",
        "\n",
        "\n",
        "    return seriesOut\n",
        "\n",
        "\n"
      ]
    },
    {
      "cell_type": "code",
      "execution_count": 9,
      "metadata": {
        "id": "nzhZY8XEPjkZ"
      },
      "outputs": [],
      "source": [
        "def new_aaPredFunction(dataIn, windowSize):\n",
        "    model = AutoARIMA()\n",
        "    fit1 = model.fit(dataIn)\n",
        "    prediction = fit1.predict(h = windowSize)\n",
        "    return prediction.get('mean')\n",
        "\n",
        "\n",
        "def new_cesPredFunction(dataIn, windowSize):\n",
        "    model = AutoCES()\n",
        "    fit1 = model.fit(dataIn)\n",
        "    predictionList = fit1.predict(windowSize)\n",
        "    return predictionList.get('mean')\n",
        "\n",
        "def new_etsPredFunction(dataIn, windowSize):\n",
        "    model = AutoETS()\n",
        "    fit1 = model.fit(dataIn)\n",
        "    predictionList = fit1.predict(windowSize)\n",
        "    return predictionList.get('mean')\n",
        "\n",
        "def new_dotPredFunction(dataIn, windowSize):\n",
        "    model = DynamicOptimizedTheta()\n",
        "    fit1 = model.fit(dataIn)\n",
        "    predictionList = fit1.predict(windowSize)\n",
        "    return predictionList.get('mean')"
      ]
    },
    {
      "cell_type": "code",
      "execution_count": 10,
      "metadata": {
        "id": "skBWEjboSjvV"
      },
      "outputs": [],
      "source": [
        "def stat_true_window_cross_val(unsplitdata, model_names, predReturnFunctions, train_window = 10, test_window = 1, nn_task = 'regression', verbose = False):\n",
        "    totalPredictions = pd.Series(dtype = 'float64')\n",
        "    windows = len(unsplitdata) // (train_window + test_window)\n",
        "    columns = train_window + (test_window * (1 + len(model_names)))\n",
        "\n",
        "    pred_df = np.zeros([windows, columns])\n",
        "    print(pred_df.shape)\n",
        "\n",
        "    unsplitdata = np.array(unsplitdata)\n",
        "    unsplitdata = unsplitdata.reshape((unsplitdata.shape[0],))\n",
        "    print(unsplitdata.shape)\n",
        "\n",
        "    print(\"Window num:\", windows)\n",
        "\n",
        "    # indexes loop through the data\n",
        "    predictionIndex = 0\n",
        "    startindex = 0\n",
        "\n",
        "    start_time = time.perf_counter()\n",
        "\n",
        "    for i in range(0, windows):\n",
        "\n",
        "        #print(time.clock() - start_time, \"seconds\")\n",
        "\n",
        "\n",
        "        if i > 0 and i == 200 and verbose == True:\n",
        "\n",
        "          duration = timedelta(seconds=time.perf_counter()-start_time)\n",
        "          print(\"Seconds elapsed for first \", i, \": \", duration)\n",
        "          print(\"Total est time based on window num = \", ((windows / i) * duration))\n",
        "\n",
        "        # debug\n",
        "        #print(\"Window: \", i)\n",
        "\n",
        "        train_window_dat = unsplitdata[startindex:(startindex+train_window)]\n",
        "        #print(train_window_dat)\n",
        "        test_window_dat = unsplitdata[(startindex+train_window ): (test_window + startindex+train_window)]\n",
        "\n",
        "        startindex = startindex + train_window + test_window\n",
        "\n",
        "        #print(pred_df[i,0:train_window])\n",
        "        #print(pred_df[i,0:train_window].shape)\n",
        "\n",
        "        #print(train_window_dat.shape)\n",
        "        #print( train_window_dat.reshape((train_window,)).shape)\n",
        "\n",
        "        pred_df[i,0:train_window] = np.reshape(train_window_dat, [train_window])\n",
        "        pred_df[i,(train_window):(train_window + test_window)] = test_window_dat\n",
        "\n",
        "        for modnum, modelfunction in enumerate(predReturnFunctions):\n",
        "          # account for how many columns in output array over to shift for this model\n",
        "          # add 1 to fit the real values\n",
        "          #print(modnum)\n",
        "          offset = ((modnum + 1) * test_window) + train_window\n",
        "\n",
        "          # Generate prediction of the given window size\n",
        "          prediction = modelfunction(train_window_dat, test_window)\n",
        "          #print(prediction[0])\n",
        "\n",
        "          # Check if we have multiple predictions in the window\n",
        "          if len(prediction) > 1:\n",
        "              # Store each predicted value with a loop\n",
        "              for j in range(0,test_window):\n",
        "\n",
        "                  # Store in the prediction-comparison frame\n",
        "                  pred_df[i,j + offset] = prediction[j]\n",
        "\n",
        "          else:\n",
        "\n",
        "              pred_df[i,offset] = prediction[0]\n",
        "\n",
        "    # currently configured to split up data into 3 matrices instead of returning together\n",
        "    x_windows = pred_df[:,0:train_window]\n",
        "    real_ys = pred_df[:,train_window:(train_window + test_window)]\n",
        "    stat_preds = pred_df[:,(train_window + test_window):(columns+1) ]\n",
        "\n",
        "\n",
        "    #print(pred_df)\n",
        "\n",
        "    return x_windows, real_ys, stat_preds\n"
      ]
    },
    {
      "cell_type": "code",
      "execution_count": null,
      "metadata": {
        "colab": {
          "base_uri": "https://localhost:8080/"
        },
        "id": "3E7XIxEIqe7D",
        "outputId": "f2ef7c82-bd6f-4605-cf38-133736788747"
      },
      "outputs": [
        {
          "name": "stdout",
          "output_type": "stream",
          "text": [
            "Drive already mounted at /content/drive; to attempt to forcibly remount, call drive.mount(\"/content/drive\", force_remount=True).\n"
          ]
        }
      ],
      "source": [
        "# in an effort to speed up model compute time, we will move to pre-calculating all of the statistical model forecasts\n",
        "# these can then be included in the function directly, and read in from the drive file\n",
        "# naming convention for this data is [ticker][year][increment][intervalval]_b[windowback]_f[predictionwindow]_[modelinitials]\n",
        "# ticker = SPY/BRENT/BTC/VIX/EUR\n",
        "# modelinitals = A-Arima, D-Dynamic Optimized Theta, C = Complex Exponential Smoothing, E = Auto Exponential Smoothing\n",
        "#   order of model intials tells you order that data is stored in columns\n",
        "# example: SPY2023min5_b10_f1_AC\n",
        "from google.colab import drive\n",
        "drive.mount('/content/drive')\n",
        "\n",
        "spyFullmin5 = pd.read_csv(\"/content/drive/MyDrive/Colab Notebooks/spy2023min5.csv\")\n",
        "seriesIn = pd.Series(spyFullmin5['close'])\n"
      ]
    },
    {
      "cell_type": "code",
      "execution_count": null,
      "metadata": {
        "id": "yjbzFZCCvp08"
      },
      "outputs": [],
      "source": [
        "ticker_mean = seriesIn.mean()\n",
        "ticker_std = seriesIn.std()\n",
        "seriesIn = (seriesIn - ticker_mean) / ticker_std"
      ]
    },
    {
      "cell_type": "code",
      "execution_count": null,
      "metadata": {
        "colab": {
          "base_uri": "https://localhost:8080/"
        },
        "id": "FH7l3FsuuWyc",
        "outputId": "60639dad-e7dd-4826-9a10-b5edf126124b"
      },
      "outputs": [
        {
          "name": "stdout",
          "output_type": "stream",
          "text": [
            "(474, 105)\n",
            "(47925,)\n",
            "Window num: 474\n",
            "Seconds elapsed for first  200 :  0:00:35.370269\n",
            "Total est time based on window num =  0:01:23.827538\n"
          ]
        }
      ],
      "source": [
        "xs,ys,preds = stat_true_window_cross_val(seriesIn, ['auto_arima','complex_smoothing', 'dyn_theta', 'auto_ets'], [new_aaPredFunction, new_cesPredFunction, new_dotPredFunction, new_etsPredFunction], train_window = 100, test_window = 1, verbose = True)\n"
      ]
    },
    {
      "cell_type": "code",
      "execution_count": null,
      "metadata": {
        "id": "tMUSPX8KuaJi"
      },
      "outputs": [],
      "source": [
        "preds = pd.DataFrame(preds)\n",
        "\n",
        "#preds.to_csv('/content/drive/MyDrive/Colab Notebooks/spy2023min5_b100_f1_ACDE.csv', index = False, header =  ['auto_arima','complex_smoothing', 'dyn_theta', 'auto_ets'])"
      ]
    },
    {
      "cell_type": "code",
      "execution_count": 11,
      "metadata": {
        "id": "Ql8LVy1foPmW"
      },
      "outputs": [],
      "source": [
        "def history_plot(history):\n",
        "    FS=18   #FONT SIZE\n",
        "    # PLOTTING THE TRAINING AND VALIDATION LOSS\n",
        "    history_dict = history.history\n",
        "    loss_values = history_dict[\"loss\"]\n",
        "    val_loss_values = history_dict[\"val_loss\"]\n",
        "    epochs = range(1, len(loss_values) + 1)\n",
        "    plt.plot(epochs, loss_values, \"bo\", label=\"Training loss\")\n",
        "    plt.plot(epochs, val_loss_values, \"b\", label=\"Validation loss\")\n",
        "    plt.title(\"Training and validation loss\")\n",
        "    plt.xlabel(\"Epochs\")\n",
        "    plt.ylabel(\"Loss\")\n",
        "    plt.legend()\n",
        "    plt.show()"
      ]
    },
    {
      "cell_type": "code",
      "execution_count": 12,
      "metadata": {
        "id": "VtAPlWf4owQw"
      },
      "outputs": [],
      "source": [
        "def calculate_metrics(window_size, real_data, stat_pred, nn_pred):\n",
        "    # declare values we will calculate when looping through the real data\n",
        "    stat_avg_mse, nn_mse, nn_avg_mse = 0,0,0\n",
        "    # find out how many stat models are in the ensemble\n",
        "    num_stat_mods = int(stat_pred.shape[1] / window_size)\n",
        "\n",
        "    print(num_stat_mods)\n",
        "\n",
        "    for row in range(0, real_data.shape[0]):\n",
        "      for obs in range(0,real_data.shape[1]):\n",
        "\n",
        "        # real value\n",
        "        rv = real_data[row,obs]\n",
        "\n",
        "        # squared error for neural network model\n",
        "        nn_mse += (rv - nn_pred[row,obs]) ** 2\n",
        "\n",
        "        # numerator for stat model avg\n",
        "        stat_numerator = 0\n",
        "\n",
        "        for mod in range(0,num_stat_mods):\n",
        "          # add each models prediction for the given datapoint\n",
        "          stat_numerator += stat_pred[row,obs + (mod*window_size)]\n",
        "\n",
        "        # numerator for the stat+NN ensemble\n",
        "        nn_stat_numerator = stat_numerator + nn_pred[row,obs]\n",
        "\n",
        "        # find the ensemble prediction for the datapoint\n",
        "        stat_avg = stat_numerator / num_stat_mods\n",
        "        nn_stat_avg = nn_stat_numerator / (num_stat_mods + 1)\n",
        "\n",
        "        # calculate the squared error for these ensembles\n",
        "        stat_avg_mse += (rv - stat_avg) ** 2\n",
        "        nn_avg_mse += (rv - nn_stat_avg) ** 2\n",
        "\n",
        "    # find mean square error instead of total\n",
        "    n_obs = real_data.shape[0]\n",
        "    nn_mse = nn_mse / n_obs\n",
        "    stat_avg_mse = stat_avg_mse / n_obs\n",
        "    nn_avg_mse = nn_avg_mse / n_obs\n",
        "\n",
        "    return stat_avg_mse, nn_mse, nn_avg_mse\n",
        "\n"
      ]
    },
    {
      "cell_type": "code",
      "execution_count": 13,
      "metadata": {
        "id": "v-vBqycK5Wmn"
      },
      "outputs": [],
      "source": [
        "def full_single_nn_wrapper2(\n",
        "    nn_modeltype,\n",
        "    nn_task,\n",
        "    train_split,\n",
        "    ticker,\n",
        "    stopping,\n",
        "    model_names = ['auto_arima','complex_smoothing'],\n",
        "    predReturnFunctions = [new_aaPredFunction, new_cesPredFunction],\n",
        "    start_date_in = '2022-06-01',\n",
        "    end_date_in = '2023-09-30',\n",
        "    interval_in = '60m',\n",
        "    split = False,\n",
        "    train_size = 2000,\n",
        "    train_window = 10,\n",
        "    test_window = 1,\n",
        "    epochs_in = 50,\n",
        "    verbose = 1,\n",
        "    LR = 0.0005,\n",
        "    yfinance = True):\n",
        "\n",
        "  # use inputs to get stock data of the requested format\n",
        "  if yfinance == True:\n",
        "\n",
        "    ticker_data = prep_ticker(ticker, intervals = interval_in, start_date = start_date_in, end_date = end_date_in, split = split)\n",
        "\n",
        "  elif yfinance == False:\n",
        "    ticker_data = ticker.copy()\n",
        "\n",
        "  # difference data to test if it makes a 'difference'\n",
        "  # update, differenced data seems to break auto CES\n",
        "  #ticker_data = ticker_data.diff()\n",
        "\n",
        "  # normalize data\n",
        "  ticker_mean = ticker_data.mean()\n",
        "  ticker_std = ticker_data.std()\n",
        "  ticker_data = (ticker_data - ticker_mean) / ticker_std\n",
        "\n",
        "  # break stock data into windows and return statistical model predictions\n",
        "  xs,ys,preds = stat_true_window_cross_val(ticker_data, model_names, predReturnFunctions, train_window, test_window)\n",
        "\n",
        "  # calculate train test split\n",
        "  train_obs = round(xs.shape[0] * train_split)\n",
        "\n",
        "  if nn_task == \"regression\":\n",
        "\n",
        "    # divide matrices\n",
        "    x_train_dat = xs[0:train_obs,:]\n",
        "    x_val_dat = xs[train_obs:xs.shape[0],:]\n",
        "    y_train_dat = ys[0:train_obs,:]\n",
        "    y_val_dat = ys[train_obs:ys.shape[0],:]\n",
        "    stat_train = preds[0:train_obs,:]\n",
        "    stat_val = preds[train_obs:preds.shape[0],:]\n",
        "\n",
        "  if nn_task == \"classification\":\n",
        "\n",
        "    # generate categorical outcome data (which model was optimal) if task is classification\n",
        "    # only works with 1-ahead windows for now\n",
        "    stat_model_number = len(model_names)\n",
        "    y_optimals = np.zeros(shape = [ys.shape[0], stat_model_number])\n",
        "\n",
        "    #iterate through the occurences to find optimal model in the ensemble in each\n",
        "    errors = np.zeros(shape = preds.shape)\n",
        "    for i in range(0, y_optimals.shape[0]):\n",
        "      yval = ys[i,0]\n",
        "      #print(\"error shape: \", errors.shape)\n",
        "      for j in range(0, errors.shape[1]):\n",
        "        errors[i,j] = yval - preds[i,j]\n",
        "\n",
        "      y_optimals[i, np.argmin(errors[i,:], axis=0)] = 1\n",
        "\n",
        "    # divide matrices, saving both cateogrical and regression info\n",
        "    x_train_dat = xs[0:train_obs,:]\n",
        "    x_val_dat = xs[train_obs:xs.shape[0],:]\n",
        "    y_train_dat = y_optimals[0:train_obs,:]\n",
        "    y_train_reg_real = ys[0:train_obs,:]\n",
        "    y_val_dat = y_optimals[train_obs:ys.shape[0],:]\n",
        "    y_val_reg_real = ys[train_obs:ys.shape[0],:]\n",
        "    stat_train = preds[0:train_obs,:]\n",
        "    stat_val = preds[train_obs:preds.shape[0],:]\n",
        "\n",
        "\n",
        "  \"\"\"    print(\"val optimals: \")\n",
        "    print(y_val_dat[0:5,:])\n",
        "    print(\"val real\")\n",
        "    print(y_val_reg_real[0:5,:])\n",
        "    print(\"stat val\")\n",
        "    print(stat_val[0:5,:])\n",
        "    print(\"errors\")\n",
        "    print(errors[0:5,:])\n",
        "  \"\"\"\n",
        "\n",
        "  print(\"Train obs: \", x_train_dat.shape[0], \"Val Obs:\", x_val_dat.shape[0])\n",
        "\n",
        "  # train-test split\n",
        "  if verbose == 1:\n",
        "\n",
        "    print(\"TRAIN SHAPE: \", x_train_dat.shape)\n",
        "    print(\"VAL SHAPE: \", x_val_dat.shape)\n",
        "\n",
        "\n",
        "\n",
        "\n",
        "  # set up neural network for the given data\n",
        "\n",
        "  # Include stat preds into the data (will be for one type of CV and included in if-statement later)\n",
        "  x_train_dat = np.concatenate([x_train_dat, stat_train], axis = 1)\n",
        "  x_val_dat = np.concatenate([x_val_dat, stat_val], axis = 1)\n",
        "\n",
        "\n",
        "\n",
        "\n",
        "  # declare a sequential model\n",
        "  model = Sequential()\n",
        "\n",
        "  if nn_modeltype == \"feedforward\" and nn_task == \"regression\":\n",
        "\n",
        "    # create a simple linear feed forward model\n",
        "    model.add(layers.Dense(32, activation='relu',input_shape=[x_train_dat.shape[1],]))\n",
        "    # This layer is the recurent layer, which returns all previous data\n",
        "    model.add(layers.Dense(128, kernel_regularizer=regularizers.L1L2(l1=L1, l2=L2)))\n",
        "\n",
        "    # layer that reads the recurent layer\n",
        "    model.add(layers.Dense(y_train_dat.shape[1]))\n",
        "    model.compile(optimizer=RMSprop(learning_rate = LR), loss='mse')\n",
        "\n",
        "  if nn_modeltype == \"feedforward\" and nn_task == \"classification\":\n",
        "    cce = keras.losses.CategoricalCrossentropy()\n",
        "\n",
        "    # create a simple linear feed forward model\n",
        "    model.add(layers.Dense(32, activation='relu',input_shape=[x_train_dat.shape[1],]))\n",
        "    # This layer is the recurent layer, which returns all previous data\n",
        "    model.add(layers.Dense(64, kernel_regularizer=regularizers.L1L2(l1=L1, l2=L2)))\n",
        "\n",
        "    # layer that reads the recurent layer\n",
        "    model.add(layers.Dense(y_train_dat.shape[1], activation = \"softmax\"))\n",
        "    model.compile(optimizer=RMSprop(learning_rate = LR), loss=cce)\n",
        "\n",
        "\n",
        "\n",
        "  # run NN model\n",
        "  test_one = model.fit(x = x_train_dat,\n",
        "                      y = y_train_dat,\n",
        "                      steps_per_epoch = x_train_dat.shape[0],\n",
        "                      epochs= epochs_in,\n",
        "                      batch_size = 1,\n",
        "                      validation_data= (x_val_dat, y_val_dat),\n",
        "                      callbacks=[stopping],\n",
        "                      validation_steps= x_val_dat.shape[0],\n",
        "                      verbose = 1)\n",
        "  # print plot training graph\n",
        "  if verbose == 1:\n",
        "    history_plot(test_one)\n",
        "\n",
        "  # get NN predictions\n",
        "  nn_preds = model.predict(x_val_dat)\n",
        "\n",
        "  print(\"NN pred shape\", nn_preds.shape)\n",
        "  print(\"Y Shape Uncollapsed\", y_val_dat.shape )\n",
        "\n",
        "\n",
        "  if nn_task == \"regression\":\n",
        "\n",
        "    stat_avg_mse, nn_mse, nn_avg_mse = calculate_metrics(test_window, y_val_dat, stat_val, nn_preds)\n",
        "\n",
        "    # take the most recent x observation and predict it again\n",
        "    xval  = xs[train_obs:xs.shape[0],]\n",
        "    nochange_pred = xval[:,(xs.shape[1]-1)]\n",
        "    # take the diff from obs before last to last obs and make that diff again\n",
        "    linearstep_pred = nochange_pred + (nochange_pred - (xval[:,(xs.shape[1]-2)]))\n",
        "    # predict the average of last 5 points\n",
        "    meanreversion_pred = np.mean(xval[:,0:6], axis = 1)\n",
        "\n",
        "\n",
        "    print(\"STAT VAL ENSEMBLE MSE: \", stat_avg_mse)\n",
        "    print(\"NN VAL MODEL MSE: \", nn_mse)\n",
        "    print(\"NN+STAT VAL ENSEMBLE MSE: \", nn_avg_mse)\n",
        "    print(\"NO CHANGE MSE:\", mean_squared_error(y_val_dat, nochange_pred))\n",
        "    print(\"Linear Change MSE:\", mean_squared_error(y_val_dat, linearstep_pred))\n",
        "    print(\"Mean Pred MSE:\", mean_squared_error(y_val_dat, meanreversion_pred))\n",
        "\n",
        "    return stat_avg_mse, nn_mse, nn_avg_mse\n",
        "\n",
        "  # for classification tasks, turn optimal model prediction (categorical) back into regression prediction\n",
        "  if nn_task == \"classification\":\n",
        "    print(\"unedited preds\")\n",
        "    print(nn_preds[0:5,])\n",
        "\n",
        "    real_preds = np.zeros(shape = [nn_preds.shape[0],1])\n",
        "    for row in range(0,nn_preds.shape[0]):\n",
        "\n",
        "      real_preds[row,0] = stat_val[row, np.argmax(np.absolute(nn_preds[row,:]), axis=0)]\n",
        "\n",
        "    nn_preds = real_preds\n",
        "\n",
        "\n",
        "    print(\"Y Shape Reshapen\", nn_preds.shape)\n",
        "    print(nn_preds[0:5])\n",
        "    print(\"Stat Preds\")\n",
        "    print(stat_val[0:5,:])\n",
        "    print(\"Real Ys\")\n",
        "    print(y_val_reg_real[0:5])\n",
        "\n",
        "    stat_avg_mse, nn_mse, nn_avg_mse = calculate_metrics(test_window, y_val_reg_real, stat_val, nn_preds)\n",
        "\n",
        "\n",
        "    print(\"STAT VAL ENSEMBLE MSE: \", stat_avg_mse)\n",
        "    print(\"NN VAL MODEL MSE: \", nn_mse)\n",
        "    print(\"NN+STAT VAL ENSEMBLE MSE: \", nn_avg_mse)\n",
        "\n",
        "\n",
        "    return stat_avg_mse, nn_mse, nn_avg_mse"
      ]
    },
    {
      "cell_type": "code",
      "execution_count": 14,
      "metadata": {
        "id": "pgZZ6xhFKoTW"
      },
      "outputs": [],
      "source": [
        "def simple_windows(unsplitdata, train_window = 10, test_window = 1):\n",
        "    totalPredictions = pd.Series(dtype = 'float64')\n",
        "    windows = len(unsplitdata) // (train_window + test_window)\n",
        "    columns = train_window + test_window\n",
        "\n",
        "    pred_df = np.zeros([windows, columns])\n",
        "    print(pred_df.shape)\n",
        "\n",
        "    unsplitdata = np.array(unsplitdata)\n",
        "    unsplitdata = unsplitdata.reshape((unsplitdata.shape[0],))\n",
        "    print(unsplitdata.shape)\n",
        "\n",
        "    print(\"Window num:\", windows)\n",
        "\n",
        "    # indexes loop through the data\n",
        "    predictionIndex = 0\n",
        "    startindex = 0\n",
        "\n",
        "    start_time = time.perf_counter()\n",
        "\n",
        "    for i in range(0, windows):\n",
        "\n",
        "        train_window_dat = unsplitdata[startindex:(startindex+train_window)]\n",
        "        test_window_dat = unsplitdata[(startindex+train_window ): (test_window + startindex+train_window)]\n",
        "\n",
        "        startindex = startindex + train_window + test_window\n",
        "\n",
        "        pred_df[i,0:train_window] = np.reshape(train_window_dat, [train_window])\n",
        "        pred_df[i,(train_window):(train_window + test_window)] = test_window_dat\n",
        "\n",
        "\n",
        "    # currently configured to split up data into 3 matrices instead of returning together\n",
        "    x_windows = pred_df[:,0:train_window]\n",
        "    real_ys = pred_df[:,train_window:(train_window + test_window)]\n",
        "\n",
        "    return x_windows, real_ys\n"
      ]
    },
    {
      "cell_type": "code",
      "execution_count": 15,
      "metadata": {
        "id": "rOodCQAZ0slA"
      },
      "outputs": [],
      "source": [
        "def build_model(model_dictlist, input, output):\n",
        "\n",
        "  model = Sequential()\n",
        "\n",
        "  for i, entry in enumerate(model_dictlist):\n",
        "\n",
        "    if i == 0:\n",
        "      # add correct input size if it's the first layer\n",
        "      model.add(layers.Dense(entry['size'], activation=entry['act'],input_shape=input))\n",
        "    elif  i == len(model_dictlist)-1:\n",
        "      # add correct output size if it's the last layer\n",
        "      model.add(layers.Dense(output))\n",
        "    else:\n",
        "      # otherwise just add a regular dense layer\n",
        "      if entry['reg'] == False:\n",
        "        model.add(layers.Dense(entry['size'], activation=entry['act']))\n",
        "      else:\n",
        "        model.add(layers.Dense(entry['size'], activation=entry['act'], kernel_regularizer = entry['reg']))\n",
        "\n",
        "  return model\n"
      ]
    },
    {
      "cell_type": "code",
      "execution_count": 30,
      "metadata": {
        "id": "T5zVaXrrI7Lb"
      },
      "outputs": [],
      "source": [
        "\n",
        "def nn_kfold(nn_model_dictlist, compile_params, fit_params, folds, xdat, ydat, statpreds, trainratio = 0.5, sametrainsize = False, control = False):\n",
        "  # this function fits a NN model over K folds, and returns average performance stats\n",
        "  # it does not randomly assign, but rather adds increasingly more data to model\n",
        "  # splits data into K+1 folds (as we cannot use the first fold as validation since no data proceedes it)\n",
        "  # control decides whether stat models are included as predictors for the data\n",
        "\n",
        "  # divisions are the folds + 1\n",
        "  divs = folds + 1\n",
        "\n",
        "  # get size of each fold\n",
        "  fold_size = xdat.shape[0] // divs\n",
        "\n",
        "  # print number of obs that will be clipped\n",
        "  print(\"Folds will clip: \", xdat.shape[0] - (fold_size * divs), \" obs\")\n",
        "\n",
        "  # initialize the model stats we will return\n",
        "  train_mse = []\n",
        "  train_mse_history = []\n",
        "  val_mse = []\n",
        "  val_mse_history = []\n",
        "\n",
        "  # keep track of sliding windows\n",
        "  #train_start = 0\n",
        "  #val_start = fold_size\n",
        "  #val_end = fold_size * 2\n",
        "\n",
        "  fold_start = 0\n",
        "  fold_end = fold_size\n",
        "  train_end = math.floor(fold_size * trainratio)\n",
        "\n",
        "\n",
        "  # combine xdata with statpreds\n",
        "  print(\"X Data Shape: \", xdat.shape)\n",
        "  if control == False:\n",
        "    xdat = np.concatenate((xdat, statpreds), axis = 1)\n",
        "  print(\"X Data Shape after joining statpreds: \", xdat.shape)\n",
        "\n",
        "  for i in range(0,folds):\n",
        "\n",
        "    # this section decides whether each fold adds in more data or not (ie. keeps building training window)\n",
        "    x_train_fold = []\n",
        "    y_train_fold = []\n",
        "\n",
        "    if sametrainsize == True:\n",
        "      # if all folds are supposed to be the same, don't start at beginning of dataset\n",
        "      x_train_fold  = xdat[fold_start:train_end,:]\n",
        "      y_train_fold = ydat[fold_start:train_end]\n",
        "    elif sametrainsize == False:\n",
        "      # otherwise, start from zero\n",
        "      x_train_fold = xdat[0:train_end,:]\n",
        "      y_train_fold = ydat[0:train_end]\n",
        "\n",
        "    x_val_fold = xdat[train_end:fold_end,:]\n",
        "    y_val_fold = ydat[train_end:fold_end]\n",
        "\n",
        "    # debug printing\n",
        "    print(\"Fold: \", i, \" Train shape: \", x_train_fold.shape[0], \" Val Shape: \", x_val_fold.shape[0] )\n",
        "\n",
        "    #print(\"First train obs: \", x_train_fold[0,:], \"First Val obs: \", x_val_fold[0,:])\n",
        "    # HARD CODED FOR 1-Step AHEAD at the moment\n",
        "    foldModel = build_model(nn_model_dictlist, [x_train_fold.shape[1],], 1)\n",
        "\n",
        "    # use compile dictionary to compile the model as desired\n",
        "    foldModel.compile(optimizer = compile_params['optimizer'], loss = compile_params['loss'])\n",
        "\n",
        "    modelOut = foldModel.fit(x = x_train_fold,\n",
        "                      y = y_train_fold,\n",
        "                      steps_per_epoch = x_train_fold.shape[0],\n",
        "                      epochs= fit_params['epochs'],\n",
        "                      batch_size = 1,\n",
        "                      validation_data= (x_val_fold, y_val_fold),\n",
        "                      callbacks= fit_params[\"callback\"],\n",
        "                      validation_batch_size = x_val_fold.shape[0],\n",
        "                      validation_steps= 1,\n",
        "                      verbose = fit_params['verbose'])\n",
        "\n",
        "    hist = modelOut.history\n",
        "\n",
        "\n",
        "    train_mse.append(hist['loss'][len(hist['loss'])-1])\n",
        "    val_mse.append(hist['val_loss'][len(hist['val_loss'])-1])\n",
        "\n",
        "\n",
        "    train_mse_history.append([hist['loss']])\n",
        "    val_mse_history.append([hist['val_loss']])\n",
        "\n",
        "    tf.keras.backend.clear_session()\n",
        "\n",
        "    # update window values for next fold\n",
        "    fold_end += fold_size\n",
        "    fold_start += fold_size\n",
        "    train_end += fold_size\n",
        "\n",
        "  plt.figure(0)\n",
        "  plt.title(\"Validation MSE\")\n",
        "  for i, history in enumerate(val_mse_history):\n",
        "      #print(history)\n",
        "      plt.plot(range(0,len(history[0])),history[0], label = str(i))\n",
        "  plt.legend()\n",
        "\n",
        "  plt.figure(1)\n",
        "  plt.title(\"Train MSE\")\n",
        "  for i, history in enumerate(train_mse_history):\n",
        "      #print(history)\n",
        "      plt.plot(range(0,len(history[0])),history[0], label = str(i))\n",
        "  plt.legend()\n",
        "  #train_mse_history = np.divide(train_mse_history, fit_params['epochs'])\n",
        "\n",
        "  print(\"Val Loss: \", sum(val_mse)/len(val_mse), \"Train Loss: \", sum(train_mse)/len(train_mse))\n",
        "  #plt.plot(range(0,fit_params['epochs']),train_mse_history)\n",
        "  #ax = plt.gca()\n",
        "  #ax.set_ylim([0, 0.1])\n",
        "  plt.yscale(\"log\")\n",
        "\n"
      ]
    },
    {
      "cell_type": "code",
      "execution_count": 51,
      "metadata": {
        "id": "JEvBUsObjZGq"
      },
      "outputs": [],
      "source": [
        "def evaluate_nn_architecture(nn_model_dictlist, compile_params, fit_params, xtrain, ytrain, xtest, ytest, stattrain, stattest, windowsize, control = False):\n",
        "    # this function is used to test a given neural network model architecture\n",
        "\n",
        "\n",
        "    # PUT BEFORE STAT OBS ARE CONCATENATED SO THEY USE TIME SERIES DATA\n",
        "    # take the most recent x observation and predict it again\n",
        "    nochange_pred = xtest[:,(xtest.shape[1]-1)]\n",
        "    # take the diff from obs before last to last obs and make that diff again\n",
        "    linearstep_pred = nochange_pred + (nochange_pred - (xtest[:,(xtest.shape[1]-2)]))\n",
        "    # predict the average of last 5 points\n",
        "    meanreversion_pred = np.mean(xtest[:,:-6], axis = 1)\n",
        "\n",
        "    # use control parameter to decide whether to include stat model predictions\n",
        "    if control == False:\n",
        "      xtrain = np.concatenate((xtrain, stattrain), axis = 1)\n",
        "      xtest = np.concatenate((xtest, stattest), axis = 1)\n",
        "\n",
        "    foldModel = build_model(nn_model_dictlist, [xtest.shape[1],], 1)\n",
        "\n",
        "\n",
        "\n",
        "    # use compile dictionary to compile the model as desired\n",
        "    foldModel.compile(optimizer = compile_params['optimizer'], loss = compile_params['loss'])\n",
        "\n",
        "    modelOut = foldModel.fit(x = xtrain,\n",
        "                      y = ytrain,\n",
        "                      steps_per_epoch = xtrain.shape[0],\n",
        "                      epochs= fit_params['epochs'],\n",
        "                      batch_size = 1,\n",
        "                      callbacks= fit_params[\"callback\"],\n",
        "                      verbose = fit_params['verbose'])\n",
        "\n",
        "    test_full_preds = foldModel.predict(xtest)\n",
        "\n",
        "    stat_avg_mse, nn_mse, nn_avg_mse = calculate_metrics(window_size = windowsize, real_data = ytest, stat_pred = stattest, nn_pred = test_full_preds)\n",
        "\n",
        "\n",
        "    plt.plot((test_full_preds - nochange_pred ), (ytest- nochange_pred))\n",
        "\n",
        "\n",
        "\n",
        "\n",
        "    print(\"STAT VAL ENSEMBLE MSE: \", stat_avg_mse)\n",
        "    print(\"NN VAL MODEL MSE: \", nn_mse)\n",
        "    print(\"NN+STAT VAL ENSEMBLE MSE: \", nn_avg_mse)\n",
        "    print(\"NO CHANGE MSE:\", mean_squared_error(ytest, nochange_pred))\n",
        "    print(\"Linear Change MSE:\", mean_squared_error(ytest, linearstep_pred))\n",
        "    print(\"Mean Pred MSE:\", mean_squared_error(ytest, meanreversion_pred))"
      ]
    },
    {
      "cell_type": "code",
      "execution_count": 39,
      "metadata": {
        "id": "YsFFeRXv5UU4"
      },
      "outputs": [],
      "source": [
        "# Prep X/Y Data\n",
        "spyFullmin5 = pd.read_csv(\"/content/drive/MyDrive/Colab Notebooks/spy2023min1.csv\")\n",
        "seriesIn = pd.Series(spyFullmin5['close'])\n",
        "ticker_mean = seriesIn.mean()\n",
        "ticker_std = seriesIn.std()\n",
        "seriesIn = (seriesIn - ticker_mean) / ticker_std\n"
      ]
    },
    {
      "cell_type": "code",
      "execution_count": 40,
      "metadata": {
        "colab": {
          "base_uri": "https://localhost:8080/"
        },
        "id": "xosVS_Te5d0X",
        "outputId": "a42af042-9cb8-4369-cbf0-f8122559dac4"
      },
      "outputs": [
        {
          "output_type": "stream",
          "name": "stdout",
          "text": [
            "(10779, 21)\n",
            "(226362,)\n",
            "Window num: 10779\n",
            "(10779, 20)\n",
            "(10779, 1)\n"
          ]
        }
      ],
      "source": [
        "xdat, ydat = simple_windows(seriesIn, train_window = 20, test_window = 1)\n",
        "print(xdat.shape)\n",
        "print(ydat.shape)"
      ]
    },
    {
      "cell_type": "code",
      "execution_count": 41,
      "metadata": {
        "id": "YgQGaL_v51su"
      },
      "outputs": [],
      "source": [
        "statpredsIn = pd.read_csv(\"/content/drive/MyDrive/Colab Notebooks/spy2023min1_b20_f1_ACDE.csv\")\n",
        "statpredsIn = statpredsIn.to_numpy()"
      ]
    },
    {
      "cell_type": "code",
      "execution_count": 42,
      "metadata": {
        "colab": {
          "base_uri": "https://localhost:8080/"
        },
        "id": "ZMBs0yYU6Jak",
        "outputId": "c89ba973-4f33-4454-c7a0-3b675d91e729"
      },
      "outputs": [
        {
          "output_type": "stream",
          "name": "stdout",
          "text": [
            "(10779, 4)\n"
          ]
        }
      ],
      "source": [
        "print(statpredsIn.shape)"
      ]
    },
    {
      "cell_type": "code",
      "execution_count": 50,
      "metadata": {
        "colab": {
          "base_uri": "https://localhost:8080/",
          "height": 1000
        },
        "id": "PpTLEcoZ0JkC",
        "outputId": "4c94c7e9-5ede-4632-834b-74072b715696"
      },
      "outputs": [
        {
          "output_type": "stream",
          "name": "stdout",
          "text": [
            "Folds will clip:  1  obs\n",
            "X Data Shape:  (7545, 20)\n",
            "X Data Shape after joining statpreds:  (7545, 24)\n",
            "Fold:  0  Train shape:  1508  Val Shape:  378\n",
            "Epoch 1/20\n",
            "1508/1508 [==============================] - 41s 27ms/step - loss: 0.1595 - val_loss: 0.0192\n",
            "Epoch 2/20\n",
            "1508/1508 [==============================] - 4s 3ms/step - loss: 0.0108 - val_loss: 0.0080\n",
            "Epoch 3/20\n",
            "1508/1508 [==============================] - 3s 2ms/step - loss: 0.0034 - val_loss: 0.0017\n",
            "Epoch 4/20\n",
            "1508/1508 [==============================] - 3s 2ms/step - loss: 0.0020 - val_loss: 0.0019\n",
            "Epoch 5/20\n",
            "1508/1508 [==============================] - 4s 2ms/step - loss: 0.0017 - val_loss: 0.0015\n",
            "Epoch 6/20\n",
            "1508/1508 [==============================] - 4s 3ms/step - loss: 0.0015 - val_loss: 7.8691e-04\n",
            "Epoch 7/20\n",
            "1508/1508 [==============================] - 3s 2ms/step - loss: 0.0014 - val_loss: 0.0010\n",
            "Epoch 8/20\n",
            "1508/1508 [==============================] - 3s 2ms/step - loss: 0.0014 - val_loss: 9.1904e-04\n",
            "Epoch 9/20\n",
            "1508/1508 [==============================] - 4s 3ms/step - loss: 0.0013 - val_loss: 0.0010\n",
            "Epoch 10/20\n",
            "1508/1508 [==============================] - 4s 3ms/step - loss: 0.0013 - val_loss: 0.0018\n",
            "Epoch 11/20\n",
            "1508/1508 [==============================] - 3s 2ms/step - loss: 0.0013 - val_loss: 7.2817e-04\n",
            "Epoch 12/20\n",
            "1508/1508 [==============================] - 4s 3ms/step - loss: 0.0012 - val_loss: 6.7696e-04\n",
            "Epoch 13/20\n",
            "1508/1508 [==============================] - 4s 3ms/step - loss: 0.0012 - val_loss: 0.0023\n",
            "Epoch 14/20\n",
            "1508/1508 [==============================] - 3s 2ms/step - loss: 0.0012 - val_loss: 5.8766e-04\n",
            "Epoch 15/20\n",
            "1508/1508 [==============================] - 3s 2ms/step - loss: 0.0012 - val_loss: 5.8551e-04\n",
            "Epoch 16/20\n",
            "1508/1508 [==============================] - 4s 3ms/step - loss: 0.0011 - val_loss: 5.9679e-04\n",
            "Epoch 17/20\n",
            "1508/1508 [==============================] - 3s 2ms/step - loss: 0.0012 - val_loss: 6.3369e-04\n",
            "Epoch 18/20\n",
            "1508/1508 [==============================] - 3s 2ms/step - loss: 0.0011 - val_loss: 8.2967e-04\n",
            "Epoch 19/20\n",
            "1508/1508 [==============================] - 3s 2ms/step - loss: 0.0011 - val_loss: 5.4375e-04\n",
            "Epoch 20/20\n",
            "1508/1508 [==============================] - 4s 3ms/step - loss: 0.0011 - val_loss: 6.5091e-04\n",
            "Fold:  1  Train shape:  1508  Val Shape:  378\n",
            "Epoch 1/20\n",
            "1508/1508 [==============================] - 4s 2ms/step - loss: 0.1525 - val_loss: 0.0119\n",
            "Epoch 2/20\n",
            "1508/1508 [==============================] - 4s 2ms/step - loss: 0.0063 - val_loss: 0.0024\n",
            "Epoch 3/20\n",
            "1508/1508 [==============================] - 4s 3ms/step - loss: 0.0023 - val_loss: 0.0012\n",
            "Epoch 4/20\n",
            "1508/1508 [==============================] - 3s 2ms/step - loss: 0.0016 - val_loss: 8.2760e-04\n",
            "Epoch 5/20\n",
            "1508/1508 [==============================] - 3s 2ms/step - loss: 0.0014 - val_loss: 0.0016\n",
            "Epoch 6/20\n",
            "1508/1508 [==============================] - 3s 2ms/step - loss: 0.0013 - val_loss: 6.3573e-04\n",
            "Epoch 7/20\n",
            "1508/1508 [==============================] - 4s 3ms/step - loss: 0.0012 - val_loss: 5.7993e-04\n",
            "Epoch 8/20\n",
            "1508/1508 [==============================] - 4s 2ms/step - loss: 0.0012 - val_loss: 0.0017\n",
            "Epoch 9/20\n",
            "1508/1508 [==============================] - 4s 2ms/step - loss: 0.0011 - val_loss: 5.2676e-04\n",
            "Epoch 10/20\n",
            "1508/1508 [==============================] - 4s 3ms/step - loss: 0.0011 - val_loss: 7.3519e-04\n",
            "Epoch 11/20\n",
            "1508/1508 [==============================] - 4s 2ms/step - loss: 0.0011 - val_loss: 4.8896e-04\n",
            "Epoch 12/20\n",
            "1508/1508 [==============================] - 3s 2ms/step - loss: 0.0010 - val_loss: 4.5807e-04\n",
            "Epoch 13/20\n",
            "1508/1508 [==============================] - 3s 2ms/step - loss: 0.0010 - val_loss: 5.5868e-04\n",
            "Epoch 14/20\n",
            "1508/1508 [==============================] - 4s 3ms/step - loss: 0.0010 - val_loss: 4.7085e-04\n",
            "Epoch 15/20\n",
            "1508/1508 [==============================] - 3s 2ms/step - loss: 9.8339e-04 - val_loss: 5.3677e-04\n",
            "Epoch 16/20\n",
            "1508/1508 [==============================] - 3s 2ms/step - loss: 9.6061e-04 - val_loss: 4.4504e-04\n",
            "Epoch 17/20\n",
            "1508/1508 [==============================] - 4s 3ms/step - loss: 9.3871e-04 - val_loss: 0.0025\n",
            "Epoch 18/20\n",
            "1508/1508 [==============================] - 6s 4ms/step - loss: 9.2333e-04 - val_loss: 4.3820e-04\n",
            "Epoch 19/20\n",
            "1508/1508 [==============================] - 3s 2ms/step - loss: 9.0936e-04 - val_loss: 4.0465e-04\n",
            "Epoch 20/20\n",
            "1508/1508 [==============================] - 3s 2ms/step - loss: 8.5094e-04 - val_loss: 7.6767e-04\n",
            "Fold:  2  Train shape:  1508  Val Shape:  378\n",
            "Epoch 1/20\n",
            "1508/1508 [==============================] - 4s 2ms/step - loss: 0.1133 - val_loss: 0.0047\n",
            "Epoch 2/20\n",
            "1508/1508 [==============================] - 4s 3ms/step - loss: 0.0015 - val_loss: 0.0021\n",
            "Epoch 3/20\n",
            "1508/1508 [==============================] - 4s 3ms/step - loss: 0.0013 - val_loss: 0.0026\n",
            "Epoch 4/20\n",
            "1508/1508 [==============================] - 3s 2ms/step - loss: 0.0013 - val_loss: 0.0019\n",
            "Epoch 5/20\n",
            "1508/1508 [==============================] - 3s 2ms/step - loss: 0.0013 - val_loss: 0.0016\n",
            "Epoch 6/20\n",
            "1508/1508 [==============================] - 4s 3ms/step - loss: 0.0012 - val_loss: 0.0016\n",
            "Epoch 7/20\n",
            "1508/1508 [==============================] - 3s 2ms/step - loss: 0.0011 - val_loss: 7.3974e-04\n",
            "Epoch 8/20\n",
            "1508/1508 [==============================] - 3s 2ms/step - loss: 0.0011 - val_loss: 5.4106e-04\n",
            "Epoch 9/20\n",
            "1508/1508 [==============================] - 3s 2ms/step - loss: 0.0011 - val_loss: 0.0053\n",
            "Epoch 10/20\n",
            "1508/1508 [==============================] - 4s 3ms/step - loss: 0.0010 - val_loss: 7.3658e-04\n",
            "Epoch 11/20\n",
            "1508/1508 [==============================] - 3s 2ms/step - loss: 9.7716e-04 - val_loss: 0.0077\n",
            "Epoch 12/20\n",
            "1508/1508 [==============================] - 3s 2ms/step - loss: 9.5585e-04 - val_loss: 0.0012\n",
            "Epoch 13/20\n",
            "1508/1508 [==============================] - 4s 3ms/step - loss: 9.1102e-04 - val_loss: 4.9759e-04\n",
            "Epoch 14/20\n",
            "1508/1508 [==============================] - 4s 2ms/step - loss: 8.6794e-04 - val_loss: 0.0033\n",
            "Epoch 15/20\n",
            "1508/1508 [==============================] - 3s 2ms/step - loss: 8.7507e-04 - val_loss: 8.3373e-04\n",
            "Epoch 16/20\n",
            "1508/1508 [==============================] - 3s 2ms/step - loss: 8.0933e-04 - val_loss: 0.0015\n",
            "Epoch 17/20\n",
            "1508/1508 [==============================] - 4s 3ms/step - loss: 7.7064e-04 - val_loss: 0.0030\n",
            "Epoch 18/20\n",
            "1508/1508 [==============================] - 3s 2ms/step - loss: 7.9517e-04 - val_loss: 6.3539e-04\n",
            "Val Loss:  0.0006846556789241731 Train Loss:  0.0009040623748054107\n"
          ]
        },
        {
          "output_type": "display_data",
          "data": {
            "text/plain": [
              "<Figure size 640x480 with 1 Axes>"
            ],
            "image/png": "[encoded data removed]"
          },
          "metadata": {}
        },
        {
          "output_type": "display_data",
          "data": {
            "text/plain": [
              "<Figure size 640x480 with 1 Axes>"
            ],
            "image/png": "[encoded data removed]"
          },
          "metadata": {}
        }
      ],
      "source": [
        "callback = keras.callbacks.EarlyStopping(monitor='val_loss',patience=5)\n",
        "\n",
        "\n",
        "fit_params = {\n",
        "    'epochs': 20,\n",
        "    'callback': callback,\n",
        "    'verbose': True\n",
        "}\n",
        "#, clipnorm = 0.5, clipvalue = 0.5\n",
        "stored_opt = RMSprop(learning_rate = 0.0002)\n",
        "compile_params = {\n",
        "    'optimizer': stored_opt,\n",
        "    'loss': 'mse'\n",
        "}\n",
        "\n",
        "# documentation for each entry in the dictlist\n",
        "# each entry represents a model layer, with structure in the following order\n",
        "# 1 - number of neurons, 2 - activation function, 3 - regularization\n",
        "# 3 is false if not included, object if included\n",
        "L1 = 0\n",
        "L2 = 0.01\n",
        "reg = regularizers.L1L2(l1=L1, l2=L2)\n",
        "\n",
        "model_format_dictlist = [\n",
        "    {'size': 64, 'act': 'relu', 'reg': reg},\n",
        "    {'size': 512, 'act': 'relu','reg': reg},\n",
        "    {'act': 'relu'}\n",
        "   ]\n",
        "\n",
        "# divide data into training and test\n",
        "testhold = math.floor(xdat.shape[0] * 0.7)\n",
        "xdatv = xdat[0:testhold,:]\n",
        "ydatv = ydat[0:testhold]\n",
        "xtest = xdat[testhold:,:]\n",
        "ytest = ydat[testhold:]\n",
        "statv = statpredsIn[0:testhold,:]\n",
        "stattest = statpredsIn[testhold:,:]\n",
        "\n",
        "\n",
        "nn_kfold(nn_model_dictlist = model_format_dictlist,\n",
        "         compile_params = compile_params,\n",
        "         fit_params = fit_params,\n",
        "         folds = 3,\n",
        "         xdat = xdatv,\n",
        "         ydat = ydatv,\n",
        "         statpreds = statv,\n",
        "         trainratio = 0.8,\n",
        "         sametrainsize = True,\n",
        "         control = False)\n",
        "\n",
        "\n",
        "\n"
      ]
    },
    {
      "cell_type": "code",
      "execution_count": 52,
      "metadata": {
        "colab": {
          "base_uri": "https://localhost:8080/",
          "height": 1000
        },
        "id": "m7X_3Gl04PXC",
        "outputId": "f5b64e3a-3733-428d-f5c2-bd2935dd8f43"
      },
      "outputs": [
        {
          "output_type": "stream",
          "name": "stdout",
          "text": [
            "(10779, 4)\n",
            "(10779, 20)\n",
            "(7545, 4)\n",
            "(3234, 4)\n",
            "(3234, 20)\n",
            "Epoch 1/20\n",
            "7545/7545 [==============================] - 19s 2ms/step - loss: 0.0389\n",
            "Epoch 2/20\n",
            "7545/7545 [==============================] - 19s 3ms/step - loss: 0.0024\n",
            "Epoch 3/20\n",
            "7545/7545 [==============================] - 18s 2ms/step - loss: 0.0021\n",
            "Epoch 4/20\n",
            "7545/7545 [==============================] - 19s 2ms/step - loss: 0.0019\n",
            "Epoch 5/20\n",
            "7545/7545 [==============================] - 18s 2ms/step - loss: 0.0017\n",
            "Epoch 6/20\n",
            "7545/7545 [==============================] - 18s 2ms/step - loss: 0.0017\n",
            "Epoch 7/20\n",
            "7545/7545 [==============================] - 19s 2ms/step - loss: 0.0015\n",
            "Epoch 8/20\n",
            "7545/7545 [==============================] - 18s 2ms/step - loss: 0.0014\n",
            "Epoch 9/20\n",
            "7545/7545 [==============================] - 18s 2ms/step - loss: 0.0014\n",
            "Epoch 10/20\n",
            "7545/7545 [==============================] - 18s 2ms/step - loss: 0.0013\n",
            "Epoch 11/20\n",
            "7545/7545 [==============================] - 18s 2ms/step - loss: 0.0013\n",
            "Epoch 12/20\n",
            "7545/7545 [==============================] - 19s 2ms/step - loss: 0.0012\n",
            "Epoch 13/20\n",
            "7545/7545 [==============================] - 18s 2ms/step - loss: 0.0011\n",
            "Epoch 14/20\n",
            "7545/7545 [==============================] - 18s 2ms/step - loss: 0.0011\n",
            "Epoch 15/20\n",
            "7545/7545 [==============================] - 19s 3ms/step - loss: 0.0010\n",
            "Epoch 16/20\n",
            "7545/7545 [==============================] - 17s 2ms/step - loss: 0.0010\n",
            "Epoch 17/20\n",
            "7545/7545 [==============================] - 18s 2ms/step - loss: 9.8886e-04\n",
            "Epoch 18/20\n",
            "7545/7545 [==============================] - 18s 2ms/step - loss: 0.0010\n",
            "Epoch 19/20\n",
            "7545/7545 [==============================] - 18s 2ms/step - loss: 9.8271e-04\n",
            "Epoch 20/20\n",
            "7545/7545 [==============================] - 18s 2ms/step - loss: 9.7730e-04\n",
            "102/102 [==============================] - 0s 1ms/step\n",
            "4\n",
            "STAT VAL ENSEMBLE MSE:  0.00012409687399392655\n",
            "NN VAL MODEL MSE:  0.00038924152235259604\n",
            "NN+STAT VAL ENSEMBLE MSE:  0.0001176802623069792\n",
            "NO CHANGE MSE: 6.2547802776818e-05\n",
            "Linear Change MSE: 0.0010292911199333912\n",
            "Mean Pred MSE: 0.00022266148511591595\n"
          ]
        },
        {
          "output_type": "display_data",
          "data": {
            "text/plain": [
              "<Figure size 640x480 with 1 Axes>"
            ],
            "image/png": "[encoded data removed]"
          },
          "metadata": {}
        }
      ],
      "source": [
        "print(statpredsIn.shape)\n",
        "print(xdat.shape)\n",
        "print(statv.shape)\n",
        "print(stattest.shape)\n",
        "print(xtest.shape)\n",
        "callback = keras.callbacks.EarlyStopping(monitor='loss',patience=5)\n",
        "fit_params = {\n",
        "    'epochs': 20,\n",
        "    'callback': callback,\n",
        "    'verbose': True\n",
        "}\n",
        "\n",
        "\n",
        "evaluate_nn_architecture(nn_model_dictlist = model_format_dictlist,\n",
        "                         compile_params = compile_params,\n",
        "                         fit_params = fit_params,\n",
        "                         xtrain = xdatv,\n",
        "                         ytrain = ydatv,\n",
        "                         xtest = xtest,\n",
        "                         ytest = ytest,\n",
        "                         stattrain = statv,\n",
        "                         stattest = stattest,\n",
        "                         windowsize = 1,\n",
        "                         control = False)\n"
      ]
    },
    {
      "cell_type": "markdown",
      "metadata": {
        "id": "Klo_b31iOH6F"
      },
      "source": [
        "# New DL Examples\n"
      ]
    },
    {
      "cell_type": "code",
      "execution_count": null,
      "metadata": {
        "colab": {
          "base_uri": "https://localhost:8080/"
        },
        "id": "q_8uo6by9shp",
        "outputId": "9fa3a6ca-0197-4d04-db0f-0462d68b8ddf"
      },
      "outputs": [
        {
          "name": "stdout",
          "output_type": "stream",
          "text": [
            "Drive already mounted at /content/drive; to attempt to forcibly remount, call drive.mount(\"/content/drive\", force_remount=True).\n"
          ]
        }
      ],
      "source": [
        "from google.colab import drive\n",
        "drive.mount('/content/drive')\n",
        "\n",
        "spyFullmin5 = pd.read_csv(\"/content/drive/MyDrive/Colab Notebooks/spy2023min5.csv\")\n",
        "#spyFullmin1 = pd.read_csv(\"/content/drive/MyDrive/Colab Notebooks/spy2023min1.csv\")"
      ]
    },
    {
      "cell_type": "code",
      "execution_count": null,
      "metadata": {
        "colab": {
          "base_uri": "https://localhost:8080/",
          "height": 1000
        },
        "id": "STDSoJBf-x3q",
        "outputId": "58be2578-7878-40a2-a0f4-e9ab92f5be46"
      },
      "outputs": [
        {
          "name": "stdout",
          "output_type": "stream",
          "text": [
            "0    380.682\n",
            "1    380.140\n",
            "2    380.682\n",
            "3    380.455\n",
            "4    380.869\n",
            "Name: close, dtype: float64\n",
            "(4356, 13)\n",
            "(47925,)\n",
            "Train obs:  3049 Val Obs: 1307\n",
            "TRAIN SHAPE:  (3049, 10)\n",
            "VAL SHAPE:  (1307, 10)\n",
            "Epoch 1/40\n",
            "3049/3049 [==============================] - 8s 2ms/step - loss: 0.1073 - val_loss: 0.0362\n",
            "Epoch 2/40\n",
            "3049/3049 [==============================] - 7s 2ms/step - loss: 0.0182 - val_loss: 0.0098\n",
            "Epoch 3/40\n",
            "3049/3049 [==============================] - 7s 2ms/step - loss: 0.0061 - val_loss: 0.0045\n",
            "Epoch 4/40\n",
            "3049/3049 [==============================] - 8s 2ms/step - loss: 0.0027 - val_loss: 0.0025\n",
            "Epoch 5/40\n",
            "3049/3049 [==============================] - 6s 2ms/step - loss: 0.0016 - val_loss: 0.0017\n",
            "Epoch 6/40\n",
            "3049/3049 [==============================] - 8s 3ms/step - loss: 0.0012 - val_loss: 0.0026\n",
            "Epoch 7/40\n",
            "3049/3049 [==============================] - 7s 2ms/step - loss: 0.0010 - val_loss: 0.0029\n",
            "Epoch 8/40\n",
            "3049/3049 [==============================] - 7s 2ms/step - loss: 9.1142e-04 - val_loss: 0.0012\n",
            "Epoch 9/40\n",
            "3049/3049 [==============================] - 6s 2ms/step - loss: 8.7442e-04 - val_loss: 0.0012\n",
            "Epoch 10/40\n",
            "3049/3049 [==============================] - 9s 3ms/step - loss: 8.3409e-04 - val_loss: 0.0054\n",
            "Epoch 11/40\n",
            "3049/3049 [==============================] - 7s 2ms/step - loss: 8.1198e-04 - val_loss: 0.0013\n",
            "Epoch 12/40\n",
            "3049/3049 [==============================] - 9s 3ms/step - loss: 8.0495e-04 - val_loss: 0.0011\n",
            "Epoch 13/40\n",
            "3049/3049 [==============================] - 7s 2ms/step - loss: 7.9256e-04 - val_loss: 0.0013\n",
            "Epoch 14/40\n",
            "3049/3049 [==============================] - 8s 3ms/step - loss: 7.7471e-04 - val_loss: 0.0012\n",
            "Epoch 15/40\n",
            "3049/3049 [==============================] - 10s 3ms/step - loss: 7.7475e-04 - val_loss: 0.0027\n",
            "Epoch 16/40\n",
            "3049/3049 [==============================] - 13s 4ms/step - loss: 7.6105e-04 - val_loss: 0.0016\n",
            "Epoch 17/40\n",
            "3049/3049 [==============================] - 7s 2ms/step - loss: 7.5735e-04 - val_loss: 0.0013\n",
            "Epoch 18/40\n",
            "3049/3049 [==============================] - 7s 2ms/step - loss: 7.5030e-04 - val_loss: 0.0010\n",
            "Epoch 19/40\n",
            "3049/3049 [==============================] - 7s 2ms/step - loss: 7.4683e-04 - val_loss: 0.0012\n",
            "Epoch 20/40\n",
            "3049/3049 [==============================] - 9s 3ms/step - loss: 7.4001e-04 - val_loss: 0.0020\n",
            "Epoch 21/40\n",
            "3049/3049 [==============================] - 7s 2ms/step - loss: 7.3488e-04 - val_loss: 0.0016\n",
            "Epoch 22/40\n",
            "3049/3049 [==============================] - 8s 3ms/step - loss: 7.2638e-04 - val_loss: 0.0016\n",
            "Epoch 23/40\n",
            "3049/3049 [==============================] - 8s 3ms/step - loss: 7.2680e-04 - val_loss: 0.0019\n",
            "Epoch 24/40\n",
            "3049/3049 [==============================] - 7s 2ms/step - loss: 7.1351e-04 - val_loss: 0.0024\n",
            "Epoch 25/40\n",
            "3049/3049 [==============================] - 9s 3ms/step - loss: 7.1286e-04 - val_loss: 0.0010\n",
            "Epoch 26/40\n",
            "3049/3049 [==============================] - 7s 2ms/step - loss: 7.0008e-04 - val_loss: 0.0010\n",
            "Epoch 27/40\n",
            "3049/3049 [==============================] - 8s 3ms/step - loss: 6.9655e-04 - val_loss: 0.0017\n",
            "Epoch 28/40\n",
            "3049/3049 [==============================] - 7s 2ms/step - loss: 7.0682e-04 - val_loss: 0.0011\n",
            "Epoch 29/40\n",
            "3049/3049 [==============================] - 8s 3ms/step - loss: 6.8100e-04 - val_loss: 0.0012\n",
            "Epoch 30/40\n",
            "3049/3049 [==============================] - 8s 3ms/step - loss: 6.8585e-04 - val_loss: 0.0024\n",
            "Epoch 31/40\n",
            "3049/3049 [==============================] - 7s 2ms/step - loss: 6.8215e-04 - val_loss: 0.0047\n",
            "Epoch 32/40\n",
            "3049/3049 [==============================] - 9s 3ms/step - loss: 6.6937e-04 - val_loss: 0.0015\n",
            "Epoch 33/40\n",
            "3049/3049 [==============================] - 6s 2ms/step - loss: 6.7834e-04 - val_loss: 0.0020\n",
            "Epoch 34/40\n",
            "3049/3049 [==============================] - 9s 3ms/step - loss: 6.7456e-04 - val_loss: 0.0015\n",
            "Epoch 35/40\n",
            "3049/3049 [==============================] - 7s 2ms/step - loss: 6.8224e-04 - val_loss: 0.0011\n",
            "Epoch 36/40\n",
            "3049/3049 [==============================] - 7s 2ms/step - loss: 6.8240e-04 - val_loss: 0.0017\n",
            "Epoch 37/40\n",
            "3049/3049 [==============================] - 7s 2ms/step - loss: 6.6180e-04 - val_loss: 0.0017\n",
            "Epoch 38/40\n",
            "3049/3049 [==============================] - 8s 2ms/step - loss: 6.7719e-04 - val_loss: 0.0010\n",
            "Epoch 39/40\n",
            "3049/3049 [==============================] - 7s 2ms/step - loss: 6.6603e-04 - val_loss: 0.0033\n",
            "Epoch 40/40\n",
            "3049/3049 [==============================] - 6s 2ms/step - loss: 6.6624e-04 - val_loss: 0.0012\n"
          ]
        },
        {
          "data": {
            "image/png": "[encoded data removed]",
            "text/plain": [
              "<Figure size 640x480 with 1 Axes>"
            ]
          },
          "metadata": {},
          "output_type": "display_data"
        },
        {
          "name": "stdout",
          "output_type": "stream",
          "text": [
            "41/41 [==============================] - 0s 1ms/step\n",
            "NN pred shape (1307, 1)\n",
            "Y Shape Uncollapsed (1307, 1)\n",
            "2\n",
            "STAT VAL ENSEMBLE MSE:  0.0018112996252974253\n",
            "NN VAL MODEL MSE:  0.000968283106841913\n",
            "NN+STAT VAL ENSEMBLE MSE:  0.0013006979894548798\n",
            "NO CHANGE MSE: 0.0006089905491627669\n",
            "Linear Change MSE: 0.0007230814177198985\n",
            "Mean Pred MSE: 0.0011424610199760737\n"
          ]
        },
        {
          "data": {
            "text/plain": [
              "(0.0018112996252974253, 0.000968283106841913, 0.0013006979894548798)"
            ]
          },
          "execution_count": 46,
          "metadata": {},
          "output_type": "execute_result"
        }
      ],
      "source": [
        "seriesIn = pd.Series(spyFullmin5['close'])\n",
        "#seriesIn = seriesIn[:1000]\n",
        "print(seriesIn.head())\n",
        "L1=0\n",
        "L2=5e-3\n",
        "callback = keras.callbacks.EarlyStopping(monitor='val_loss',patience=50)\n",
        "\n",
        "\n",
        "\n",
        "full_single_nn_wrapper2(\n",
        "    \"feedforward\",\n",
        "    \"regression\",\n",
        "    0.7,\n",
        "    seriesIn,\n",
        "    stopping= callback,\n",
        "    model_names = ['auto_arima','complex_smoothing'],\n",
        "    predReturnFunctions = [new_aaPredFunction, new_cesPredFunction],\n",
        "    split = False,\n",
        "    train_size = 2000,\n",
        "    train_window = 10,\n",
        "    test_window = 1,\n",
        "    epochs_in = 40,\n",
        "    verbose = 1,\n",
        "    LR = 0.0001,\n",
        "    yfinance = False)\n"
      ]
    },
    {
      "cell_type": "code",
      "execution_count": null,
      "metadata": {
        "colab": {
          "base_uri": "https://localhost:8080/",
          "height": 1000
        },
        "id": "WQHbj-ELcAbA",
        "outputId": "c4c6e914-2ba5-42a6-a943-255b904096e5"
      },
      "outputs": [
        {
          "name": "stderr",
          "output_type": "stream",
          "text": [
            "\r[*********************100%%**********************]  1 of 1 completed\n"
          ]
        },
        {
          "name": "stdout",
          "output_type": "stream",
          "text": [
            "(24, 130)\n",
            "(2730,)\n",
            "Train obs:  17 Val Obs: 7\n",
            "TRAIN SHAPE:  (17, 100)\n",
            "VAL SHAPE:  (7, 100)\n",
            "Epoch 1/50\n",
            "17/17 [==============================] - 1s 12ms/step - loss: 0.3330 - val_loss: 0.3136\n",
            "Epoch 2/50\n",
            "17/17 [==============================] - 0s 4ms/step - loss: 0.2194 - val_loss: 0.3537\n",
            "Epoch 3/50\n",
            "17/17 [==============================] - 0s 4ms/step - loss: 0.2186 - val_loss: 0.3270\n",
            "Epoch 4/50\n",
            "17/17 [==============================] - 0s 4ms/step - loss: 0.2106 - val_loss: 0.2783\n",
            "Epoch 5/50\n",
            "17/17 [==============================] - 0s 4ms/step - loss: 0.2065 - val_loss: 0.3198\n",
            "Epoch 6/50\n",
            "17/17 [==============================] - 0s 5ms/step - loss: 0.2054 - val_loss: 0.2653\n",
            "Epoch 7/50\n",
            "17/17 [==============================] - 0s 5ms/step - loss: 0.1923 - val_loss: 0.3964\n",
            "Epoch 8/50\n",
            "17/17 [==============================] - 0s 4ms/step - loss: 0.1823 - val_loss: 0.3052\n",
            "Epoch 9/50\n",
            "17/17 [==============================] - 0s 4ms/step - loss: 0.1821 - val_loss: 0.3279\n",
            "Epoch 10/50\n",
            "17/17 [==============================] - 0s 4ms/step - loss: 0.1898 - val_loss: 0.3147\n",
            "Epoch 11/50\n",
            "17/17 [==============================] - 0s 4ms/step - loss: 0.1710 - val_loss: 0.3466\n",
            "Epoch 12/50\n",
            "17/17 [==============================] - 0s 4ms/step - loss: 0.1648 - val_loss: 0.3400\n",
            "Epoch 13/50\n",
            "17/17 [==============================] - 0s 4ms/step - loss: 0.1715 - val_loss: 0.2517\n",
            "Epoch 14/50\n",
            "17/17 [==============================] - 0s 4ms/step - loss: 0.1639 - val_loss: 0.2682\n",
            "Epoch 15/50\n",
            "17/17 [==============================] - 0s 4ms/step - loss: 0.1565 - val_loss: 0.2238\n",
            "Epoch 16/50\n",
            "17/17 [==============================] - 0s 5ms/step - loss: 0.1663 - val_loss: 0.2636\n",
            "Epoch 17/50\n",
            "17/17 [==============================] - 0s 4ms/step - loss: 0.1549 - val_loss: 0.2180\n",
            "Epoch 18/50\n",
            "17/17 [==============================] - 0s 5ms/step - loss: 0.1527 - val_loss: 0.2515\n",
            "Epoch 19/50\n",
            "17/17 [==============================] - 0s 4ms/step - loss: 0.1512 - val_loss: 0.2297\n",
            "Epoch 20/50\n",
            "17/17 [==============================] - 0s 4ms/step - loss: 0.1439 - val_loss: 0.2162\n",
            "Epoch 21/50\n",
            "17/17 [==============================] - 0s 4ms/step - loss: 0.1418 - val_loss: 0.2022\n",
            "Epoch 22/50\n",
            "17/17 [==============================] - 0s 4ms/step - loss: 0.1332 - val_loss: 0.2496\n",
            "Epoch 23/50\n",
            "17/17 [==============================] - 0s 4ms/step - loss: 0.1425 - val_loss: 0.2193\n",
            "Epoch 24/50\n",
            "17/17 [==============================] - 0s 4ms/step - loss: 0.1338 - val_loss: 0.1979\n",
            "Epoch 25/50\n",
            "17/17 [==============================] - 0s 4ms/step - loss: 0.1298 - val_loss: 0.1795\n",
            "Epoch 26/50\n",
            "17/17 [==============================] - 0s 4ms/step - loss: 0.1275 - val_loss: 0.2567\n",
            "Epoch 27/50\n",
            "17/17 [==============================] - 0s 4ms/step - loss: 0.1266 - val_loss: 0.2020\n",
            "Epoch 28/50\n",
            "17/17 [==============================] - 0s 4ms/step - loss: 0.1199 - val_loss: 0.2568\n",
            "Epoch 29/50\n",
            "17/17 [==============================] - 0s 4ms/step - loss: 0.1169 - val_loss: 0.2398\n",
            "Epoch 30/50\n",
            "17/17 [==============================] - 0s 5ms/step - loss: 0.1141 - val_loss: 0.1988\n",
            "Epoch 31/50\n",
            "17/17 [==============================] - 0s 4ms/step - loss: 0.1136 - val_loss: 0.1691\n",
            "Epoch 32/50\n",
            "17/17 [==============================] - 0s 4ms/step - loss: 0.1115 - val_loss: 0.2109\n",
            "Epoch 33/50\n",
            "17/17 [==============================] - 0s 4ms/step - loss: 0.1030 - val_loss: 0.2248\n",
            "Epoch 34/50\n",
            "17/17 [==============================] - 0s 4ms/step - loss: 0.1063 - val_loss: 0.1990\n",
            "Epoch 35/50\n",
            "17/17 [==============================] - 0s 4ms/step - loss: 0.0985 - val_loss: 0.2976\n",
            "Epoch 36/50\n",
            "17/17 [==============================] - 0s 5ms/step - loss: 0.0984 - val_loss: 0.2831\n",
            "Epoch 37/50\n",
            "17/17 [==============================] - 0s 4ms/step - loss: 0.0958 - val_loss: 0.2422\n",
            "Epoch 38/50\n",
            "17/17 [==============================] - 0s 4ms/step - loss: 0.0945 - val_loss: 0.1432\n",
            "Epoch 39/50\n",
            "17/17 [==============================] - 0s 4ms/step - loss: 0.0899 - val_loss: 0.1530\n",
            "Epoch 40/50\n",
            "17/17 [==============================] - 0s 4ms/step - loss: 0.0866 - val_loss: 0.1858\n",
            "Epoch 41/50\n",
            "17/17 [==============================] - 0s 4ms/step - loss: 0.0844 - val_loss: 0.1408\n",
            "Epoch 42/50\n",
            "17/17 [==============================] - 0s 4ms/step - loss: 0.0807 - val_loss: 0.1389\n",
            "Epoch 43/50\n",
            "17/17 [==============================] - 0s 4ms/step - loss: 0.0765 - val_loss: 0.1883\n",
            "Epoch 44/50\n",
            "17/17 [==============================] - 0s 4ms/step - loss: 0.0776 - val_loss: 0.1443\n",
            "Epoch 45/50\n",
            "17/17 [==============================] - 0s 4ms/step - loss: 0.0811 - val_loss: 0.1457\n",
            "Epoch 46/50\n",
            "17/17 [==============================] - 0s 4ms/step - loss: 0.0707 - val_loss: 0.2263\n",
            "Epoch 47/50\n",
            "17/17 [==============================] - 0s 4ms/step - loss: 0.0718 - val_loss: 0.1309\n",
            "Epoch 48/50\n",
            "17/17 [==============================] - 0s 5ms/step - loss: 0.0689 - val_loss: 0.1400\n",
            "Epoch 49/50\n",
            "17/17 [==============================] - 0s 4ms/step - loss: 0.0702 - val_loss: 0.1585\n",
            "Epoch 50/50\n",
            "17/17 [==============================] - 0s 5ms/step - loss: 0.0673 - val_loss: 0.1287\n"
          ]
        },
        {
          "data": {
            "image/png": "[encoded data removed]",
            "text/plain": [
              "<Figure size 640x480 with 1 Axes>"
            ]
          },
          "metadata": {},
          "output_type": "display_data"
        },
        {
          "name": "stdout",
          "output_type": "stream",
          "text": [
            "1/1 [==============================] - 0s 61ms/step\n",
            "NN pred shape (7, 10)\n",
            "Y Shape Uncollapsed (7, 10)\n",
            "2\n",
            "STAT VAL ENSEMBLE MSE:  0.0338713547282851\n",
            "NN VAL MODEL MSE:  0.7220618500355293\n",
            "NN+STAT VAL ENSEMBLE MSE:  0.11885858486970284\n"
          ]
        },
        {
          "data": {
            "text/plain": [
              "(0.0338713547282851, 0.7220618500355293, 0.11885858486970284)"
            ]
          },
          "execution_count": 44,
          "metadata": {},
          "output_type": "execute_result"
        }
      ],
      "source": [
        "# Hyper parameters\n",
        "L1=0\n",
        "L2=1e-3\n",
        "callback = keras.callbacks.EarlyStopping(monitor='loss',patience=20)\n",
        "\n",
        "\n",
        "\n",
        "\n",
        "full_single_nn_wrapper2(\n",
        "    \"feedforward\",\n",
        "    \"regression\",\n",
        "    0.7,\n",
        "    \"SPY\",\n",
        "    model_names = ['auto_arima','complex_smoothing'],\n",
        "    predReturnFunctions = [new_aaPredFunction, new_cesPredFunction],\n",
        "    start_date_in = '2023-12-25',\n",
        "    end_date_in = '2024-02-15',\n",
        "    interval_in = '5m',\n",
        "    split = False,\n",
        "    train_size = 2000,\n",
        "    train_window = 100,\n",
        "    test_window = 10,\n",
        "    verbose = 1,\n",
        "    stopping = callback)"
      ]
    },
    {
      "cell_type": "code",
      "execution_count": null,
      "metadata": {
        "colab": {
          "base_uri": "https://localhost:8080/"
        },
        "id": "yRoxdMf4XcQz",
        "outputId": "1dbc1b26-5adb-4c9a-c152-282793d09446"
      },
      "outputs": [
        {
          "name": "stderr",
          "output_type": "stream",
          "text": [
            "\r[*********************100%%**********************]  1 of 1 completed"
          ]
        },
        {
          "name": "stdout",
          "output_type": "stream",
          "text": [
            "Close    0.009308\n",
            "dtype: float64\n",
            "<bound method NDFrame.head of                               Close\n",
            "Datetime                           \n",
            "2023-12-26 09:30:00-05:00       NaN\n",
            "2023-12-26 09:35:00-05:00 -0.060254\n",
            "2023-12-26 09:40:00-05:00  0.158100\n",
            "2023-12-26 09:45:00-05:00 -0.060254\n",
            "2023-12-26 09:50:00-05:00 -0.606044\n",
            "...                             ...\n",
            "2024-01-29 15:35:00-05:00 -0.715221\n",
            "2024-01-29 15:40:00-05:00 -0.496962\n",
            "2024-01-29 15:45:00-05:00 -0.450036\n",
            "2024-01-29 15:50:00-05:00  0.251667\n",
            "2024-01-29 15:55:00-05:00  1.935964\n",
            "\n",
            "[1794 rows x 1 columns]>\n"
          ]
        },
        {
          "name": "stderr",
          "output_type": "stream",
          "text": [
            "\n"
          ]
        }
      ],
      "source": [
        "\"\"\"full_test = prep_ticker('QQQ', intervals = \"5m\", start_date = '2023-12-15', end_date = '2024-01-30', split = False)\n",
        "\n",
        "print(np.mean(full_test, axis = 0))\n",
        "\n",
        "full_test = (full_test - np.mean(full_test, axis = 0) ) / np.std(full_test ,axis = 0)\n",
        "\n",
        "print(full_test.head)\"\"\"\n",
        "\n",
        "full_test = prep_ticker('SPY', intervals = \"5m\", start_date = '2023-12-25', end_date = '2024-01-30', split = False)\n",
        "\n",
        "full_test = full_test.diff()\n",
        "print(np.mean(full_test, axis = 0))\n",
        "\n",
        "full_test = (full_test - np.mean(full_test, axis = 0) ) / np.std(full_test ,axis = 0)\n",
        "\n",
        "print(full_test.head)\n"
      ]
    },
    {
      "cell_type": "code",
      "execution_count": null,
      "metadata": {
        "colab": {
          "base_uri": "https://localhost:8080/"
        },
        "id": "UY12vWSUo8qW",
        "outputId": "32b3cfb1-6569-4b2d-a532-ba1e76f5b436"
      },
      "outputs": [
        {
          "name": "stdout",
          "output_type": "stream",
          "text": [
            "(107, 23)\n",
            "(2262,)\n"
          ]
        }
      ],
      "source": [
        "output = stat_true_window_cross_val(full_test, ['auto_arima','complex_smoothing'], [new_aaPredFunction, new_cesPredFunction], train_window= 20)"
      ]
    },
    {
      "cell_type": "code",
      "execution_count": null,
      "metadata": {
        "colab": {
          "base_uri": "https://localhost:8080/"
        },
        "id": "xqHxcneKR2cq",
        "outputId": "796d3a62-7def-4613-83d8-779e8ee67c52"
      },
      "outputs": [
        {
          "name": "stdout",
          "output_type": "stream",
          "text": [
            "(1, 8)\n",
            "(6,)\n",
            "[[1.         2.         3.         4.         5.         6.\n",
            "  6.         3.77109623]]\n"
          ]
        }
      ],
      "source": [
        "##sanity_check = np.array([1,2,3,4,5,6])\n",
        "\n",
        "#xs,ys,preds = stat_true_window_cross_val(sanity_check, ['auto_arima','complex_smoothing'], [new_aaPredFunction, new_cesPredFunction], train_window= 5, test_window = 1)\n",
        "\n"
      ]
    },
    {
      "cell_type": "code",
      "execution_count": null,
      "metadata": {
        "colab": {
          "base_uri": "https://localhost:8080/"
        },
        "id": "Bin6j0ElqL59",
        "outputId": "cee21e63-e075-48f5-d963-b8504bf57313"
      },
      "outputs": [
        {
          "name": "stdout",
          "output_type": "stream",
          "text": [
            "(80, 12)\n",
            "(80, 1)\n"
          ]
        }
      ],
      "source": [
        "\n",
        "first_try_x = output[0:80,np.r_[0:10, 11:13]]\n",
        "first_try_y = output[0:80, 10:11]\n",
        "\n",
        "first_try_x_val = output[80:107,np.r_[0:10, 11:13]]\n",
        "first_try_y_val = output[80:107, 10:11]\n",
        "\n",
        "print(first_try_x.shape)\n",
        "print(first_try_y.shape)"
      ]
    },
    {
      "cell_type": "code",
      "execution_count": null,
      "metadata": {
        "colab": {
          "base_uri": "https://localhost:8080/"
        },
        "id": "yLvdMoURncTs",
        "outputId": "bf616d9c-a671-4370-9bbb-db897257d52b"
      },
      "outputs": [
        {
          "name": "stdout",
          "output_type": "stream",
          "text": [
            "80\n",
            "Epoch 1/150\n",
            "80/80 [==============================] - 2s 12ms/step - loss: 1.2630 - val_loss: 1.1436\n",
            "Epoch 2/150\n",
            "80/80 [==============================] - 0s 5ms/step - loss: 1.1412 - val_loss: 1.1157\n",
            "Epoch 3/150\n",
            "80/80 [==============================] - 0s 4ms/step - loss: 1.0294 - val_loss: 1.0837\n",
            "Epoch 4/150\n",
            "80/80 [==============================] - 0s 5ms/step - loss: 0.9234 - val_loss: 1.0533\n",
            "Epoch 5/150\n",
            "80/80 [==============================] - 0s 5ms/step - loss: 0.8274 - val_loss: 1.0219\n",
            "Epoch 6/150\n",
            "80/80 [==============================] - 0s 4ms/step - loss: 0.7413 - val_loss: 0.9864\n",
            "Epoch 7/150\n",
            "80/80 [==============================] - 0s 3ms/step - loss: 0.6530 - val_loss: 0.9519\n",
            "Epoch 8/150\n",
            "80/80 [==============================] - 0s 4ms/step - loss: 0.5724 - val_loss: 0.9161\n",
            "Epoch 9/150\n",
            "80/80 [==============================] - 0s 3ms/step - loss: 0.5048 - val_loss: 0.8792\n",
            "Epoch 10/150\n",
            "80/80 [==============================] - 0s 3ms/step - loss: 0.4381 - val_loss: 0.8468\n",
            "Epoch 11/150\n",
            "80/80 [==============================] - 1s 7ms/step - loss: 0.3804 - val_loss: 0.8121\n",
            "Epoch 12/150\n",
            "80/80 [==============================] - 1s 7ms/step - loss: 0.3249 - val_loss: 0.7740\n",
            "Epoch 13/150\n",
            "80/80 [==============================] - 0s 3ms/step - loss: 0.2778 - val_loss: 0.7383\n",
            "Epoch 14/150\n",
            "80/80 [==============================] - 1s 8ms/step - loss: 0.2355 - val_loss: 0.7030\n",
            "Epoch 15/150\n",
            "80/80 [==============================] - 0s 5ms/step - loss: 0.1980 - val_loss: 0.6666\n",
            "Epoch 16/150\n",
            "80/80 [==============================] - 0s 3ms/step - loss: 0.1669 - val_loss: 0.6322\n",
            "Epoch 17/150\n",
            "80/80 [==============================] - 1s 7ms/step - loss: 0.1390 - val_loss: 0.5942\n",
            "Epoch 18/150\n",
            "80/80 [==============================] - 1s 7ms/step - loss: 0.1175 - val_loss: 0.5619\n",
            "Epoch 19/150\n",
            "80/80 [==============================] - 0s 3ms/step - loss: 0.0997 - val_loss: 0.5232\n",
            "Epoch 20/150\n",
            "80/80 [==============================] - 0s 3ms/step - loss: 0.0862 - val_loss: 0.4863\n",
            "Epoch 21/150\n",
            "80/80 [==============================] - 0s 3ms/step - loss: 0.0764 - val_loss: 0.4501\n",
            "Epoch 22/150\n",
            "80/80 [==============================] - 0s 3ms/step - loss: 0.0700 - val_loss: 0.4117\n",
            "Epoch 23/150\n",
            "80/80 [==============================] - 0s 3ms/step - loss: 0.0659 - val_loss: 0.3756\n",
            "Epoch 24/150\n",
            "80/80 [==============================] - 0s 3ms/step - loss: 0.0635 - val_loss: 0.3417\n",
            "Epoch 25/150\n",
            "80/80 [==============================] - 0s 4ms/step - loss: 0.0620 - val_loss: 0.3080\n",
            "Epoch 26/150\n",
            "80/80 [==============================] - 0s 3ms/step - loss: 0.0610 - val_loss: 0.2762\n",
            "Epoch 27/150\n",
            "80/80 [==============================] - 0s 3ms/step - loss: 0.0602 - val_loss: 0.2461\n",
            "Epoch 28/150\n",
            "80/80 [==============================] - 0s 3ms/step - loss: 0.0596 - val_loss: 0.2181\n",
            "Epoch 29/150\n",
            "80/80 [==============================] - 0s 4ms/step - loss: 0.0589 - val_loss: 0.1955\n",
            "Epoch 30/150\n",
            "80/80 [==============================] - 0s 3ms/step - loss: 0.0583 - val_loss: 0.1723\n",
            "Epoch 31/150\n",
            "80/80 [==============================] - 0s 3ms/step - loss: 0.0578 - val_loss: 0.1521\n",
            "Epoch 32/150\n",
            "80/80 [==============================] - 0s 3ms/step - loss: 0.0573 - val_loss: 0.1346\n",
            "Epoch 33/150\n",
            "80/80 [==============================] - 0s 3ms/step - loss: 0.0569 - val_loss: 0.1188\n",
            "Epoch 34/150\n",
            "80/80 [==============================] - 0s 3ms/step - loss: 0.0562 - val_loss: 0.1038\n",
            "Epoch 35/150\n",
            "80/80 [==============================] - 0s 3ms/step - loss: 0.0557 - val_loss: 0.0909\n",
            "Epoch 36/150\n",
            "80/80 [==============================] - 0s 4ms/step - loss: 0.0552 - val_loss: 0.0803\n",
            "Epoch 37/150\n",
            "80/80 [==============================] - 0s 4ms/step - loss: 0.0548 - val_loss: 0.0712\n",
            "Epoch 38/150\n",
            "80/80 [==============================] - 0s 5ms/step - loss: 0.0543 - val_loss: 0.0633\n",
            "Epoch 39/150\n",
            "80/80 [==============================] - 0s 5ms/step - loss: 0.0538 - val_loss: 0.0571\n",
            "Epoch 40/150\n",
            "80/80 [==============================] - 0s 5ms/step - loss: 0.0534 - val_loss: 0.0520\n",
            "Epoch 41/150\n",
            "80/80 [==============================] - 0s 6ms/step - loss: 0.0529 - val_loss: 0.0485\n",
            "Epoch 42/150\n",
            "80/80 [==============================] - 0s 4ms/step - loss: 0.0525 - val_loss: 0.0459\n",
            "Epoch 43/150\n",
            "80/80 [==============================] - 0s 3ms/step - loss: 0.0521 - val_loss: 0.0447\n",
            "Epoch 44/150\n",
            "80/80 [==============================] - 0s 3ms/step - loss: 0.0517 - val_loss: 0.0443\n",
            "Epoch 45/150\n",
            "80/80 [==============================] - 0s 3ms/step - loss: 0.0513 - val_loss: 0.0449\n",
            "Epoch 46/150\n",
            "80/80 [==============================] - 0s 3ms/step - loss: 0.0509 - val_loss: 0.0464\n",
            "Epoch 47/150\n",
            "80/80 [==============================] - 0s 3ms/step - loss: 0.0506 - val_loss: 0.0484\n",
            "Epoch 48/150\n",
            "80/80 [==============================] - 0s 3ms/step - loss: 0.0502 - val_loss: 0.0506\n",
            "Epoch 49/150\n",
            "80/80 [==============================] - 0s 4ms/step - loss: 0.0499 - val_loss: 0.0534\n",
            "Epoch 50/150\n",
            "80/80 [==============================] - 0s 4ms/step - loss: 0.0495 - val_loss: 0.0565\n",
            "Epoch 51/150\n",
            "80/80 [==============================] - 0s 3ms/step - loss: 0.0492 - val_loss: 0.0602\n",
            "Epoch 52/150\n",
            "80/80 [==============================] - 0s 3ms/step - loss: 0.0489 - val_loss: 0.0633\n",
            "Epoch 53/150\n",
            "80/80 [==============================] - 0s 3ms/step - loss: 0.0486 - val_loss: 0.0669\n",
            "Epoch 54/150\n",
            "80/80 [==============================] - 0s 4ms/step - loss: 0.0483 - val_loss: 0.0690\n",
            "Epoch 55/150\n",
            "80/80 [==============================] - 0s 3ms/step - loss: 0.0479 - val_loss: 0.0716\n",
            "Epoch 56/150\n",
            "80/80 [==============================] - 0s 4ms/step - loss: 0.0477 - val_loss: 0.0741\n",
            "Epoch 57/150\n",
            "80/80 [==============================] - 0s 3ms/step - loss: 0.0474 - val_loss: 0.0757\n",
            "Epoch 58/150\n",
            "80/80 [==============================] - 0s 3ms/step - loss: 0.0472 - val_loss: 0.0770\n",
            "Epoch 59/150\n",
            "80/80 [==============================] - 0s 4ms/step - loss: 0.0469 - val_loss: 0.0781\n",
            "Epoch 60/150\n",
            "80/80 [==============================] - 0s 4ms/step - loss: 0.0467 - val_loss: 0.0794\n",
            "Epoch 61/150\n",
            "80/80 [==============================] - 0s 3ms/step - loss: 0.0463 - val_loss: 0.0804\n",
            "Epoch 62/150\n",
            "80/80 [==============================] - 0s 3ms/step - loss: 0.0462 - val_loss: 0.0801\n",
            "Epoch 63/150\n",
            "80/80 [==============================] - 0s 3ms/step - loss: 0.0459 - val_loss: 0.0799\n",
            "Epoch 64/150\n",
            "80/80 [==============================] - 0s 4ms/step - loss: 0.0457 - val_loss: 0.0795\n",
            "Epoch 65/150\n",
            "80/80 [==============================] - 0s 4ms/step - loss: 0.0454 - val_loss: 0.0792\n",
            "Epoch 66/150\n",
            "80/80 [==============================] - 0s 3ms/step - loss: 0.0452 - val_loss: 0.0777\n",
            "Epoch 67/150\n",
            "80/80 [==============================] - 0s 3ms/step - loss: 0.0450 - val_loss: 0.0772\n",
            "Epoch 68/150\n",
            "80/80 [==============================] - 0s 3ms/step - loss: 0.0448 - val_loss: 0.0757\n",
            "Epoch 69/150\n",
            "80/80 [==============================] - 0s 3ms/step - loss: 0.0446 - val_loss: 0.0753\n",
            "Epoch 70/150\n",
            "80/80 [==============================] - 0s 3ms/step - loss: 0.0444 - val_loss: 0.0734\n",
            "Epoch 71/150\n",
            "80/80 [==============================] - 0s 3ms/step - loss: 0.0441 - val_loss: 0.0723\n",
            "Epoch 72/150\n",
            "80/80 [==============================] - 0s 4ms/step - loss: 0.0439 - val_loss: 0.0710\n",
            "Epoch 73/150\n",
            "80/80 [==============================] - 0s 4ms/step - loss: 0.0437 - val_loss: 0.0695\n",
            "Epoch 74/150\n",
            "80/80 [==============================] - 0s 3ms/step - loss: 0.0435 - val_loss: 0.0676\n",
            "Epoch 75/150\n",
            "80/80 [==============================] - 0s 3ms/step - loss: 0.0433 - val_loss: 0.0662\n",
            "Epoch 76/150\n",
            "80/80 [==============================] - 0s 3ms/step - loss: 0.0432 - val_loss: 0.0641\n",
            "Epoch 77/150\n",
            "80/80 [==============================] - 0s 4ms/step - loss: 0.0430 - val_loss: 0.0623\n",
            "Epoch 78/150\n",
            "80/80 [==============================] - 0s 5ms/step - loss: 0.0428 - val_loss: 0.0603\n",
            "Epoch 79/150\n",
            "80/80 [==============================] - 0s 5ms/step - loss: 0.0426 - val_loss: 0.0586\n",
            "Epoch 80/150\n",
            "80/80 [==============================] - 0s 4ms/step - loss: 0.0424 - val_loss: 0.0570\n",
            "Epoch 81/150\n",
            "80/80 [==============================] - 0s 5ms/step - loss: 0.0422 - val_loss: 0.0557\n",
            "Epoch 82/150\n",
            "80/80 [==============================] - 0s 5ms/step - loss: 0.0420 - val_loss: 0.0542\n",
            "Epoch 83/150\n",
            "80/80 [==============================] - 0s 5ms/step - loss: 0.0418 - val_loss: 0.0531\n",
            "Epoch 84/150\n",
            "80/80 [==============================] - 0s 4ms/step - loss: 0.0416 - val_loss: 0.0515\n",
            "Epoch 85/150\n",
            "80/80 [==============================] - 0s 4ms/step - loss: 0.0415 - val_loss: 0.0503\n",
            "Epoch 86/150\n",
            "80/80 [==============================] - 0s 4ms/step - loss: 0.0413 - val_loss: 0.0488\n",
            "Epoch 87/150\n",
            "80/80 [==============================] - 0s 3ms/step - loss: 0.0411 - val_loss: 0.0475\n",
            "Epoch 88/150\n",
            "80/80 [==============================] - 0s 3ms/step - loss: 0.0409 - val_loss: 0.0459\n",
            "Epoch 89/150\n",
            "80/80 [==============================] - 0s 3ms/step - loss: 0.0407 - val_loss: 0.0446\n",
            "Epoch 90/150\n",
            "80/80 [==============================] - 0s 3ms/step - loss: 0.0406 - val_loss: 0.0437\n",
            "Epoch 91/150\n",
            "80/80 [==============================] - 0s 4ms/step - loss: 0.0404 - val_loss: 0.0430\n",
            "Epoch 92/150\n",
            "80/80 [==============================] - 0s 3ms/step - loss: 0.0402 - val_loss: 0.0418\n",
            "Epoch 93/150\n",
            "80/80 [==============================] - 0s 3ms/step - loss: 0.0401 - val_loss: 0.0410\n",
            "Epoch 94/150\n",
            "80/80 [==============================] - 0s 3ms/step - loss: 0.0399 - val_loss: 0.0403\n",
            "Epoch 95/150\n",
            "80/80 [==============================] - 0s 3ms/step - loss: 0.0398 - val_loss: 0.0398\n",
            "Epoch 96/150\n",
            "80/80 [==============================] - 0s 3ms/step - loss: 0.0396 - val_loss: 0.0394\n",
            "Epoch 97/150\n",
            "80/80 [==============================] - 0s 3ms/step - loss: 0.0395 - val_loss: 0.0389\n",
            "Epoch 98/150\n",
            "80/80 [==============================] - 0s 3ms/step - loss: 0.0393 - val_loss: 0.0383\n",
            "Epoch 99/150\n",
            "80/80 [==============================] - 0s 3ms/step - loss: 0.0392 - val_loss: 0.0379\n",
            "Epoch 100/150\n",
            "80/80 [==============================] - 0s 3ms/step - loss: 0.0390 - val_loss: 0.0375\n",
            "Epoch 101/150\n",
            "80/80 [==============================] - 0s 3ms/step - loss: 0.0388 - val_loss: 0.0372\n",
            "Epoch 102/150\n",
            "80/80 [==============================] - 0s 4ms/step - loss: 0.0387 - val_loss: 0.0369\n",
            "Epoch 103/150\n",
            "80/80 [==============================] - 0s 3ms/step - loss: 0.0385 - val_loss: 0.0366\n",
            "Epoch 104/150\n",
            "80/80 [==============================] - 0s 4ms/step - loss: 0.0384 - val_loss: 0.0364\n",
            "Epoch 105/150\n",
            "80/80 [==============================] - 0s 3ms/step - loss: 0.0382 - val_loss: 0.0362\n",
            "Epoch 106/150\n",
            "80/80 [==============================] - 0s 4ms/step - loss: 0.0381 - val_loss: 0.0360\n",
            "Epoch 107/150\n",
            "80/80 [==============================] - 0s 3ms/step - loss: 0.0380 - val_loss: 0.0359\n",
            "Epoch 108/150\n",
            "80/80 [==============================] - 0s 3ms/step - loss: 0.0378 - val_loss: 0.0358\n",
            "Epoch 109/150\n",
            "80/80 [==============================] - 0s 4ms/step - loss: 0.0377 - val_loss: 0.0357\n",
            "Epoch 110/150\n",
            "80/80 [==============================] - 0s 3ms/step - loss: 0.0375 - val_loss: 0.0356\n",
            "Epoch 111/150\n",
            "80/80 [==============================] - 0s 3ms/step - loss: 0.0373 - val_loss: 0.0355\n",
            "Epoch 112/150\n",
            "80/80 [==============================] - 0s 3ms/step - loss: 0.0373 - val_loss: 0.0356\n",
            "Epoch 113/150\n",
            "80/80 [==============================] - 0s 3ms/step - loss: 0.0371 - val_loss: 0.0356\n",
            "Epoch 114/150\n",
            "80/80 [==============================] - 0s 3ms/step - loss: 0.0370 - val_loss: 0.0356\n",
            "Epoch 115/150\n",
            "80/80 [==============================] - 0s 3ms/step - loss: 0.0369 - val_loss: 0.0357\n",
            "Epoch 116/150\n",
            "80/80 [==============================] - 0s 3ms/step - loss: 0.0367 - val_loss: 0.0357\n",
            "Epoch 117/150\n",
            "80/80 [==============================] - 0s 4ms/step - loss: 0.0366 - val_loss: 0.0358\n",
            "Epoch 118/150\n",
            "80/80 [==============================] - 0s 3ms/step - loss: 0.0365 - val_loss: 0.0359\n",
            "Epoch 119/150\n",
            "80/80 [==============================] - 0s 3ms/step - loss: 0.0363 - val_loss: 0.0360\n",
            "Epoch 120/150\n",
            "80/80 [==============================] - 0s 5ms/step - loss: 0.0362 - val_loss: 0.0361\n",
            "Epoch 121/150\n",
            "80/80 [==============================] - 0s 5ms/step - loss: 0.0361 - val_loss: 0.0362\n",
            "Epoch 122/150\n",
            "80/80 [==============================] - 0s 4ms/step - loss: 0.0359 - val_loss: 0.0363\n",
            "Epoch 123/150\n",
            "80/80 [==============================] - 0s 4ms/step - loss: 0.0358 - val_loss: 0.0364\n",
            "Epoch 124/150\n",
            "80/80 [==============================] - 0s 5ms/step - loss: 0.0357 - val_loss: 0.0365\n",
            "Epoch 125/150\n",
            "80/80 [==============================] - 0s 4ms/step - loss: 0.0355 - val_loss: 0.0367\n",
            "Epoch 126/150\n",
            "80/80 [==============================] - 0s 3ms/step - loss: 0.0354 - val_loss: 0.0369\n",
            "Epoch 127/150\n",
            "80/80 [==============================] - 0s 3ms/step - loss: 0.0353 - val_loss: 0.0368\n",
            "Epoch 128/150\n",
            "80/80 [==============================] - 0s 3ms/step - loss: 0.0352 - val_loss: 0.0370\n",
            "Epoch 129/150\n",
            "80/80 [==============================] - 0s 4ms/step - loss: 0.0351 - val_loss: 0.0370\n",
            "Epoch 130/150\n",
            "80/80 [==============================] - 0s 3ms/step - loss: 0.0349 - val_loss: 0.0372\n",
            "Epoch 131/150\n",
            "80/80 [==============================] - 0s 3ms/step - loss: 0.0348 - val_loss: 0.0373\n",
            "Epoch 132/150\n",
            "80/80 [==============================] - 0s 3ms/step - loss: 0.0347 - val_loss: 0.0375\n",
            "Epoch 133/150\n",
            "80/80 [==============================] - 0s 3ms/step - loss: 0.0346 - val_loss: 0.0375\n",
            "Epoch 134/150\n",
            "80/80 [==============================] - 0s 3ms/step - loss: 0.0345 - val_loss: 0.0376\n",
            "Epoch 135/150\n",
            "80/80 [==============================] - 0s 4ms/step - loss: 0.0344 - val_loss: 0.0379\n",
            "Epoch 136/150\n",
            "80/80 [==============================] - 0s 4ms/step - loss: 0.0342 - val_loss: 0.0376\n",
            "Epoch 137/150\n",
            "80/80 [==============================] - 0s 3ms/step - loss: 0.0341 - val_loss: 0.0379\n",
            "Epoch 138/150\n",
            "80/80 [==============================] - 0s 3ms/step - loss: 0.0340 - val_loss: 0.0377\n",
            "Epoch 139/150\n",
            "80/80 [==============================] - 0s 4ms/step - loss: 0.0338 - val_loss: 0.0376\n",
            "Epoch 140/150\n",
            "80/80 [==============================] - 0s 4ms/step - loss: 0.0338 - val_loss: 0.0377\n",
            "Epoch 141/150\n",
            "80/80 [==============================] - 0s 3ms/step - loss: 0.0336 - val_loss: 0.0375\n",
            "Epoch 142/150\n",
            "80/80 [==============================] - 0s 3ms/step - loss: 0.0336 - val_loss: 0.0376\n",
            "Epoch 143/150\n",
            "80/80 [==============================] - 0s 3ms/step - loss: 0.0334 - val_loss: 0.0378\n",
            "Epoch 144/150\n",
            "80/80 [==============================] - 0s 3ms/step - loss: 0.0333 - val_loss: 0.0376\n",
            "Epoch 145/150\n",
            "80/80 [==============================] - 0s 3ms/step - loss: 0.0332 - val_loss: 0.0376\n",
            "Epoch 146/150\n",
            "80/80 [==============================] - 0s 3ms/step - loss: 0.0331 - val_loss: 0.0375\n",
            "Epoch 147/150\n",
            "80/80 [==============================] - 0s 4ms/step - loss: 0.0330 - val_loss: 0.0374\n",
            "Epoch 148/150\n",
            "80/80 [==============================] - 0s 3ms/step - loss: 0.0329 - val_loss: 0.0375\n",
            "Epoch 149/150\n",
            "80/80 [==============================] - 0s 4ms/step - loss: 0.0328 - val_loss: 0.0375\n",
            "Epoch 150/150\n",
            "80/80 [==============================] - 0s 3ms/step - loss: 0.0327 - val_loss: 0.0374\n"
          ]
        }
      ],
      "source": [
        "\n",
        "\n",
        "\"\"\"L1=0\n",
        "L2=1e-3\n",
        "\n",
        "# create a sequential model once again\n",
        "model = Sequential()\n",
        "model.add(layers.Dense(32, activation='relu',input_shape=[12]))\n",
        "# This layer is the recurent layer, which returns all previous data\n",
        "model.add(layers.Dense(64, kernel_regularizer=regularizers.L1L2(l1=L1, l2=L2)))\n",
        "model.add(layers.Dense(64, kernel_regularizer=regularizers.L1L2(l1=L1, l2=L2)))\n",
        "model.add(layers.Dense(64, kernel_regularizer=regularizers.L1L2(l1=L1, l2=L2)))\n",
        "\n",
        "\n",
        "# layer that reads the recurent layer\n",
        "model.add(layers.Dense(1))\n",
        "model.compile(optimizer=RMSprop(), loss='mae')\n",
        "\n",
        "\n",
        "test_one = model.fit(x = first_try_x, y = first_try_y, steps_per_epoch=150, epochs=20, batch_size = 1, validation_data= (first_try_x_val, first_try_y_val), validation_steps=60, verbose = 1)\n",
        "\"\"\"\n",
        "\n",
        "print(len(first_try_x))\n",
        "\n",
        "# Hyper parameters\n",
        "L1=0\n",
        "L2=1e-3\n",
        "callback = keras.callbacks.EarlyStopping(monitor='loss',patience=5)\n",
        "\n",
        "\n",
        "# create a sequential model once again\n",
        "model = Sequential()\n",
        "model.add(layers.Dense(32, activation='relu',input_shape=[12,]))\n",
        "# This layer is the recurent layer, which returns all previous data\n",
        "model.add(layers.Dense(64, kernel_regularizer=regularizers.L1L2(l1=L1, l2=L2)))\n",
        "#model.add(layers.Dropout(rate=0.25))\n",
        "#model.add(layers.Dense(64, kernel_regularizer=regularizers.L1L2(l1=L1, l2=L2)))\n",
        "#model.add(layers.Dense(64, kernel_regularizer=regularizers.L1L2(l1=L1, l2=L2)))\n",
        "\n",
        "\n",
        "# layer that reads the recurent layer\n",
        "model.add(layers.Dense(1))\n",
        "model.compile(optimizer=RMSprop(learning_rate = 0.00001), loss='mse')\n",
        "\n",
        "\n",
        "test_one = model.fit(x = first_try_x, y = first_try_y, steps_per_epoch = 80, epochs=150, batch_size = 1, validation_data= (first_try_x_val, first_try_y_val),callbacks=[callback], validation_steps=25, verbose = 1)\n"
      ]
    },
    {
      "cell_type": "code",
      "execution_count": null,
      "metadata": {
        "colab": {
          "base_uri": "https://localhost:8080/",
          "height": 472
        },
        "id": "BreXjQMHucxP",
        "outputId": "e9d0a27b-bf6a-4169-fe7a-8903aba1a966"
      },
      "outputs": [
        {
          "data": {
            "image/png": "[encoded data removed]",
            "text/plain": [
              "<Figure size 640x480 with 1 Axes>"
            ]
          },
          "metadata": {},
          "output_type": "display_data"
        }
      ],
      "source": [
        "history_plot(test_one)"
      ]
    },
    {
      "cell_type": "code",
      "execution_count": null,
      "metadata": {
        "colab": {
          "base_uri": "https://localhost:8080/"
        },
        "id": "3N1QzdPB5Xyf",
        "outputId": "2b6980c8-5f36-43e6-dd69-123b4ef4f1c1"
      },
      "outputs": [
        {
          "name": "stdout",
          "output_type": "stream",
          "text": [
            "3/3 [==============================] - 0s 15ms/step\n",
            "[[-1.02839118 -1.00976611]\n",
            " [-1.02246525 -1.00636658]\n",
            " [-1.26201821 -1.25186096]]\n",
            "[[-1.18837558 -1.17737103 -1.121501   -1.17059781 -1.10056137 -1.18244965\n",
            "  -1.15197791 -1.10795973 -1.08849253 -1.09441329 -1.02839118 -1.00976611]\n",
            " [-1.01821843 -1.00215076 -0.98268356 -0.98776218 -1.01653933 -1.02669658\n",
            "  -1.04955297 -1.05378429 -1.02502265 -1.06055752 -1.02246525 -1.00636658]\n",
            " [-1.13081612 -1.13165825 -1.1214855  -1.13335285 -1.09780248 -1.07409879\n",
            "  -1.07071476 -1.14556118 -1.26370764 -1.20784277 -1.26201821 -1.25186096]]\n",
            "2\n",
            "STAT TRAIN ENSEMBLE MSE:  0.002580036183811661\n",
            "NN TRAIN MODEL MSE:  0.0034495044041024624\n",
            "NN+STAT TRAIN ENSEMBLE MSE:  0.0020458753035366454\n",
            "1/1 [==============================] - 0s 19ms/step\n",
            "[[-0.36473955 -0.30719559]\n",
            " [ 0.03647174  0.04324496]\n",
            " [ 0.36326026  0.37759717]]\n",
            "2\n",
            "STAT VAL ENSEMBLE MSE:  0.002839849369788067\n",
            "NN VAL MODEL MSE:  0.008564990617821129\n",
            "NN+STAT VAL ENSEMBLE MSE:  0.0020829388950082527\n"
          ]
        }
      ],
      "source": [
        "#print(model.predict(first_try_x))\n",
        "\n",
        "nn_preds = model.predict(first_try_x)\n",
        "stat_preds = first_try_x[:,10:12]\n",
        "print(stat_preds[0:3,:])\n",
        "print(first_try_x[0:3,:])\n",
        "real_ys = first_try_y\n",
        "window = 1\n",
        "\n",
        "stat_avg_mse, nn_mse, nn_avg_mse = calculate_metrics(window, real_ys, stat_preds, nn_preds)\n",
        "\n",
        "print(\"STAT TRAIN ENSEMBLE MSE: \", stat_avg_mse)\n",
        "print(\"NN TRAIN MODEL MSE: \", nn_mse)\n",
        "print(\"NN+STAT TRAIN ENSEMBLE MSE: \", nn_avg_mse)\n",
        "\n",
        "\n",
        "nn_preds2 = model.predict(first_try_x_val)\n",
        "stat_preds2 = first_try_x_val[:,10:12]\n",
        "print(stat_preds2[0:3,:])\n",
        "real_ys2 = first_try_y_val\n",
        "window2 = 1\n",
        "\n",
        "stat_avg_mse, nn_mse, nn_avg_mse = calculate_metrics(window, real_ys2, stat_preds2, nn_preds2)\n",
        "\n",
        "print(\"STAT VAL ENSEMBLE MSE: \", stat_avg_mse)\n",
        "print(\"NN VAL MODEL MSE: \", nn_mse)\n",
        "print(\"NN+STAT VAL ENSEMBLE MSE: \", nn_avg_mse)"
      ]
    },
    {
      "cell_type": "code",
      "execution_count": null,
      "metadata": {
        "colab": {
          "base_uri": "https://localhost:8080/",
          "height": 237
        },
        "id": "HFHezSU2AQPb",
        "outputId": "6d44c730-96f5-4fd5-dd61-522af7816b42"
      },
      "outputs": [
        {
          "ename": "NameError",
          "evalue": "name 'cv_data' is not defined",
          "output_type": "error",
          "traceback": [
            "\u001b[0;31m---------------------------------------------------------------------------\u001b[0m",
            "\u001b[0;31mNameError\u001b[0m                                 Traceback (most recent call last)",
            "\u001b[0;32m<ipython-input-29-c366178482a6>\u001b[0m in \u001b[0;36m<cell line: 1>\u001b[0;34m()\u001b[0m\n\u001b[0;32m----> 1\u001b[0;31m \u001b[0mcv_data2\u001b[0m \u001b[0;34m=\u001b[0m \u001b[0mcv_data\u001b[0m\u001b[0;34m[\u001b[0m\u001b[0;36m1\u001b[0m\u001b[0;34m:\u001b[0m\u001b[0;36m120\u001b[0m\u001b[0;34m]\u001b[0m\u001b[0;34m\u001b[0m\u001b[0;34m\u001b[0m\u001b[0m\n\u001b[0m\u001b[1;32m      2\u001b[0m \u001b[0;34m\u001b[0m\u001b[0m\n\u001b[1;32m      3\u001b[0m \u001b[0mcv_data2\u001b[0m\u001b[0;34m[\u001b[0m\u001b[0;36m0\u001b[0m\u001b[0;34m:\u001b[0m\u001b[0;36m12\u001b[0m\u001b[0;34m]\u001b[0m \u001b[0;34m=\u001b[0m \u001b[0mnp\u001b[0m\u001b[0;34m.\u001b[0m\u001b[0marray\u001b[0m\u001b[0;34m(\u001b[0m\u001b[0;34m[\u001b[0m\u001b[0;36m0\u001b[0m\u001b[0;34m,\u001b[0m\u001b[0;36m1\u001b[0m\u001b[0;34m,\u001b[0m\u001b[0;36m2\u001b[0m\u001b[0;34m,\u001b[0m\u001b[0;36m3\u001b[0m\u001b[0;34m,\u001b[0m\u001b[0;36m4\u001b[0m\u001b[0;34m,\u001b[0m\u001b[0;36m5\u001b[0m\u001b[0;34m,\u001b[0m\u001b[0;36m6\u001b[0m\u001b[0;34m,\u001b[0m\u001b[0;36m7\u001b[0m\u001b[0;34m,\u001b[0m\u001b[0;36m8\u001b[0m\u001b[0;34m,\u001b[0m\u001b[0;36m9\u001b[0m\u001b[0;34m,\u001b[0m\u001b[0;36m10\u001b[0m\u001b[0;34m,\u001b[0m\u001b[0;36m11\u001b[0m\u001b[0;34m]\u001b[0m\u001b[0;34m)\u001b[0m\u001b[0;34m.\u001b[0m\u001b[0mreshape\u001b[0m\u001b[0;34m(\u001b[0m\u001b[0;34m[\u001b[0m\u001b[0;36m12\u001b[0m\u001b[0;34m,\u001b[0m\u001b[0;36m1\u001b[0m\u001b[0;34m]\u001b[0m\u001b[0;34m)\u001b[0m\u001b[0;34m\u001b[0m\u001b[0;34m\u001b[0m\u001b[0m\n\u001b[1;32m      4\u001b[0m \u001b[0moutput\u001b[0m \u001b[0;34m=\u001b[0m \u001b[0mstat_true_window_cross_val\u001b[0m\u001b[0;34m(\u001b[0m\u001b[0mcv_data2\u001b[0m\u001b[0;34m,\u001b[0m \u001b[0;34m[\u001b[0m\u001b[0;34m'auto_arima'\u001b[0m\u001b[0;34m,\u001b[0m\u001b[0;34m'complex_smoothing'\u001b[0m\u001b[0;34m]\u001b[0m\u001b[0;34m,\u001b[0m \u001b[0;34m[\u001b[0m\u001b[0mnew_aaPredFunction\u001b[0m\u001b[0;34m,\u001b[0m \u001b[0mnew_cesPredFunction\u001b[0m\u001b[0;34m]\u001b[0m\u001b[0;34m)\u001b[0m\u001b[0;34m\u001b[0m\u001b[0;34m\u001b[0m\u001b[0m\n",
            "\u001b[0;31mNameError\u001b[0m: name 'cv_data' is not defined"
          ]
        }
      ],
      "source": [
        "cv_data2 = cv_data[1:120]\n",
        "\n",
        "cv_data2[0:12] = np.array([0,1,2,3,4,5,6,7,8,9,10,11]).reshape([12,1])\n",
        "output = stat_true_window_cross_val(cv_data2, ['auto_arima','complex_smoothing'], [new_aaPredFunction, new_cesPredFunction])"
      ]
    },
    {
      "cell_type": "code",
      "execution_count": null,
      "metadata": {
        "id": "CMN8rUW_EsM8"
      },
      "outputs": [],
      "source": [
        "print(output[0:3,0:13])\n",
        "print(cv_data[0:12])"
      ]
    },
    {
      "cell_type": "code",
      "execution_count": null,
      "metadata": {
        "colab": {
          "base_uri": "https://localhost:8080/"
        },
        "id": "RjvXcXzlkHvq",
        "outputId": "13b0e978-c764-4595-8710-4efa008f77f1"
      },
      "outputs": [
        {
          "name": "stderr",
          "output_type": "stream",
          "text": [
            "\r[*********************100%%**********************]  1 of 1 completed"
          ]
        },
        {
          "name": "stdout",
          "output_type": "stream",
          "text": [
            "        Price  auto_arima  dyn_theta  auto_ets  complex_smoothing\n",
            "0  376.239990           0          0         0                  0\n",
            "1  377.880005           0          0         0                  0\n",
            "2  378.390015           0          0         0                  0\n",
            "3  378.799988           0          0         0                  0\n",
            "4  379.730011           0          0         0                  0\n"
          ]
        },
        {
          "name": "stderr",
          "output_type": "stream",
          "text": [
            "\n"
          ]
        }
      ],
      "source": [
        "testResultsQQQ, trainSeriesQQQ, testSeriesQQQ = prep_ticker('QQQ')\n",
        "\n",
        "print(testResultsQQQ.head() )\n",
        "print(trainSeriesQQQ.head() )\n",
        "print(testSeriesQQQ.head() )"
      ]
    },
    {
      "cell_type": "code",
      "execution_count": null,
      "metadata": {
        "colab": {
          "base_uri": "https://localhost:8080/",
          "height": 330
        },
        "id": "sLT6_TwVmgc9",
        "outputId": "3dba41b7-f16b-48c2-cc10-faf439cf784f"
      },
      "outputs": [
        {
          "ename": "NameError",
          "evalue": "name 'yf' is not defined",
          "output_type": "error",
          "traceback": [
            "\u001b[0;31m---------------------------------------------------------------------------\u001b[0m",
            "\u001b[0;31mNameError\u001b[0m                                 Traceback (most recent call last)",
            "\u001b[0;32m<ipython-input-5-34105c547167>\u001b[0m in \u001b[0;36m<cell line: 1>\u001b[0;34m()\u001b[0m\n\u001b[0;32m----> 1\u001b[0;31m \u001b[0mtestResultsQQQ\u001b[0m\u001b[0;34m,\u001b[0m \u001b[0mtrainSeriesQQQ\u001b[0m\u001b[0;34m,\u001b[0m \u001b[0mtestSeriesQQQ\u001b[0m \u001b[0;34m=\u001b[0m \u001b[0mprep_ticker\u001b[0m\u001b[0;34m(\u001b[0m\u001b[0;34m'QQQ'\u001b[0m\u001b[0;34m,\u001b[0m \u001b[0mmodel_list\u001b[0m \u001b[0;34m=\u001b[0m \u001b[0;34m[\u001b[0m\u001b[0;34m'auto_arima'\u001b[0m\u001b[0;34m,\u001b[0m \u001b[0;34m'dyn_theta'\u001b[0m\u001b[0;34m,\u001b[0m \u001b[0;34m'complex_smoothing'\u001b[0m\u001b[0;34m]\u001b[0m\u001b[0;34m)\u001b[0m\u001b[0;34m\u001b[0m\u001b[0;34m\u001b[0m\u001b[0m\n\u001b[0m\u001b[1;32m      2\u001b[0m \u001b[0;34m\u001b[0m\u001b[0m\n",
            "\u001b[0;32m<ipython-input-2-69f3cddda564>\u001b[0m in \u001b[0;36mprep_ticker\u001b[0;34m(ticker, start_date, end_date, intervals, train_size, model_list)\u001b[0m\n\u001b[1;32m      3\u001b[0m \u001b[0;34m\u001b[0m\u001b[0m\n\u001b[1;32m      4\u001b[0m \u001b[0;32mdef\u001b[0m \u001b[0mprep_ticker\u001b[0m\u001b[0;34m(\u001b[0m\u001b[0mticker\u001b[0m\u001b[0;34m,\u001b[0m \u001b[0mstart_date\u001b[0m \u001b[0;34m=\u001b[0m \u001b[0;34m'2022-06-01'\u001b[0m\u001b[0;34m,\u001b[0m \u001b[0mend_date\u001b[0m \u001b[0;34m=\u001b[0m \u001b[0;34m'2023-09-30'\u001b[0m\u001b[0;34m,\u001b[0m \u001b[0mintervals\u001b[0m \u001b[0;34m=\u001b[0m \u001b[0;34m'60m'\u001b[0m\u001b[0;34m,\u001b[0m \u001b[0mtrain_size\u001b[0m \u001b[0;34m=\u001b[0m \u001b[0;36m2000\u001b[0m\u001b[0;34m,\u001b[0m \u001b[0mmodel_list\u001b[0m \u001b[0;34m=\u001b[0m \u001b[0;34m[\u001b[0m\u001b[0;34m'auto_arima'\u001b[0m\u001b[0;34m,\u001b[0m \u001b[0;34m'dyn_theta'\u001b[0m\u001b[0;34m,\u001b[0m \u001b[0;34m'auto_ets'\u001b[0m\u001b[0;34m,\u001b[0m \u001b[0;34m'complex_smoothing'\u001b[0m\u001b[0;34m]\u001b[0m\u001b[0;34m)\u001b[0m\u001b[0;34m:\u001b[0m\u001b[0;34m\u001b[0m\u001b[0;34m\u001b[0m\u001b[0m\n\u001b[0;32m----> 5\u001b[0;31m   \u001b[0mdata\u001b[0m \u001b[0;34m=\u001b[0m \u001b[0myf\u001b[0m\u001b[0;34m.\u001b[0m\u001b[0mdownload\u001b[0m\u001b[0;34m(\u001b[0m\u001b[0mticker\u001b[0m\u001b[0;34m,\u001b[0m\u001b[0mstart_date\u001b[0m\u001b[0;34m,\u001b[0m \u001b[0mend_date\u001b[0m\u001b[0;34m,\u001b[0m \u001b[0minterval\u001b[0m \u001b[0;34m=\u001b[0m \u001b[0mintervals\u001b[0m\u001b[0;34m)\u001b[0m\u001b[0;34m\u001b[0m\u001b[0;34m\u001b[0m\u001b[0m\n\u001b[0m\u001b[1;32m      6\u001b[0m   \u001b[0;31m#print(data.head())\u001b[0m\u001b[0;34m\u001b[0m\u001b[0;34m\u001b[0m\u001b[0m\n\u001b[1;32m      7\u001b[0m   \u001b[0mdata\u001b[0m\u001b[0;34m.\u001b[0m\u001b[0mreset_index\u001b[0m\u001b[0;34m(\u001b[0m\u001b[0minplace\u001b[0m \u001b[0;34m=\u001b[0m \u001b[0;32mTrue\u001b[0m\u001b[0;34m)\u001b[0m\u001b[0;34m\u001b[0m\u001b[0;34m\u001b[0m\u001b[0m\n",
            "\u001b[0;31mNameError\u001b[0m: name 'yf' is not defined"
          ]
        }
      ],
      "source": [
        "testResultsQQQ, trainSeriesQQQ, testSeriesQQQ = prep_ticker('QQQ', model_list = ['auto_arima', 'dyn_theta', 'complex_smoothing'])\n",
        "\n"
      ]
    },
    {
      "cell_type": "code",
      "execution_count": null,
      "metadata": {
        "id": "5g9CjbLhshfv"
      },
      "outputs": [],
      "source": [
        "qqqpreds, qqqerrors = stat_test_wrapper(trainSeriesQQQ, testSeriesQQQ, testResultsQQQ, 200, 10)\n"
      ]
    }
  ],
  "metadata": {
    "accelerator": "GPU",
    "colab": {
      "collapsed_sections": [
        "l14ED15pN7TW",
        "N3FbBbIBN-db"
      ],
      "gpuType": "T4",
      "toc_visible": true,
      "provenance": [],
      "mount_file_id": "171vAbM0bCIvzDJDNUQsLEhcz5n1Fxh2q",
      "authorship_tag": "ABX9TyN7Cfmt1xbPI1R5CzBTzfIY",
      "include_colab_link": true
    },
    "kernelspec": {
      "display_name": "Python 3",
      "name": "python3"
    },
    "language_info": {
      "name": "python"
    }
  },
  "nbformat": 4,
  "nbformat_minor": 0
}