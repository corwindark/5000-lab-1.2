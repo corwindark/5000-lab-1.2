{
  "nbformat": 4,
  "nbformat_minor": 0,
  "metadata": {
    "colab": {
      "provenance": [],
      "gpuType": "T4",
      "toc_visible": true,
      "authorship_tag": "ABX9TyMtRtTUcaLh59V5wthAjagZ",
      "include_colab_link": true
    },
    "kernelspec": {
      "name": "python3",
      "display_name": "Python 3"
    },
    "language_info": {
      "name": "python"
    },
    "accelerator": "GPU"
  },
  "cells": [
    {
      "cell_type": "markdown",
      "metadata": {
        "id": "view-in-github",
        "colab_type": "text"
      },
      "source": [
        "<a href=\"https://colab.research.google.com/github/corwindark/5000-lab-1.2/blob/main/dl_ens_exploration.ipynb\" target=\"_parent\"><img src=\"https://colab.research.google.com/assets/colab-badge.svg\" alt=\"Open In Colab\"/></a>"
      ]
    },
    {
      "cell_type": "markdown",
      "source": [
        "\n",
        "\n",
        "```\n",
        "# This is formatted as code\n",
        "```\n",
        "\n",
        "# Setup - Run Every Time"
      ],
      "metadata": {
        "id": "IcQ0TfR_NvtR"
      }
    },
    {
      "cell_type": "code",
      "execution_count": 14,
      "metadata": {
        "colab": {
          "base_uri": "https://localhost:8080/"
        },
        "id": "0GmcHy4PefJh",
        "outputId": "369cc6bb-4348-4647-d3cc-36374e68703d"
      },
      "outputs": [
        {
          "output_type": "stream",
          "name": "stdout",
          "text": [
            "TENSORFLOW VERSION: 2.15.0\n",
            "PYTORCH VERSION: 2.1.0+cu121\n",
            "KERAS VERSION: 2.15.0\n"
          ]
        }
      ],
      "source": [
        "# TENSORFLOW\n",
        "import tensorflow as tf\n",
        "print(\"TENSORFLOW VERSION:\",tf.__version__)\n",
        "\n",
        "# PYTORCH\n",
        "import torch\n",
        "print(\"PYTORCH VERSION:\",torch.__version__)\n",
        "\n",
        "# KERAS\n",
        "import keras;\n",
        "print(\"KERAS VERSION:\",keras.__version__)"
      ]
    },
    {
      "cell_type": "code",
      "source": [
        "print(torch.cuda.is_available())"
      ],
      "metadata": {
        "colab": {
          "base_uri": "https://localhost:8080/"
        },
        "id": "MgLd74Zteqck",
        "outputId": "bc4195cb-4cc6-4d9d-db1d-7e313445f615"
      },
      "execution_count": 15,
      "outputs": [
        {
          "output_type": "stream",
          "name": "stdout",
          "text": [
            "True\n"
          ]
        }
      ]
    },
    {
      "cell_type": "code",
      "source": [
        "# GET SYSTEM INFO\n",
        "# code modified from: https://stackoverflow.com/questions/110362/how-can-i-find-the-current-os-in-python\n",
        "\n",
        "import platform\n",
        "import multiprocessing\n",
        "import sys\n",
        "import psutil\n",
        "\n",
        "def linux_distribution():\n",
        "  try:\n",
        "    return platform.linux_distribution()\n",
        "  except:\n",
        "    return \"N/A\"\n",
        "\n",
        "def dist():\n",
        "  try:\n",
        "    return platform.dist()\n",
        "  except:\n",
        "    return \"N/A\"\n",
        "\n",
        "num_cores=multiprocessing.cpu_count()\n",
        "\n",
        "print(\"\"\"\n",
        "Python version: %s\n",
        "dist: %s\n",
        "num_cores: %s\n",
        "linux_distribution: %s\n",
        "system: %s\n",
        "machine: %s\n",
        "platform: %s\n",
        "uname: %s\n",
        "version: %s\n",
        "RAM: %s\n",
        "\"\"\" % (\n",
        "sys.version.split('\\n'),\n",
        "str(dist()),\n",
        "num_cores,\n",
        "linux_distribution(),\n",
        "platform.system(),\n",
        "platform.machine(),\n",
        "platform.platform(),\n",
        "platform.uname(),\n",
        "platform.version(),\n",
        "psutil.virtual_memory().total*10**(-9.)\n",
        "))\n",
        "\n",
        "# print('GPU name: ', tf.config.experimental.list_physical_devices('GPU'))"
      ],
      "metadata": {
        "colab": {
          "base_uri": "https://localhost:8080/"
        },
        "id": "BWIeaqgue6WW",
        "outputId": "6f03f50f-04bc-44ef-9685-be031d7bfe73"
      },
      "execution_count": 16,
      "outputs": [
        {
          "output_type": "stream",
          "name": "stdout",
          "text": [
            "\n",
            "Python version: ['3.10.12 (main, Nov 20 2023, 15:14:05) [GCC 11.4.0]']\n",
            "dist: N/A\n",
            "num_cores: 2\n",
            "linux_distribution: N/A\n",
            "system: Linux\n",
            "machine: x86_64\n",
            "platform: Linux-6.1.58+-x86_64-with-glibc2.35\n",
            "uname: uname_result(system='Linux', node='6602c9cd0f0d', release='6.1.58+', version='#1 SMP PREEMPT_DYNAMIC Sat Nov 18 15:31:17 UTC 2023', machine='x86_64')\n",
            "version: #1 SMP PREEMPT_DYNAMIC Sat Nov 18 15:31:17 UTC 2023\n",
            "RAM: 13.60945152\n",
            "\n"
          ]
        }
      ]
    },
    {
      "cell_type": "code",
      "source": [
        "torch.cuda.device_count()\n",
        "torch.cuda.get_device_properties(0).total_memory"
      ],
      "metadata": {
        "colab": {
          "base_uri": "https://localhost:8080/"
        },
        "id": "hHpcauGQfDuU",
        "outputId": "06efa2e4-dd2f-4ed7-bbe2-22d69adfe9c7"
      },
      "execution_count": 17,
      "outputs": [
        {
          "output_type": "execute_result",
          "data": {
            "text/plain": [
              "15835660288"
            ]
          },
          "metadata": {},
          "execution_count": 17
        }
      ]
    },
    {
      "cell_type": "code",
      "source": [
        "import yfinance as yf\n",
        "import pandas as pd\n",
        "import seaborn as sns\n",
        "import matplotlib as plt\n",
        "from sklearn.model_selection import TimeSeriesSplit\n",
        "from datetime import datetime\n",
        "import matplotlib.pyplot as plt\n",
        "\n",
        "pd.options.mode.chained_assignment = None\n"
      ],
      "metadata": {
        "id": "-YU0DRxuga_4"
      },
      "execution_count": 18,
      "outputs": []
    },
    {
      "cell_type": "code",
      "source": [
        "import subprocess\n",
        "import sys\n",
        "\n",
        "subprocess.check_call([sys.executable, \"-m\", \"pip\", \"install\", \"statsforecast\"])"
      ],
      "metadata": {
        "colab": {
          "base_uri": "https://localhost:8080/"
        },
        "id": "bKOyzoq0kuAB",
        "outputId": "b34fcf74-3b4e-4184-c014-b1f59df2958a"
      },
      "execution_count": 19,
      "outputs": [
        {
          "output_type": "execute_result",
          "data": {
            "text/plain": [
              "0"
            ]
          },
          "metadata": {},
          "execution_count": 19
        }
      ]
    },
    {
      "cell_type": "code",
      "source": [
        "from statsforecast import StatsForecast\n",
        "from statsforecast.models import AutoCES, AutoARIMA, AutoETS, DynamicOptimizedTheta\n",
        "import numpy as np\n",
        "import time"
      ],
      "metadata": {
        "id": "HI2srljshLUI"
      },
      "execution_count": 20,
      "outputs": []
    },
    {
      "cell_type": "markdown",
      "source": [
        "# Old Stat Functions"
      ],
      "metadata": {
        "id": "l14ED15pN7TW"
      }
    },
    {
      "cell_type": "code",
      "source": [
        "def crossValidation(train, test, window, outputFrame, modelName, predReturnFunction):\n",
        "\n",
        "    totalPredictions = pd.Series(dtype = 'float64')\n",
        "    windows = len(test) // window\n",
        "\n",
        "    predictionIndex = 0\n",
        "\n",
        "    for i in range(0, windows):\n",
        "        # debug\n",
        "        #print(\"Window: \", i, \"Method: \", modelName)\n",
        "\n",
        "        # How many observations to move forward each frame\n",
        "        addNum = i * window\n",
        "        # Combine training data with additional test window\n",
        "        intermediateData = pd.concat([train, test[:addNum]])\n",
        "        # Generate prediction of the given window size\n",
        "        prediction = predReturnFunction(intermediateData, window)\n",
        "        #print(prediction)\n",
        "        # Check if we have multiple predictions in the window\n",
        "        if len(prediction) > 1:\n",
        "            # Store each predicted value with a loop\n",
        "            for j in range(0,window):\n",
        "\n",
        "                # Store in the prediction-comparison frame\n",
        "                outputFrame[modelName][predictionIndex] = prediction[j]\n",
        "\n",
        "                # Move to next open spot\n",
        "                predictionIndex += 1\n",
        "        else:\n",
        "\n",
        "            outputFrame[modelName][predictionIndex] = prediction[0]\n",
        "            predictionIndex += 1\n"
      ],
      "metadata": {
        "id": "HVpcUSSjhJOd"
      },
      "execution_count": null,
      "outputs": []
    },
    {
      "cell_type": "code",
      "source": [
        "def stat_test_wrapper(seriesTrain, seriesTest, testDF,  test_out_size = 100, window_size = 1):\n",
        "    # Set the number of observations to be included in the test set\n",
        "\n",
        "  testDFCopy = testDF.copy()\n",
        "\n",
        "  tempTest = seriesTest[:test_out_size]\n",
        "\n",
        "  # Auto Arima\n",
        "  crossValidation(seriesTrain, tempTest, window_size, testDFCopy, 'auto_arima', aaPredFunction)\n",
        "\n",
        "  crossValidation(seriesTrain, tempTest, window_size, testDFCopy, 'complex_smoothing', cesPredFunction)\n",
        "\n",
        "  #crossValidation(seriesTrain, tempTest, window_size, testDFCopy, 'auto_ets', etsPredFunction)\n",
        "\n",
        "  crossValidation(seriesTrain, tempTest, window_size, testDFCopy, 'dyn_theta', dotPredFunction)\n",
        "\n",
        "\n",
        "\n",
        "\n",
        "  plot2 = testDFCopy.iloc[0:test_out_size,:]\n",
        "\n",
        "  preds = plot2.loc[:,['auto_arima', 'complex_smoothing', 'dyn_theta']]\n",
        "  # ensemble methods\n",
        "  plot2.loc[:,'mean_ens'] = preds.mean(axis = 1)\n",
        "  plot2.loc[:,'median_ens'] = preds.median(axis = 1)\n",
        "\n",
        "\n",
        "  plot2.loc[:,'auto_arima'] = abs( plot2.loc[:,'auto_arima'] - plot2.loc[:,'Price'] )\n",
        "  # auto ets is not very good apparently\n",
        "  #plot2.loc[:,'auto_ets'] = abs( plot2.loc[:,'auto_ets'] - plot2.loc[:,'Price'] )\n",
        "  plot2.loc[:,'complex_smoothing'] = abs( plot2.loc[:,'complex_smoothing'] - plot2.loc[:,'Price'] )\n",
        "  plot2.loc[:,'dyn_theta'] = abs( plot2.loc[:,'dyn_theta'] - plot2.loc[:,'Price'] )\n",
        "  plot2.loc[:,'mean_ens'] = abs( plot2.loc[:,'mean_ens'] - plot2.loc[:,'Price'] )\n",
        "  plot2.loc[:,'median_ens'] = abs( plot2.loc[:,'median_ens'] - plot2.loc[:,'Price'] )\n",
        "\n",
        "\n",
        "\n",
        "  # get the index as a column for plotting\n",
        "  plot2 = plot2.reset_index()\n",
        "\n",
        "  errorDat = plot2.copy()\n",
        "\n",
        "  names = ['auto_arima', 'dyn_theta', 'complex_smoothing']\n",
        "  errorDat['optimal'] = errorDat[names].idxmin(axis=\"columns\")\n",
        "\n",
        "  #print(\"reached loop\")\n",
        "  \"\"\"\n",
        "  for index in range(0, errorDat.shape[0]):\n",
        "      #print(index)\n",
        "\n",
        "      predictionErrors = errorDat.loc[index,['auto_arima', 'auto_ets', 'dyn_theta', 'complex_smoothing'] ]\n",
        "\n",
        "      #print(predictionErrors)\n",
        "\n",
        "      #print(min(abs(predictionErrors)))\n",
        "      #errorDat.loc[index ,'optimal'] = min(abs(predictionErrors))\n",
        "  \"\"\"\n",
        "\n",
        "\n",
        "\n",
        "  return testDFCopy, errorDat"
      ],
      "metadata": {
        "id": "e0eVuMiIlN01"
      },
      "execution_count": 4,
      "outputs": []
    },
    {
      "cell_type": "code",
      "source": [
        "def aaPredFunction(dataIn, windowSize):\n",
        "    model = AutoARIMA()\n",
        "    fit1 = model.fit(y = np.concatenate(dataIn.to_numpy()))\n",
        "    prediction = fit1.predict(h = windowSize)\n",
        "    return prediction.get('mean')\n",
        "\n",
        "\n",
        "def cesPredFunction(dataIn, windowSize):\n",
        "    model = AutoCES()\n",
        "    fit1 = model.fit(y = np.concatenate(dataIn.to_numpy()))\n",
        "    predictionList = fit1.predict(windowSize)\n",
        "    return predictionList.get('mean')\n",
        "\n",
        "def etsPredFunction(dataIn, windowSize):\n",
        "    model = AutoETS()\n",
        "    fit1 = model.fit(y = np.concatenate(dataIn.to_numpy()))\n",
        "    predictionList = fit1.predict(windowSize)\n",
        "    return predictionList.get('mean')\n",
        "\n",
        "def dotPredFunction(dataIn, windowSize):\n",
        "    model = DynamicOptimizedTheta()\n",
        "    fit1 = model.fit(y = np.concatenate(dataIn.to_numpy()))\n",
        "    predictionList = fit1.predict(windowSize)\n",
        "    return predictionList.get('mean')\n",
        "\n",
        "\n",
        "\n",
        "# Set the number of observations to be included in the test set\n",
        "test_out_size = 200\n",
        "\n",
        "tempTest = seriesTest[:test_out_size]\n"
      ],
      "metadata": {
        "id": "tM9QbHylhSvQ"
      },
      "execution_count": null,
      "outputs": []
    },
    {
      "cell_type": "code",
      "source": [
        "\n",
        "\n",
        "def prep_ticker(ticker, start_date = '2022-06-01', end_date = '2023-09-30', intervals = '60m', split = True, train_size = 2000, model_list = ['auto_arima', 'dyn_theta', 'auto_ets', 'complex_smoothing']):\n",
        "  data = yf.download(ticker,start_date, end_date, interval = intervals)\n",
        "  #print(data.head())\n",
        "  data.reset_index(inplace = True)\n",
        "\n",
        "\n",
        "  data_train = data[:train_size]\n",
        "  data_test = data[train_size:]\n",
        "\n",
        "  test_size = len(data_test)\n",
        "\n",
        "\n",
        "  data_test = data_test[[\"Datetime\", \"Close\"]]\n",
        "  data_train = data_train[[\"Datetime\", \"Close\"]]\n",
        "\n",
        "  seriesTrain = data_train.set_index('Datetime')\n",
        "  seriesTest = data_test.set_index('Datetime')\n",
        "\n",
        "  testResultsDF = pd.DataFrame(index = range(test_size))\n",
        "  testResultsDF['Price'] = 0\n",
        "\n",
        "  #print(data.head())\n",
        "\n",
        "  # Get a clean format for close prices\n",
        "  for i in range(0,test_size):\n",
        "      testResultsDF['Price'][i] = seriesTest.values[i][0]\n",
        "\n",
        "\n",
        "  # Initialize empty cells for the statistical forecasts\n",
        "  for modeltype in model_list:\n",
        "    testResultsDF[modeltype] = 0\n",
        "\n",
        "  return testResultsDF, seriesTrain, seriesTest"
      ],
      "metadata": {
        "id": "GRRsuTtaWZd2"
      },
      "execution_count": null,
      "outputs": []
    },
    {
      "cell_type": "markdown",
      "source": [
        "# Old Stat Examples\n"
      ],
      "metadata": {
        "id": "N3FbBbIBN-db"
      }
    },
    {
      "cell_type": "code",
      "source": [
        "\n",
        "data = yf.download('SPY','2022-06-01','2023-09-30', interval =\"60m\")\n",
        "%matplotlib inline\n",
        "\n",
        "data['Adj Close'].plot()\n",
        "plt.ion()\n",
        "print(data)\n",
        "\n",
        "data.reset_index(inplace = True)\n",
        "print(data.head())"
      ],
      "metadata": {
        "id": "yzKoe4nigzre"
      },
      "execution_count": null,
      "outputs": []
    },
    {
      "cell_type": "code",
      "source": [
        "train_size = 2000\n",
        "\n",
        "data_train = data[:train_size]\n",
        "data_test = data[train_size:]\n",
        "\n",
        "test_size = len(data_test)\n",
        "\n",
        "\n",
        "data_test = data_test[[\"Datetime\", \"Close\"]]\n",
        "data_train = data_train[[\"Datetime\", \"Close\"]]\n",
        "\n",
        "seriesTrain = data_train.set_index('Datetime')\n",
        "seriesTest = data_test.set_index('Datetime')\n",
        "\n",
        "cv_data = data[['Close']]"
      ],
      "metadata": {
        "id": "Xo_WQK4WhEky"
      },
      "execution_count": null,
      "outputs": []
    },
    {
      "cell_type": "code",
      "source": [
        "# Let's reformat the test data into a dataframe we can add our predictions to\n",
        "\n",
        "testResultsDF = pd.DataFrame(index = range(test_size))\n",
        "testResultsDF['Price'] = 0\n",
        "# Get a clean format for close prices\n",
        "for i in range(0,test_size):\n",
        "    testResultsDF['Price'][i] = seriesTest.values[i][0]\n",
        "\n",
        "\n",
        "# Initialize empty cells for the statistical forecasts\n",
        "testResultsDF['auto_arima'] = 0\n",
        "testResultsDF['dyn_theta'] = 0\n",
        "#testResultsDF['auto_ets'] = 0\n",
        "testResultsDF['complex_smoothing'] = 0"
      ],
      "metadata": {
        "id": "nAYAKdiChGmB"
      },
      "execution_count": null,
      "outputs": []
    },
    {
      "cell_type": "code",
      "source": [
        "\n",
        "# Auto Arima\n",
        "crossValidation(seriesTrain, tempTest, 1, testResultsDF, 'auto_arima', aaPredFunction)\n",
        "\n",
        "crossValidation(seriesTrain, tempTest, 1, testResultsDF, 'complex_smoothing', cesPredFunction)\n",
        "\n",
        "crossValidation(seriesTrain, tempTest, 1, testResultsDF, 'auto_ets', etsPredFunction)\n",
        "\n",
        "crossValidation(seriesTrain, tempTest, 1, testResultsDF, 'dyn_theta', dotPredFunction)\n"
      ],
      "metadata": {
        "id": "nzAn1r3eAO3y"
      },
      "execution_count": null,
      "outputs": []
    },
    {
      "cell_type": "code",
      "source": [
        "print(testResultsDF)\n",
        "\n",
        "plot1 = testResultsDF.iloc[0:test_out_size,:]\n",
        "\n",
        "# get the index as a column for plotting\n",
        "plot1 = plot1.reset_index()\n",
        "\n",
        "plot1 = pd.melt(plot1, id_vars = ['index'], value_vars =  ['auto_arima', 'auto_ets', 'complex_smoothing', 'dyn_theta', 'Price'])\n",
        "\n",
        "print(plot1)\n",
        "\n",
        "sns.lineplot(plot1, x = 'index', y = 'value', hue = 'variable')"
      ],
      "metadata": {
        "id": "3pR4l_YPhdoF"
      },
      "execution_count": null,
      "outputs": []
    },
    {
      "cell_type": "code",
      "source": [
        "\n",
        "plot1 = testResultsDF.iloc[0:test_out_size,:]\n",
        "\n",
        "# get the index as a column for plotting\n",
        "plot1 = plot1.reset_index()\n",
        "\n",
        "plot1 = pd.melt(plot1, id_vars = ['index'], value_vars =  ['auto_arima', 'auto_ets', 'complex_smoothing', 'dyn_theta', 'Price'])\n",
        "\n",
        "print(plot1)\n",
        "\n",
        "sns.lineplot(plot1, x = 'index', y = 'value', hue = 'variable')"
      ],
      "metadata": {
        "id": "99el4haXjZJM"
      },
      "execution_count": null,
      "outputs": []
    },
    {
      "cell_type": "code",
      "source": [
        "print(testResultsDF)\n",
        "\n",
        "plot2 = testResultsDF.iloc[0:test_out_size,:]\n",
        "\n",
        "plot2['auto_arima'] = plot2['auto_arima'] - plot2['Price']\n",
        "plot2['auto_ets'] = plot2['auto_ets'] - plot2['Price']\n",
        "plot2['complex_smoothing'] = plot2['complex_smoothing'] - plot2['Price']\n",
        "plot2['dyn_theta'] = plot2['dyn_theta'] - plot2['Price']\n",
        "\n",
        "\n",
        "\n",
        "\n",
        "\n",
        "# get the index as a column for plotting\n",
        "plot2 = plot2.reset_index()\n",
        "\n",
        "errorDat = plot2.copy()\n",
        "\n",
        "plot2 = pd.melt(plot2, id_vars = ['index'], value_vars =  ['auto_arima', 'auto_ets', 'complex_smoothing', 'dyn_theta'])\n",
        "\n",
        "sns.barplot(plot2, x = 'index', y = 'value', hue = 'variable')"
      ],
      "metadata": {
        "id": "P-p9QbHCj5gN"
      },
      "execution_count": null,
      "outputs": []
    },
    {
      "cell_type": "code",
      "source": [
        "print(AAPLerrors.head())\n",
        "print(AAPLerrors['optimal'].value_counts() )\n",
        "\n",
        "print(AAPLerrors['auto_arima'].mean())\n",
        "print(AAPLerrors['dyn_theta'].mean())\n",
        "print(AAPLerrors['complex_smoothing'].mean())\n",
        "print(AAPLerrors['mean_ens'].mean())\n",
        "\n",
        "optimals = ['auto_arima', 'dyn_theta', 'complex_smoothing']\n",
        "print(AAPLerrors[optimals].min(axis=\"columns\").mean())\n"
      ],
      "metadata": {
        "id": "aeAJVba9zC3G"
      },
      "execution_count": null,
      "outputs": []
    },
    {
      "cell_type": "code",
      "source": [
        "AAPLpreds, AAPLerrors = stat_test_wrapper(trainSeriesAAPL, testSeriesAAPL, testResultsAAPL, 25, 1)\n"
      ],
      "metadata": {
        "id": "G57EBqz8y2S-"
      },
      "execution_count": null,
      "outputs": []
    },
    {
      "cell_type": "code",
      "source": [
        "errorDat['optimal'] = 0\n",
        "\n",
        "for index in range(0, errorDat.shape[0]):\n",
        "   # print(index)\n",
        "    predictionErrors = errorDat.loc[:,('auto_arima', 'auto_ets', 'dyn_theta', 'complex_smoothing') ]\n",
        "\n",
        "    #print(predictionErrors.min())\n",
        "\n",
        "    errorDat.loc[index ,'optimal'] = min(predictionErrors)\n",
        "\n",
        "errorDat"
      ],
      "metadata": {
        "id": "rRxuc2fUly-G"
      },
      "execution_count": null,
      "outputs": []
    },
    {
      "cell_type": "code",
      "source": [
        "print(qqqerrors.head())\n",
        "print(qqqerrors['optimal'].value_counts() )\n",
        "# QQQ, 22-6-1 to 23-9-30, 1hr,\n",
        "# > 5-1 is auto_arima 4, complex smoothing 1\n",
        "# > 100-1 is auto_arima 50, complex smoothing 44, dyn_theta 6\n",
        "# > 200-20 is auto_arima 41, complex_smoothing 111, dyn_theta 48\n",
        "# > 200-50 is auto_arima 18, c_s 92, dyn_theta 90\n",
        "# > 200-100 is a_a 60, c_s 78, d_t 62\n",
        "# AAPL, 22-6-1 to 23-9-30, 1hr,\n",
        "# 100 - 1 is a_a 42, c_s 51, d_t 7\n",
        "\n"
      ],
      "metadata": {
        "id": "5oF603FGsIs1"
      },
      "execution_count": null,
      "outputs": []
    },
    {
      "cell_type": "markdown",
      "source": [
        "\n",
        "\n",
        "```\n",
        "# This is formatted as code\n",
        "```\n",
        "\n",
        "# New DL Functions"
      ],
      "metadata": {
        "id": "Cx2aXYcaOA0-"
      }
    },
    {
      "cell_type": "code",
      "source": [
        "# Getting more different financial datasets\n",
        "\n",
        "\n",
        "def prep_ticker(ticker, start_date = '2022-06-01', end_date = '2023-09-30', intervals = '60m', split = True, train_size = 2000, model_list = ['auto_arima', 'dyn_theta', 'auto_ets', 'complex_smoothing']):\n",
        "  data = yf.download(ticker,start_date, end_date, interval = intervals)\n",
        "\n",
        "\n",
        "  data.reset_index(inplace = True)\n",
        "\n",
        "  if split == True:\n",
        "    data_train = data[:train_size]\n",
        "    data_test = data[train_size:]\n",
        "\n",
        "    test_size = len(data_test)\n",
        "\n",
        "\n",
        "    data_test = data_test[[\"Datetime\", \"Close\"]]\n",
        "    data_train = data_train[[\"Datetime\", \"Close\"]]\n",
        "\n",
        "    seriesTrain = data_train.set_index('Datetime')\n",
        "    seriesTest = data_test.set_index('Datetime')\n",
        "\n",
        "\n",
        "    return seriesTrain, seriesTest\n",
        "\n",
        "  elif split == False:\n",
        "    data_out = data\n",
        "\n",
        "    data_out = data_out[[\"Datetime\", \"Close\"]]\n",
        "\n",
        "    seriesOut = data_out.set_index('Datetime')\n",
        "\n",
        "\n",
        "    return seriesOut\n",
        "\n",
        "\n"
      ],
      "metadata": {
        "id": "7ZVIFG9onTH7"
      },
      "execution_count": 32,
      "outputs": []
    },
    {
      "cell_type": "code",
      "source": [
        "def new_aaPredFunction(dataIn, windowSize):\n",
        "    model = AutoARIMA()\n",
        "    fit1 = model.fit(dataIn)\n",
        "    prediction = fit1.predict(h = windowSize)\n",
        "    return prediction.get('mean')\n",
        "\n",
        "\n",
        "def new_cesPredFunction(dataIn, windowSize):\n",
        "    model = AutoCES()\n",
        "    fit1 = model.fit(dataIn)\n",
        "    predictionList = fit1.predict(windowSize)\n",
        "    return predictionList.get('mean')\n",
        "\n",
        "def new_etsPredFunction(dataIn, windowSize):\n",
        "    model = AutoETS()\n",
        "    fit1 = model.fit(dataIn)\n",
        "    predictionList = fit1.predict(windowSize)\n",
        "    return predictionList.get('mean')\n",
        "\n",
        "def new_dotPredFunction(dataIn, windowSize):\n",
        "    model = DynamicOptimizedTheta()\n",
        "    fit1 = model.fit(dataIn)\n",
        "    predictionList = fit1.predict(windowSize)\n",
        "    return predictionList.get('mean')"
      ],
      "metadata": {
        "id": "nzhZY8XEPjkZ"
      },
      "execution_count": 25,
      "outputs": []
    },
    {
      "cell_type": "code",
      "source": [
        "def stat_true_window_cross_val(unsplitdata, model_names, predReturnFunctions, train_window = 10, test_window = 1):\n",
        "    totalPredictions = pd.Series(dtype = 'float64')\n",
        "    windows = len(unsplitdata) // (train_window + test_window)\n",
        "    columns = train_window + (test_window * (1 + len(model_names)))\n",
        "\n",
        "    pred_df = np.zeros([windows, columns])\n",
        "    print(pred_df.shape)\n",
        "\n",
        "    unsplitdata = np.array(unsplitdata)\n",
        "    unsplitdata = unsplitdata.reshape((unsplitdata.shape[0],))\n",
        "    print(unsplitdata.shape)\n",
        "\n",
        "    # indexes loop through the data\n",
        "    predictionIndex = 0\n",
        "    startindex = 0\n",
        "\n",
        "    for i in range(0, windows):\n",
        "        # debug\n",
        "        #print(\"Window: \", i)\n",
        "\n",
        "        train_window_dat = unsplitdata[startindex:(startindex+train_window)]\n",
        "        #print(train_window_dat)\n",
        "        test_window_dat = unsplitdata[(startindex+train_window ): (test_window + startindex+train_window)]\n",
        "\n",
        "        startindex = startindex + train_window + test_window\n",
        "\n",
        "        #print(pred_df[i,0:train_window])\n",
        "        #print(pred_df[i,0:train_window].shape)\n",
        "\n",
        "        #print(train_window_dat.shape)\n",
        "        #print( train_window_dat.reshape((train_window,)).shape)\n",
        "\n",
        "        pred_df[i,0:train_window] = np.reshape(train_window_dat, [train_window])\n",
        "        pred_df[i,(train_window):(train_window + test_window)] = test_window_dat\n",
        "\n",
        "        for modnum, modelfunction in enumerate(predReturnFunctions):\n",
        "          # account for many many columns in output array over to shift for this model\n",
        "          # add 1 to fit the real values\n",
        "          #print(modnum)\n",
        "          offset = ((modnum + 1) * test_window) + train_window\n",
        "\n",
        "          # Generate prediction of the given window size\n",
        "          prediction = modelfunction(train_window_dat, test_window)\n",
        "          #print(prediction[0])\n",
        "\n",
        "          # Check if we have multiple predictions in the window\n",
        "          if len(prediction) > 1:\n",
        "              # Store each predicted value with a loop\n",
        "              for j in range(0,test_window):\n",
        "\n",
        "                  # Store in the prediction-comparison frame\n",
        "                  pred_df[i,j + offset] = prediction[j]\n",
        "\n",
        "          else:\n",
        "\n",
        "              pred_df[i,offset] = prediction[0]\n",
        "\n",
        "\n",
        "\n",
        "    return pred_df\n"
      ],
      "metadata": {
        "id": "skBWEjboSjvV"
      },
      "execution_count": null,
      "outputs": []
    },
    {
      "cell_type": "markdown",
      "source": [
        "# New DL Examples\n"
      ],
      "metadata": {
        "id": "Klo_b31iOH6F"
      }
    },
    {
      "cell_type": "code",
      "source": [
        "full_test = prep_ticker('QQQ', split = False)\n",
        "\n",
        "print(full_test.head)\n",
        "\n",
        "\n",
        "output = stat_true_window_cross_val(full_test, ['auto_arima','complex_smoothing'], [new_aaPredFunction, new_cesPredFunction])"
      ],
      "metadata": {
        "colab": {
          "base_uri": "https://localhost:8080/"
        },
        "id": "yRoxdMf4XcQz",
        "outputId": "da2bd9d9-21bd-4d6b-fc7a-8c397ae316e0"
      },
      "execution_count": 34,
      "outputs": [
        {
          "output_type": "stream",
          "name": "stderr",
          "text": [
            "\r[*********************100%%**********************]  1 of 1 completed\n"
          ]
        },
        {
          "output_type": "stream",
          "name": "stdout",
          "text": [
            "<bound method NDFrame.head of                           Close\n",
            "Datetime                       \n",
            "2022-06-01 09:30:00  307.549988\n",
            "2022-06-01 10:30:00  306.209991\n",
            "2022-06-01 11:30:00  304.311493\n",
            "2022-06-01 12:30:00  305.239990\n",
            "2022-06-01 13:30:00  308.059998\n",
            "...                         ...\n",
            "2023-09-29 11:30:00  360.250000\n",
            "2023-09-29 12:30:00  358.309998\n",
            "2023-09-29 13:30:00  357.269989\n",
            "2023-09-29 14:30:00  358.570007\n",
            "2023-09-29 15:30:00  358.339996\n",
            "\n",
            "[2337 rows x 1 columns]>\n",
            "(212, 13)\n",
            "(2337,)\n",
            "[307.54998779 306.20999146 304.31149292 305.23999023 308.05999756\n",
            " 307.82000732 305.98999023 305.47839355 309.08999634 311.3500061 ]\n",
            "[313.27999878 312.60998535 314.48001099 308.23999023 305.38000488\n",
            " 306.63000488 306.69000244 307.29998779 306.05499268 306.08999634]\n",
            "[308.68811035 306.24920654 306.91000366 307.1499939  306.3999939\n",
            " 307.29000854 307.02999878 307.21929932 306.92999268 308.57998657]\n",
            "[309.4750061  309.95001221 310.32000732 311.17001343 309.44000244\n",
            " 307.82998657 307.42800903 308.14001465 307.70999146 308.45291138]\n",
            "[306.51998901 306.1000061  305.01998901 301.57501221 299.23999023\n",
            " 289.41000366 288.73999023 289.22000122 289.79998779 290.08999634]\n",
            "[288.67001343 277.98001099 277.81500244 279.08999634 277.85998535\n",
            " 277.89001465 275.64001465 275.48001099 274.94000244 275.57000732]\n",
            "[277.31988525 276.2749939  275.01000977 276.05999756 280.3999939\n",
            " 279.79000854 281.29998779 280.73999023 278.88000488 285.32998657]\n",
            "[273.41000366 272.88000488 272.32000732 272.85998535 270.03210449\n",
            " 271.55999756 271.6499939  272.47000122 274.70001221 273.95001221]\n",
            "[276.14001465 276.02999878 274.66000366 282.5        282.76000977\n",
            " 281.70498657 281.94000244 281.59500122 281.94500732 281.17001343]\n",
            "[283.50500488 281.97009277 283.29000854 283.36999512 281.72000122\n",
            " 280.70001221 282.9710083  284.41500854 282.5        281.11999512]\n",
            "[283.96990967 284.8999939  292.54998779 291.50009155 291.77999878\n",
            " 291.8500061  292.10501099 292.71499634 295.         292.35998535]\n",
            "[292.80010986 293.20999146 292.51998901 292.54089355 292.5\n",
            " 291.76000977 288.04998779 286.8500061  285.94000244 284.8598938 ]\n",
            "[283.47000122 283.90270996 283.51989746 281.92999268 282.97000122\n",
            " 284.29000854 284.6000061  283.89001465 276.72000122 281.14001465]\n",
            "[282.13000488 281.92999268 280.67001343 280.23999023 278.14001465\n",
            " 279.01199341 279.11999512 278.83999634 280.48999023 281.23001099]\n",
            "[279.45999146 279.36999512 282.70001221 283.51000977 284.65969849\n",
            " 286.52999878 287.05999756 287.17999268 286.54998779 286.95999146]\n",
            "[288.61999512 290.51000977 288.76000977 292.47891235 292.5\n",
            " 293.82998657 293.75       295.09979248 295.05999756 294.97000122]\n",
            "[296.54501343 293.76010132 294.5        295.6499939  295.3999939\n",
            " 295.33999634 289.6000061  290.17001343 289.94000244 291.07000732]\n",
            "[289.17999268 288.97000122 287.73999023 289.67999268 289.30999756\n",
            " 288.79000854 288.67999268 285.54000854 286.19000244 283.51998901]\n",
            "[286.1499939  287.13931274 286.8999939  286.51000977 285.64001465\n",
            " 280.8500061  283.20999146 283.23999023 284.47000122 286.82000732]\n",
            "[286.70001221 290.8500061  290.98001099 290.51998901 291.07000732\n",
            " 291.07501221 291.07501221 291.88000488 294.70001221 295.03930664]\n",
            "[294.66000366 291.13000488 289.70001221 289.41000366 293.70498657\n",
            " 295.70999146 296.13000488 296.45001221 297.32998657 297.95999146]\n",
            "[301.20001221 303.07998657 303.41500854 301.70999146 302.51998901\n",
            " 303.76000977 303.01998901 301.35998535 304.02999878 306.44009399]\n",
            "[306.57000732 306.52999878 307.42999268 305.90008545 303.54998779\n",
            " 302.13000488 301.25100708 300.64001465 302.08499146 302.        ]\n",
            "[300.38989258 300.37991333 300.42001343 299.29000854 298.51239014\n",
            " 300.3500061  296.25       295.29000854 294.99819946 295.48001099]\n",
            "[294.10998535 294.3500061  301.69000244 301.98001099 302.98181152\n",
            " 302.44799805 302.82449341 308.45001221 306.76000977 303.3500061 ]\n",
            "[308.09899902 308.52859497 309.01000977 310.01998901 309.76998901\n",
            " 314.13000488 311.30499268 312.75       313.54000854 314.98999023]\n",
            "[315.42999268 315.73999023 317.95001221 317.00009155 314.66000366\n",
            " 314.91000366 314.86999512 315.23999023 313.91000366 315.3999939 ]\n",
            "[315.95001221 315.6499939  315.23001099 314.29000854 319.35379028\n",
            " 320.60998535 321.26998901 322.70999146 323.04000854 322.82000732]\n",
            "[322.13000488 321.72000122 323.80999756 323.61999512 323.60009766\n",
            " 324.35998535 324.32501221 322.95999146 318.51150513 320.38000488]\n",
            "[320.07000732 320.88000488 321.79000854 324.95001221 323.17999268\n",
            " 320.48001099 320.86999512 320.1499939  320.19000244 320.70001221]\n",
            "[317.45001221 315.5        316.48989868 316.16000366 317.43341064\n",
            " 317.04000854 323.14498901 324.97000122 324.51000977 324.79501343]\n",
            "[325.5112915  325.92001343 329.08999634 326.48999023 326.26998901\n",
            " 326.49990845 325.06008911 324.15548706 324.07000732 326.94000244]\n",
            "[328.42498779 328.58959961 328.96499634 330.04000854 330.54000854\n",
            " 330.19009399 330.76998901 332.30630493 332.60998535 332.32000732]\n",
            "[333.1000061  330.19000244 331.70999146 332.25878906 332.67999268\n",
            " 333.70999146 332.08499146 332.30999756 328.3500061  327.70999146]\n",
            "[328.52999878 330.49481201 329.11990356 328.48999023 327.91000366\n",
            " 329.95999146 329.03500366 329.7381897  329.55999756 330.17669678]\n",
            "[323.73001099 322.98001099 323.09500122 322.90689087 322.83999634\n",
            " 323.1000061  322.875      316.05499268 315.45999146 316.01989746]\n",
            "[314.63000488 314.23001099 314.45001221 315.41000366 314.38000488\n",
            " 313.76998901 315.36999512 315.26501465 314.80999756 314.08999634]\n",
            "[316.29998779 316.17001343 314.5        315.20001221 315.44000244\n",
            " 315.01000977 318.95001221 317.25       317.52990723 318.0098877 ]\n",
            "[318.79998779 320.52999878 316.38989258 312.51000977 311.36990356\n",
            " 311.36499023 309.91000366 308.97000122 307.42001343 306.11990356]\n",
            "[305.2868042  305.92999268 305.48001099 305.82998657 304.3999939\n",
            " 302.25       300.79998779 300.83999634 299.29998779 299.35998535]\n",
            "[300.98999023 301.79998779 300.50860596 301.33999634 300.23999023\n",
            " 300.33999634 300.60198975 299.26000977 296.51000977 293.30999756]\n",
            "[295.35501099 296.73999023 297.24499512 299.42999268 302.41769409\n",
            " 302.60998535 300.08108521 295.95999146 296.1000061  295.25      ]\n",
            "[292.41000366 294.19000244 293.57000732 292.13000488 293.51000977\n",
            " 293.39001465 293.07000732 294.30499268 295.63500977 295.44000244]\n",
            "[298.57000732 299.91290283 298.95001221 298.77999878 301.3500061\n",
            " 296.91241455 299.29000854 299.04998779 299.38000488 300.51000977]\n",
            "[306.23001099 305.51000977 306.85998535 307.17498779 307.10430908\n",
            " 307.02999878 310.67001343 310.50930786 309.39001465 310.47000122]\n",
            "[310.05999756 310.76000977 299.85101318 297.42999268 297.67498779\n",
            " 298.8500061  296.95001221 294.50500488 293.63000488 293.33999634]\n",
            "[295.77999878 296.05999756 294.47000122 293.82998657 296.07998657\n",
            " 293.59500122 292.1000061  291.23999023 294.11459351 292.27999878]\n",
            "[291.01998901 287.20001221 286.54000854 285.89001465 286.58999634\n",
            " 287.86010742 288.48690796 289.23999023 288.45999146 288.16970825]\n",
            "[289.10501099 288.51998901 290.70001221 291.08999634 288.83999634\n",
            " 289.87161255 289.62420654 287.67999268 287.67001343 288.80938721]\n",
            "[290.48001099 289.67001343 290.36999512 290.10198975 286.8999939\n",
            " 287.         283.42001343 280.98999023 279.56021118 280.35998535]\n",
            "[279.52999878 281.57998657 280.04998779 276.29998779 275.58999634\n",
            " 273.8039856  274.17001343 273.29000854 274.19000244 275.51998901]\n",
            "[275.59500122 274.42001343 274.29000854 274.30999756 275.6000061\n",
            " 274.19000244 276.94000244 275.61999512 273.21109009 273.15130615]\n",
            "[273.98999023 274.51000977 276.30999756 276.83999634 277.70001221\n",
            " 278.45999146 278.48001099 280.04000854 279.8500061  271.459198  ]\n",
            "[271.54000854 270.76998901 269.84890747 270.4598999  272.01998901\n",
            " 272.83999634 274.51998901 272.07998657 272.04998779 270.55999756]\n",
            "[267.17999268 271.51000977 272.         271.07000732 272.63000488\n",
            " 274.33050537 274.8500061  273.54998779 281.6000061  282.42999268]\n",
            "[280.27999878 280.70999146 281.40499878 282.16000366 275.97000122\n",
            " 276.98999023 279.0249939  280.99990845 281.32000732 282.84500122]\n",
            "[279.48999023 282.39001465 281.26000977 281.92999268 280.91000366\n",
            " 280.58990479 279.79998779 272.63000488 271.82870483 270.33990479]\n",
            "[269.04000854 268.42001343 269.01000977 267.61999512 265.86999512\n",
            " 264.75       265.00500488 266.70999146 266.8500061  266.17001343]\n",
            "[264.47000122 265.94000244 265.67498779 265.51998901 262.11889648\n",
            " 262.89001465 263.41549683 263.99050903 263.32998657 263.61499023]\n",
            "[263.32998657 262.73001099 257.38000488 264.79000854 264.98001099\n",
            " 268.3210144  266.95999146 268.95001221 268.73999023 264.83999634]\n",
            "[262.7901001  262.54998779 261.75       261.67999268 260.63000488\n",
            " 268.92001343 268.92999268 269.20999146 269.32000732 269.48999023]\n",
            "[269.48001099 273.04998779 269.89001465 271.29000854 271.89001465\n",
            " 272.54989624 270.45001221 271.66000366 273.41009521 271.31988525]\n",
            "[268.97000122 270.31570435 269.67999268 270.58999634 274.42001343\n",
            " 273.27999878 271.48498535 270.44000244 268.30999756 268.8999939 ]\n",
            "[269.57998657 269.86999512 271.45999146 272.79000854 274.07000732\n",
            " 275.67999268 275.48001099 273.01000977 275.91009521 277.32501221]\n",
            "[277.35861206 279.07998657 278.54000854 282.67001343 283.27999878\n",
            " 283.69000244 282.54998779 283.54949951 284.23239136 284.26998901]\n",
            "[283.44000244 282.45999146 278.82998657 278.63690186 278.22000122\n",
            " 277.91000366 277.48010254 275.08999634 273.04998779 274.07000732]\n",
            "[273.4960022  272.79000854 276.26998901 278.0249939  279.40631104\n",
            " 279.83499146 280.1499939  281.19000244 281.22000122 276.67999268]\n",
            "[278.63000488 278.92999268 278.39001465 278.03988647 277.92001343\n",
            " 277.70010376 276.3500061  275.3999939  275.59640503 275.76889038]\n",
            "[275.04000854 273.57000732 272.73001099 272.01000977 272.34020996\n",
            " 277.63000488 267.61999512 265.66000366 263.3999939  261.83999634]\n",
            "[262.42001343 262.50149536 262.21209717 260.51000977 265.66000366\n",
            " 262.73001099 261.91000366 259.95999146 261.04000854 263.25      ]\n",
            "[264.60998535 265.70999146 264.75500488 265.38000488 267.07000732\n",
            " 267.81988525 267.57998657 269.48001099 271.79998779 272.02990723]\n",
            "[265.8999939  269.97009277 269.52999878 267.19000244 266.95999146\n",
            " 266.32998657 265.34500122 264.91000366 264.26000977 263.26998901]\n",
            "[278.3999939  278.8500061  278.84109497 279.67999268 281.36999512\n",
            " 282.67999268 285.67001343 283.3052063  285.41000366 287.29998779]\n",
            "[287.6499939  287.97000122 286.34188843 285.52999878 287.36999512\n",
            " 288.82998657 288.89001465 287.41000366 285.36999512 292.67999268]\n",
            "[291.56500244 288.07000732 289.5        289.98001099 289.41000366\n",
            " 285.668396   286.0249939  286.16000366 286.7210083  285.94000244]\n",
            "[285.3999939  283.57998657 283.06008911 284.32998657 285.73999023\n",
            " 284.22000122 283.02999878 284.82000732 284.85998535 284.51998901]\n",
            "[283.92001343 283.34500122 284.81851196 284.77999878 282.32501221\n",
            " 282.31478882 281.25       282.30551147 281.89001465 281.80499268]\n",
            "[282.42001343 283.26000977 283.51000977 284.39990234 284.32998657\n",
            " 285.35009766 285.91000366 288.63809204 288.70999146 287.29998779]\n",
            "[288.77999878 288.95999146 288.85998535 287.36999512 286.97000122\n",
            " 287.27999878 284.79998779 284.63000488 284.73001099 284.32000732]\n",
            "[281.91900635 282.64001465 283.04000854 279.77999878 280.36999512\n",
            " 279.5        280.25500488 280.33499146 280.54000854 281.3500061 ]\n",
            "[280.42999268 281.48999023 290.01000977 291.48001099 293.44000244\n",
            " 291.36999512 292.83999634 293.1388855  293.1000061  293.72000122]\n",
            "[293.72000122 290.07000732 290.63000488 290.88000488 290.53500366\n",
            " 290.75       292.57998657 292.60998535 289.55999756 289.69000244]\n",
            "[288.28900146 286.8999939  286.47000122 287.51998901 283.38000488\n",
            " 283.44000244 282.63659668 281.67001343 280.61990356 280.45001221]\n",
            "[280.75       279.51998901 279.84829712 281.33999634 280.48999023\n",
            " 280.1257019  280.42999268 283.95001221 283.35998535 282.92001343]\n",
            "[282.94000244 284.16000366 283.88000488 283.51309204 284.92999268\n",
            " 285.         284.01000977 284.32501221 283.8500061  282.08999634]\n",
            "[282.40499878 282.44000244 282.55010986 282.8500061  284.78060913\n",
            " 285.60998535 292.44000244 291.91101074 286.92001343 288.45999146]\n",
            "[288.5        288.72000122 290.5        290.8500061  289.83999634\n",
            " 290.01998901 286.79000854 285.77731323 286.43270874 279.11999512]\n",
            "[277.51998901 276.23999023 276.05999756 277.73001099 276.92001343\n",
            " 274.08990479 273.54998779 273.70999146 272.83999634 273.14068604]\n",
            "[274.22000122 272.57839966 270.82000732 270.3999939  270.8999939\n",
            " 269.06100464 268.92001343 269.82998657 270.4750061  268.10681152]\n",
            "[270.1499939  269.98028564 269.94119263 269.57000732 272.42999268\n",
            " 273.70001221 273.02999878 273.34719849 274.08999634 273.20999146]\n",
            "[266.17001343 265.6499939  263.76000977 262.95001221 264.44500732\n",
            " 266.5249939  266.80999756 266.48989868 265.94000244 266.92279053]\n",
            "[266.64001465 266.82998657 267.45999146 265.23999023 265.08999634\n",
            " 264.50061035 264.1499939  263.39001465 264.11999512 263.53500366]\n",
            "[261.3999939  260.69000244 261.8500061  260.91000366 260.08999634\n",
            " 260.01998901 265.51000977 266.2749939  266.70489502 266.45001221]\n",
            "[266.82998657 266.51000977 263.92999268 263.59899902 264.38000488\n",
            " 263.35998535 263.42001343 264.35598755 266.33499146 264.57998657]\n",
            "[262.82009888 263.44000244 263.54000854 264.47021484 264.42999268\n",
            " 263.73001099 265.67999268 266.79998779 266.42010498 263.73001099]\n",
            "[265.75       262.91000366 262.32000732 262.48498535 263.16000366\n",
            " 262.58499146 262.01000977 261.57998657 263.3500061  265.61999512]\n",
            "[266.98001099 268.54000854 269.16000366 268.76000977 273.26000977\n",
            " 275.02999878 274.92498779 274.67700195 273.26010132 271.20999146]\n",
            "[271.07000732 270.73999023 270.75       271.45001221 272.38000488\n",
            " 271.88000488 272.92001343 275.42999268 275.         275.92999268]\n",
            "[275.88000488 276.71499634 277.57998657 277.47000122 277.1000061\n",
            " 279.26501465 277.82998657 279.11999512 278.68939209 279.04000854]\n",
            "[277.98001099 278.73999023 279.01989746 280.0249939  280.70999146\n",
            " 280.95001221 282.20001221 280.3500061  280.72000122 281.45010376]\n",
            "[281.48001099 281.45001221 283.70001221 279.95001221 278.98010254\n",
            " 278.68499756 279.42001343 278.82940674 277.86499023 275.58990479]\n",
            "[274.76000977 275.32080078 276.86599731 276.47659302 275.08999634\n",
            " 278.23999023 279.42999268 279.47000122 279.16000366 281.30999756]\n",
            "[282.79998779 287.04000854 288.48999023 288.94000244 289.75\n",
            " 288.92999268 288.30499268 289.01000977 288.22988892 289.16598511]\n",
            "[288.61999512 288.42001343 288.38000488 288.44000244 282.20001221\n",
            " 284.04998779 284.40499878 286.22000122 287.05999756 287.51998901]\n",
            "[291.35998535 289.51000977 290.79000854 290.79000854 291.89559937\n",
            " 292.72000122 293.36999512 294.89001465 294.66000366 295.92001343]\n",
            "[297.23001099 297.89001465 296.19000244 292.17999268 292.2348938\n",
            " 292.09991455 291.83999634 290.88000488 290.20999146 290.14001465]\n",
            "[292.9624939  292.73001099 292.75       293.36499023 292.76998901\n",
            " 294.67001343 294.36999512 294.11401367 293.80999756 294.32998657]\n",
            "[301.3999939  301.07000732 308.79998779 310.63308716 310.76049805\n",
            " 311.73498535 310.85610962 309.98999023 311.76000977 309.92001343]\n",
            "[311.20999146 307.91000366 306.85998535 306.32000732 306.17999268\n",
            " 302.875      305.5        304.1000061  303.61761475 304.43930054]\n",
            "[303.6000061  303.27481079 304.75       304.35998535 304.45498657\n",
            " 306.53060913 309.35998535 309.92498779 307.48999023 304.23989868]\n",
            "[305.11999512 304.95001221 304.16000366 304.38000488 306.35998535\n",
            " 305.38000488 305.45001221 304.29000854 302.54998779 301.11468506]\n",
            "[300.6499939  299.33999634 297.80999756 299.61999512 298.39001465\n",
            " 298.86999512 299.73001099 302.54589844 304.04998779 304.45999146]\n",
            "[304.02700806 304.10998535 304.58499146 305.76000977 302.82998657\n",
            " 303.51000977 305.55999756 305.79998779 306.67498779 306.70999146]\n",
            "[306.80999756 306.43011475 307.48001099 308.6098938  307.92999268\n",
            " 309.25       306.54998779 307.2098999  307.42001343 306.8999939 ]\n",
            "[304.07998657 303.27999878 300.22000122 298.79000854 299.22000122\n",
            " 298.55999756 299.98779297 300.36999512 301.1499939  296.23999023]\n",
            "[295.20010376 295.23999023 294.6000061  294.33999634 294.01000977\n",
            " 293.17999268 293.91000366 294.6000061  295.70019531 294.54998779]\n",
            "[294.20999146 296.47000122 293.82998657 293.35501099 293.88000488\n",
            " 296.29998779 297.70001221 296.82998657 290.91000366 291.25      ]\n",
            "[290.88000488 291.16000366 291.32000732 291.82000732 295.69000244\n",
            " 294.19000244 294.17001343 294.79800415 294.82000732 294.05999756]\n",
            "[293.64001465 294.30999756 294.86999512 295.82998657 295.38400269\n",
            " 294.16000366 293.5        291.32000732 290.91000366 292.23999023]\n",
            "[290.77999878 290.69000244 291.1499939  290.08999634 289.49499512\n",
            " 289.92999268 290.08999634 293.15991211 293.32998657 293.72000122]\n",
            "[296.95999146 297.76998901 298.58999634 299.41000366 299.57400513\n",
            " 299.72000122 302.70999146 303.10501099 303.03500366 301.79998779]\n",
            "[299.8999939  300.04998779 298.01998901 297.47000122 299.05200195\n",
            " 297.89001465 296.42001343 295.97000122 296.32000732 296.79998779]\n",
            "[296.94000244 296.05999756 297.02209473 296.40008545 297.89001465\n",
            " 299.91000366 299.25       299.32800293 296.45999146 294.72000122]\n",
            "[292.5        290.48999023 293.5        291.07931519 288.69000244\n",
            " 287.95999146 289.07998657 288.5        289.02999878 293.48001099]\n",
            "[291.44500732 293.5        291.58010864 290.73999023 296.76000977\n",
            " 297.54998779 296.92001343 295.99499512 295.56988525 294.38000488]\n",
            "[294.41000366 295.32998657 294.92001343 296.3420105  298.02999878\n",
            " 298.79000854 298.91000366 299.44000244 303.95001221 304.83999634]\n",
            "[305.63000488 307.04998779 306.79998779 306.20001221 304.26998901\n",
            " 305.11999512 305.76000977 304.36999512 305.6499939  305.32998657]\n",
            "[305.91101074 303.79000854 304.92999268 305.27011108 305.14001465\n",
            " 305.91000366 307.29998779 307.48001099 307.66500854 308.57998657]\n",
            "[309.88500977 310.32998657 311.69049072 311.35998535 310.48999023\n",
            " 311.06500244 312.95999146 312.14001465 305.98999023 311.79998779]\n",
            "[313.07000732 311.46499634 308.88000488 308.55990601 309.76998901\n",
            " 309.25       307.48999023 308.10998535 309.07998657 309.45999146]\n",
            "[310.95498657 311.05010986 309.85998535 309.10998535 308.83990479\n",
            " 309.47918701 309.73550415 308.70498657 306.47000122 306.47000122]\n",
            "[305.98999023 305.57998657 306.05990601 307.10998535 310.95001221\n",
            " 311.1000061  311.67999268 312.01000977 311.63000488 313.07998657]\n",
            "[315.86499023 315.54998779 315.20999146 314.8197937  315.17999268\n",
            " 315.57998657 315.67999268 317.2598877  318.1499939  319.31201172]\n",
            "[319.25878906 320.82000732 320.8999939  319.98999023 318.17001343\n",
            " 318.29998779 317.6000061  318.13000488 319.6000061  320.17001343]\n",
            "[319.48199463 319.02999878 319.45999146 318.54400635 318.23001099\n",
            " 319.14001465 316.07998657 314.8500061  314.29000854 314.83599854]\n",
            "[315.26000977 315.85998535 314.7250061  315.73001099 317.3500061\n",
            " 317.52999878 318.375      318.1499939  318.1000061  313.86010742]\n",
            "[315.13000488 317.19989014 317.35998535 317.26998901 317.92001343\n",
            " 316.57940674 315.83999634 316.11999512 316.44000244 317.05499268]\n",
            "[315.82998657 316.92001343 314.70010376 315.8999939  316.26010132\n",
            " 314.49499512 312.88000488 313.02999878 317.24499512 317.26998901]\n",
            "[318.1000061  319.05999756 319.44689941 319.26000977 317.60998535\n",
            " 317.48001099 316.82998657 316.23010254 317.92001343 318.04998779]\n",
            "[317.91000366 317.11999512 316.5249939  317.14001465 316.80999756\n",
            " 318.44000244 318.77999878 318.54998779 318.79000854 319.07501221]\n",
            "[318.79000854 318.45999146 318.83499146 317.17001343 317.8999939\n",
            " 318.95001221 319.32998657 319.24990845 319.20498657 318.75      ]\n",
            "[317.42999268 317.96798706 319.05999756 317.05999756 315.05999756\n",
            " 316.30999756 316.01000977 316.04998779 316.10998535 316.25      ]\n",
            "[316.29501343 316.6000061  316.77011108 314.47000122 314.55999756\n",
            " 314.98400879 315.72000122 315.71499634 315.94000244 313.3500061 ]\n",
            "[312.3999939  311.76470947 311.13500977 310.77999878 309.95001221\n",
            " 312.67001343 314.06500244 314.44000244 313.45001221 312.76501465]\n",
            "[311.79998779 316.66000366 318.04000854 318.48999023 319.2250061\n",
            " 320.02999878 320.56988525 320.41000366 321.83499146 319.98001099]\n",
            "[321.67999268 321.50500488 321.73001099 322.61999512 321.79998779\n",
            " 321.30999756 322.54998779 323.11999512 322.72000122 322.26998901]\n",
            "[319.67999268 318.1499939  318.6499939  319.44500732 319.22000122\n",
            " 319.76501465 319.35998535 319.67001343 319.45001221 320.07000732]\n",
            "[321.32998657 317.92001343 317.3500061  315.27600098 316.77099609\n",
            " 316.8999939  317.67498779 316.5809021  316.5401001  316.23999023]\n",
            "[321.66000366 321.10501099 322.02999878 322.81759644 323.32000732\n",
            " 322.91500854 321.70999146 322.15759277 322.79119873 323.33999634]\n",
            "[323.45001221 323.73001099 322.04000854 321.85998535 321.54000854\n",
            " 321.98001099 322.07998657 321.54501343 321.59500122 324.79998779]\n",
            "[323.88110352 321.85998535 323.67999268 325.6388855  325.14001465\n",
            " 325.1499939  325.89001465 326.         325.79000854 325.92999268]\n",
            "[326.19000244 325.26208496 324.57000732 323.98999023 323.98999023\n",
            " 323.26000977 324.10998535 325.04000854 324.31298828 325.83990479]\n",
            "[326.20999146 326.3598938  326.58959961 326.89498901 327.73001099\n",
            " 328.51998901 328.58999634 328.27999878 328.16000366 328.48999023]\n",
            "[328.01000977 328.54998779 328.92001343 331.11999512 331.33010864\n",
            " 330.99200439 331.18499756 334.41000366 335.55999756 334.67999268]\n",
            "[334.77639771 336.17001343 337.23999023 337.46499634 336.39001465\n",
            " 336.23001099 336.72009277 335.79501343 336.0249939  336.48001099]\n",
            "[337.8500061  337.14001465 337.63989258 338.04000854 337.63500977\n",
            " 337.66000366 336.48999023 336.80999756 335.99859619 334.83999634]\n",
            "[333.67001343 333.32000732 330.1499939  330.73001099 329.9382019\n",
            " 330.44000244 330.57998657 332.30999756 331.66500854 337.51000977]\n",
            "[340.11999512 340.01889038 340.11911011 340.54000854 339.75\n",
            " 345.20999146 346.26998901 347.70001221 348.05010986 348.17999268]\n",
            "[348.41000366 350.70001221 351.36999512 350.39990234 349.73999023\n",
            " 350.13000488 350.45001221 349.95001221 347.61499023 346.8999939 ]\n",
            "[348.13000488 348.86999512 348.10998535 347.67001343 347.86999512\n",
            " 349.83999634 351.6000061  351.52999878 352.42999268 352.26019287]\n",
            "[353.32000732 354.86999512 354.5        355.16000366 354.51998901\n",
            " 354.6000061  354.69000244 355.375      356.95498657 357.11499023]\n",
            "[355.58499146 354.98999023 354.88000488 354.5098877  354.33999634\n",
            " 355.05999756 354.57000732 354.63000488 354.99060059 354.85998535]\n",
            "[352.57000732 350.17001343 349.80499268 350.10079956 349.39001465\n",
            " 348.79000854 350.95001221 352.82998657 353.57000732 352.08999634]\n",
            "[352.77999878 353.05999756 357.23001099 354.38000488 353.57998657\n",
            " 355.16000366 355.44000244 354.67999268 354.54000854 356.23999023]\n",
            "[357.14358521 357.40899658 358.19000244 359.76000977 360.52999878\n",
            " 360.77999878 363.12991333 362.60998535 363.10800171 361.6000061 ]\n",
            "[363.27999878 364.50500488 365.73999023 365.26998901 364.27090454\n",
            " 361.98999023 364.44000244 365.8999939  367.61499023 368.29998779]\n",
            "[368.55999756 369.75       371.1000061  370.25       371.25\n",
            " 369.57998657 370.69000244 370.26989746 369.82998657 368.35049438]\n",
            "[364.24990845 365.05990601 366.6499939  367.26998901 367.29000854\n",
            " 366.8999939  366.93499756 363.36999512 362.02200317 362.63000488]\n",
            "[364.13000488 363.23999023 362.01000977 364.35501099 363.71029663\n",
            " 364.08999634 363.94000244 364.83999634 364.92001343 366.23001099]\n",
            "[361.61999512 363.83999634 364.60501099 363.67001343 362.64001465\n",
            " 362.54000854 364.20001221 361.1579895  359.14001465 359.33999634]\n",
            "[359.29000854 357.70999146 359.57000732 360.76000977 361.875\n",
            " 362.95999146 364.17950439 364.54910278 363.85998535 364.69000244]\n",
            "[364.76000977 364.26501465 364.53491211 363.76998901 364.57998657\n",
            " 362.91009521 364.57998657 364.26000977 363.74969482 363.16000366]\n",
            "[363.8500061  369.94989014 369.3598938  369.38000488 369.76000977\n",
            " 370.17010498 370.04998779 369.42001343 370.10791016 369.30999756]\n",
            "[371.48999023 370.32998657 370.54000854 370.45941162 369.89001465\n",
            " 370.91000366 370.27999878 365.76998901 365.10998535 366.67999268]\n",
            "[367.04998779 367.51998901 367.47000122 367.07888794 367.84991455\n",
            " 369.         370.43099976 369.69000244 367.89001465 366.23999023]\n",
            "[365.58999634 364.47369385 365.89001465 366.41000366 365.97000122\n",
            " 366.45999146 366.14001465 366.27999878 366.60290527 366.69000244]\n",
            "[367.2098999  368.16000366 373.73001099 372.80999756 371.39001465\n",
            " 372.57000732 373.36999512 372.6499939  372.89001465 375.66000366]\n",
            "[377.69000244 378.01998901 378.22000122 379.43011475 379.17498779\n",
            " 381.8999939  381.66500854 380.83999634 380.33999634 379.49700928]\n",
            "[379.1000061  380.35049438 381.04000854 380.87789917 381.25\n",
            " 382.25       383.17999268 382.60501099 380.79998779 381.1499939 ]\n",
            "[384.875      386.39001465 386.62008667 385.7749939  386.14001465\n",
            " 387.23001099 385.92999268 385.08999634 384.61999512 386.02999878]\n",
            "[380.70001221 380.42999268 379.70999146 379.57000732 377.30999756\n",
            " 375.85501099 376.67999268 375.84970093 377.83969116 376.42999268]\n",
            "[376.98168945 375.88000488 375.57998657 376.67001343 376.03030396\n",
            " 376.10501099 376.04000854 376.5993042  375.38000488 376.23999023]\n",
            "[378.39001465 378.79998779 379.73001099 379.83999634 379.66000366\n",
            " 378.85998535 377.38000488 376.02999878 376.20999146 376.32550049]\n",
            "[376.60998535 377.54000854 381.51000977 382.79998779 383.41970825\n",
            " 380.81689453 377.76998901 376.71130371 376.54000854 382.17999268]\n",
            "[384.39498901 382.89001465 383.63171387 383.32998657 383.48001099\n",
            " 383.80499268 383.59500122 383.76000977 383.02999878 383.04598999]\n",
            "[383.8500061  381.94000244 382.94500732 382.28878784 382.85998535\n",
            " 383.14001465 383.20999146 382.79998779 376.31500244 375.33999634]\n",
            "[375.02999878 375.125      373.61999512 374.3999939  371.89001465\n",
            " 374.45001221 374.73001099 375.19500732 374.58999634 373.97000122]\n",
            "[374.67001343 376.48999023 377.63000488 376.67990112 373.61499023\n",
            " 372.51000977 372.01000977 373.70001221 372.125      373.62960815]\n",
            "[373.76998901 374.16000366 375.19000244 370.42498779 369.79998779\n",
            " 369.98001099 370.41500854 371.01501465 371.54998779 371.94000244]\n",
            "[367.69000244 368.30999756 369.48010254 370.60501099 369.6000061\n",
            " 367.88000488 373.34500122 370.91500854 369.41000366 368.57000732]\n",
            "[368.69000244 368.55999756 367.31500244 365.17001343 365.76998901\n",
            " 366.28408813 366.46499634 366.6000061  366.20999146 367.36999512]\n",
            "[368.42001343 369.39498901 369.01000977 369.25500488 370.47000122\n",
            " 367.20001221 368.06188965 368.33990479 368.16149902 367.45001221]\n",
            "[366.42001343 366.45001221 366.35198975 364.20999146 364.29000854\n",
            " 365.59118652 363.13000488 362.48001099 361.3999939  360.92999268]\n",
            "[361.82000732 360.69000244 359.14001465 358.58999634 355.39001465\n",
            " 356.20999146 357.11999512 357.11999512 357.82998657 358.25      ]\n",
            "[360.16000366 359.69000244 361.25738525 362.61499023 363.22000122\n",
            " 364.01989746 363.97000122 364.58999634 364.80999756 363.41500854]\n",
            "[363.82998657 363.59939575 363.36999512 367.45001221 368.94500732\n",
            " 368.57000732 369.68011475 369.45001221 369.89001465 369.17001343]\n",
            "[364.97900391 364.39001465 363.79998779 363.79989624 362.64001465\n",
            " 361.10501099 361.8500061  361.20001221 361.70001221 361.42001343]\n",
            "[364.8999939  364.07000732 366.86999512 365.07000732 364.76000977\n",
            " 366.63101196 365.23001099 365.74499512 366.8500061  371.73840332]\n",
            "[374.         373.82998657 374.26998901 375.04000854 374.7507019\n",
            " 374.61999512 376.01998901 377.14001465 376.79989624 375.84799194]\n",
            "[376.94000244 379.3999939  378.75       377.95001221 378.79400635\n",
            " 379.14001465 378.82000732 377.8999939  379.20999146 377.3500061 ]\n",
            "[376.92001343 376.45001221 377.47000122 377.66000366 376.95999146\n",
            " 377.98001099 378.22000122 377.91000366 379.10998535 378.44180298]\n",
            "[374.53039551 374.6000061  373.35998535 373.59500122 374.1499939\n",
            " 373.89001465 374.79998779 370.5        370.86999512 371.66500854]\n",
            "[371.48010254 372.23999023 372.02999878 374.48458862 373.99081421\n",
            " 373.61129761 373.12130737 372.54998779 371.79998779 372.54998779]\n",
            "[375.04000854 375.10308838 376.0249939  377.01998901 377.3500061\n",
            " 376.97000122 374.8500061  373.9598999  374.3999939  375.30999756]\n",
            "[372.70498657 372.82000732 373.51818848 375.17001343 375.17999268\n",
            " 375.33999634 375.19000244 373.96499634 374.25       375.07998657]\n",
            "[377.17001343 377.72000122 376.98999023 377.42001343 377.27999878\n",
            " 373.20001221 371.63000488 371.76000977 370.48999023 370.07998657]\n",
            "[370.67001343 370.47000122 370.86999512 371.51998901 371.35501099\n",
            " 371.06350708 370.47000122 370.6499939  368.04998779 367.6000061 ]\n",
            "[368.56900024 369.51998901 369.51000977 369.86999512 369.83999634\n",
            " 368.97000122 369.91299438 369.72000122 368.89001465 366.97000122]\n",
            "[360.30999756 359.75       359.73001099 360.73999023 359.51000977\n",
            " 358.58999634 357.76998901 360.         361.3999939  361.25      ]\n",
            "[358.45999146 359.96011353 357.94000244 357.03890991 358.67001343\n",
            " 359.4375     358.44000244 358.48999023 358.53118896 359.66000366]\n",
            "[354.70999146 355.64001465 354.97000122 354.23999023 353.40499878\n",
            " 354.21499634 355.60998535 355.00619507 353.19000244 352.10998535]\n",
            "[355.63000488 355.13000488 354.89001465 357.30999756 360.05499268\n",
            " 358.42001343 358.47000122 359.26998901 358.04998779 361.04000854]\n"
          ]
        }
      ]
    },
    {
      "cell_type": "code",
      "source": [
        "print(output.shape)"
      ],
      "metadata": {
        "colab": {
          "base_uri": "https://localhost:8080/"
        },
        "id": "uDzMI0VIXlL2",
        "outputId": "217cb017-9e39-4917-af07-aece262fbaf1"
      },
      "execution_count": 40,
      "outputs": [
        {
          "output_type": "stream",
          "name": "stdout",
          "text": [
            "(212, 13)\n"
          ]
        }
      ]
    },
    {
      "cell_type": "code",
      "source": [
        "cv_data2 = cv_data[1:120]\n",
        "\n",
        "cv_data2[0:12] = np.array([0,1,2,3,4,5,6,7,8,9,10,11]).reshape([12,1])\n",
        "output = stat_true_window_cross_val(cv_data2, ['auto_arima','complex_smoothing'], [new_aaPredFunction, new_cesPredFunction])"
      ],
      "metadata": {
        "colab": {
          "base_uri": "https://localhost:8080/",
          "height": 227
        },
        "id": "HFHezSU2AQPb",
        "outputId": "6d44c730-96f5-4fd5-dd61-522af7816b42"
      },
      "execution_count": 29,
      "outputs": [
        {
          "output_type": "error",
          "ename": "NameError",
          "evalue": "name 'cv_data' is not defined",
          "traceback": [
            "\u001b[0;31m---------------------------------------------------------------------------\u001b[0m",
            "\u001b[0;31mNameError\u001b[0m                                 Traceback (most recent call last)",
            "\u001b[0;32m<ipython-input-29-c366178482a6>\u001b[0m in \u001b[0;36m<cell line: 1>\u001b[0;34m()\u001b[0m\n\u001b[0;32m----> 1\u001b[0;31m \u001b[0mcv_data2\u001b[0m \u001b[0;34m=\u001b[0m \u001b[0mcv_data\u001b[0m\u001b[0;34m[\u001b[0m\u001b[0;36m1\u001b[0m\u001b[0;34m:\u001b[0m\u001b[0;36m120\u001b[0m\u001b[0;34m]\u001b[0m\u001b[0;34m\u001b[0m\u001b[0;34m\u001b[0m\u001b[0m\n\u001b[0m\u001b[1;32m      2\u001b[0m \u001b[0;34m\u001b[0m\u001b[0m\n\u001b[1;32m      3\u001b[0m \u001b[0mcv_data2\u001b[0m\u001b[0;34m[\u001b[0m\u001b[0;36m0\u001b[0m\u001b[0;34m:\u001b[0m\u001b[0;36m12\u001b[0m\u001b[0;34m]\u001b[0m \u001b[0;34m=\u001b[0m \u001b[0mnp\u001b[0m\u001b[0;34m.\u001b[0m\u001b[0marray\u001b[0m\u001b[0;34m(\u001b[0m\u001b[0;34m[\u001b[0m\u001b[0;36m0\u001b[0m\u001b[0;34m,\u001b[0m\u001b[0;36m1\u001b[0m\u001b[0;34m,\u001b[0m\u001b[0;36m2\u001b[0m\u001b[0;34m,\u001b[0m\u001b[0;36m3\u001b[0m\u001b[0;34m,\u001b[0m\u001b[0;36m4\u001b[0m\u001b[0;34m,\u001b[0m\u001b[0;36m5\u001b[0m\u001b[0;34m,\u001b[0m\u001b[0;36m6\u001b[0m\u001b[0;34m,\u001b[0m\u001b[0;36m7\u001b[0m\u001b[0;34m,\u001b[0m\u001b[0;36m8\u001b[0m\u001b[0;34m,\u001b[0m\u001b[0;36m9\u001b[0m\u001b[0;34m,\u001b[0m\u001b[0;36m10\u001b[0m\u001b[0;34m,\u001b[0m\u001b[0;36m11\u001b[0m\u001b[0;34m]\u001b[0m\u001b[0;34m)\u001b[0m\u001b[0;34m.\u001b[0m\u001b[0mreshape\u001b[0m\u001b[0;34m(\u001b[0m\u001b[0;34m[\u001b[0m\u001b[0;36m12\u001b[0m\u001b[0;34m,\u001b[0m\u001b[0;36m1\u001b[0m\u001b[0;34m]\u001b[0m\u001b[0;34m)\u001b[0m\u001b[0;34m\u001b[0m\u001b[0;34m\u001b[0m\u001b[0m\n\u001b[1;32m      4\u001b[0m \u001b[0moutput\u001b[0m \u001b[0;34m=\u001b[0m \u001b[0mstat_true_window_cross_val\u001b[0m\u001b[0;34m(\u001b[0m\u001b[0mcv_data2\u001b[0m\u001b[0;34m,\u001b[0m \u001b[0;34m[\u001b[0m\u001b[0;34m'auto_arima'\u001b[0m\u001b[0;34m,\u001b[0m\u001b[0;34m'complex_smoothing'\u001b[0m\u001b[0;34m]\u001b[0m\u001b[0;34m,\u001b[0m \u001b[0;34m[\u001b[0m\u001b[0mnew_aaPredFunction\u001b[0m\u001b[0;34m,\u001b[0m \u001b[0mnew_cesPredFunction\u001b[0m\u001b[0;34m]\u001b[0m\u001b[0;34m)\u001b[0m\u001b[0;34m\u001b[0m\u001b[0;34m\u001b[0m\u001b[0m\n",
            "\u001b[0;31mNameError\u001b[0m: name 'cv_data' is not defined"
          ]
        }
      ]
    },
    {
      "cell_type": "code",
      "source": [
        "print(output[0:3,0:13])\n",
        "print(cv_data[0:12])"
      ],
      "metadata": {
        "id": "CMN8rUW_EsM8"
      },
      "execution_count": null,
      "outputs": []
    },
    {
      "cell_type": "code",
      "source": [
        "testResultsQQQ, trainSeriesQQQ, testSeriesQQQ = prep_ticker('QQQ')\n",
        "\n",
        "print(testResultsQQQ.head() )\n",
        "print(trainSeriesQQQ.head() )\n",
        "print(testSeriesQQQ.head() )"
      ],
      "metadata": {
        "colab": {
          "base_uri": "https://localhost:8080/"
        },
        "id": "RjvXcXzlkHvq",
        "outputId": "13b0e978-c764-4595-8710-4efa008f77f1"
      },
      "execution_count": 30,
      "outputs": [
        {
          "output_type": "stream",
          "name": "stderr",
          "text": [
            "\r[*********************100%%**********************]  1 of 1 completed"
          ]
        },
        {
          "output_type": "stream",
          "name": "stdout",
          "text": [
            "        Price  auto_arima  dyn_theta  auto_ets  complex_smoothing\n",
            "0  376.239990           0          0         0                  0\n",
            "1  377.880005           0          0         0                  0\n",
            "2  378.390015           0          0         0                  0\n",
            "3  378.799988           0          0         0                  0\n",
            "4  379.730011           0          0         0                  0\n"
          ]
        },
        {
          "output_type": "stream",
          "name": "stderr",
          "text": [
            "\n"
          ]
        }
      ]
    },
    {
      "cell_type": "code",
      "source": [
        "testResultsQQQ, trainSeriesQQQ, testSeriesQQQ = prep_ticker('QQQ', model_list = ['auto_arima', 'dyn_theta', 'complex_smoothing'])\n",
        "\n"
      ],
      "metadata": {
        "id": "sLT6_TwVmgc9",
        "colab": {
          "base_uri": "https://localhost:8080/",
          "height": 331
        },
        "outputId": "3dba41b7-f16b-48c2-cc10-faf439cf784f"
      },
      "execution_count": 5,
      "outputs": [
        {
          "output_type": "error",
          "ename": "NameError",
          "evalue": "name 'yf' is not defined",
          "traceback": [
            "\u001b[0;31m---------------------------------------------------------------------------\u001b[0m",
            "\u001b[0;31mNameError\u001b[0m                                 Traceback (most recent call last)",
            "\u001b[0;32m<ipython-input-5-34105c547167>\u001b[0m in \u001b[0;36m<cell line: 1>\u001b[0;34m()\u001b[0m\n\u001b[0;32m----> 1\u001b[0;31m \u001b[0mtestResultsQQQ\u001b[0m\u001b[0;34m,\u001b[0m \u001b[0mtrainSeriesQQQ\u001b[0m\u001b[0;34m,\u001b[0m \u001b[0mtestSeriesQQQ\u001b[0m \u001b[0;34m=\u001b[0m \u001b[0mprep_ticker\u001b[0m\u001b[0;34m(\u001b[0m\u001b[0;34m'QQQ'\u001b[0m\u001b[0;34m,\u001b[0m \u001b[0mmodel_list\u001b[0m \u001b[0;34m=\u001b[0m \u001b[0;34m[\u001b[0m\u001b[0;34m'auto_arima'\u001b[0m\u001b[0;34m,\u001b[0m \u001b[0;34m'dyn_theta'\u001b[0m\u001b[0;34m,\u001b[0m \u001b[0;34m'complex_smoothing'\u001b[0m\u001b[0;34m]\u001b[0m\u001b[0;34m)\u001b[0m\u001b[0;34m\u001b[0m\u001b[0;34m\u001b[0m\u001b[0m\n\u001b[0m\u001b[1;32m      2\u001b[0m \u001b[0;34m\u001b[0m\u001b[0m\n",
            "\u001b[0;32m<ipython-input-2-69f3cddda564>\u001b[0m in \u001b[0;36mprep_ticker\u001b[0;34m(ticker, start_date, end_date, intervals, train_size, model_list)\u001b[0m\n\u001b[1;32m      3\u001b[0m \u001b[0;34m\u001b[0m\u001b[0m\n\u001b[1;32m      4\u001b[0m \u001b[0;32mdef\u001b[0m \u001b[0mprep_ticker\u001b[0m\u001b[0;34m(\u001b[0m\u001b[0mticker\u001b[0m\u001b[0;34m,\u001b[0m \u001b[0mstart_date\u001b[0m \u001b[0;34m=\u001b[0m \u001b[0;34m'2022-06-01'\u001b[0m\u001b[0;34m,\u001b[0m \u001b[0mend_date\u001b[0m \u001b[0;34m=\u001b[0m \u001b[0;34m'2023-09-30'\u001b[0m\u001b[0;34m,\u001b[0m \u001b[0mintervals\u001b[0m \u001b[0;34m=\u001b[0m \u001b[0;34m'60m'\u001b[0m\u001b[0;34m,\u001b[0m \u001b[0mtrain_size\u001b[0m \u001b[0;34m=\u001b[0m \u001b[0;36m2000\u001b[0m\u001b[0;34m,\u001b[0m \u001b[0mmodel_list\u001b[0m \u001b[0;34m=\u001b[0m \u001b[0;34m[\u001b[0m\u001b[0;34m'auto_arima'\u001b[0m\u001b[0;34m,\u001b[0m \u001b[0;34m'dyn_theta'\u001b[0m\u001b[0;34m,\u001b[0m \u001b[0;34m'auto_ets'\u001b[0m\u001b[0;34m,\u001b[0m \u001b[0;34m'complex_smoothing'\u001b[0m\u001b[0;34m]\u001b[0m\u001b[0;34m)\u001b[0m\u001b[0;34m:\u001b[0m\u001b[0;34m\u001b[0m\u001b[0;34m\u001b[0m\u001b[0m\n\u001b[0;32m----> 5\u001b[0;31m   \u001b[0mdata\u001b[0m \u001b[0;34m=\u001b[0m \u001b[0myf\u001b[0m\u001b[0;34m.\u001b[0m\u001b[0mdownload\u001b[0m\u001b[0;34m(\u001b[0m\u001b[0mticker\u001b[0m\u001b[0;34m,\u001b[0m\u001b[0mstart_date\u001b[0m\u001b[0;34m,\u001b[0m \u001b[0mend_date\u001b[0m\u001b[0;34m,\u001b[0m \u001b[0minterval\u001b[0m \u001b[0;34m=\u001b[0m \u001b[0mintervals\u001b[0m\u001b[0;34m)\u001b[0m\u001b[0;34m\u001b[0m\u001b[0;34m\u001b[0m\u001b[0m\n\u001b[0m\u001b[1;32m      6\u001b[0m   \u001b[0;31m#print(data.head())\u001b[0m\u001b[0;34m\u001b[0m\u001b[0;34m\u001b[0m\u001b[0m\n\u001b[1;32m      7\u001b[0m   \u001b[0mdata\u001b[0m\u001b[0;34m.\u001b[0m\u001b[0mreset_index\u001b[0m\u001b[0;34m(\u001b[0m\u001b[0minplace\u001b[0m \u001b[0;34m=\u001b[0m \u001b[0;32mTrue\u001b[0m\u001b[0;34m)\u001b[0m\u001b[0;34m\u001b[0m\u001b[0;34m\u001b[0m\u001b[0m\n",
            "\u001b[0;31mNameError\u001b[0m: name 'yf' is not defined"
          ]
        }
      ]
    },
    {
      "cell_type": "code",
      "source": [
        "qqqpreds, qqqerrors = stat_test_wrapper(trainSeriesQQQ, testSeriesQQQ, testResultsQQQ, 200, 10)\n"
      ],
      "metadata": {
        "id": "5g9CjbLhshfv"
      },
      "execution_count": null,
      "outputs": []
    }
  ]
}