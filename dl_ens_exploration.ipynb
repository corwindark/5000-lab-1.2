{
  "nbformat": 4,
  "nbformat_minor": 0,
  "metadata": {
    "colab": {
      "provenance": [],
      "gpuType": "T4",
      "collapsed_sections": [
        "l14ED15pN7TW",
        "N3FbBbIBN-db"
      ],
      "authorship_tag": "ABX9TyPCmCmBXIxwoddlLXRIPgjn",
      "include_colab_link": true
    },
    "kernelspec": {
      "name": "python3",
      "display_name": "Python 3"
    },
    "language_info": {
      "name": "python"
    },
    "accelerator": "GPU"
  },
  "cells": [
    {
      "cell_type": "markdown",
      "metadata": {
        "id": "view-in-github",
        "colab_type": "text"
      },
      "source": [
        "<a href=\"https://colab.research.google.com/github/corwindark/5000-lab-1.2/blob/main/dl_ens_exploration.ipynb\" target=\"_parent\"><img src=\"https://colab.research.google.com/assets/colab-badge.svg\" alt=\"Open In Colab\"/></a>"
      ]
    },
    {
      "cell_type": "markdown",
      "source": [
        "\n",
        "\n",
        "```\n",
        "# This is formatted as code\n",
        "```\n",
        "\n",
        "# Setup - Run Every Time"
      ],
      "metadata": {
        "id": "IcQ0TfR_NvtR"
      }
    },
    {
      "cell_type": "code",
      "execution_count": 11,
      "metadata": {
        "colab": {
          "base_uri": "https://localhost:8080/"
        },
        "id": "0GmcHy4PefJh",
        "outputId": "55a62047-1bbb-4aa7-a05c-efd08b2e0071"
      },
      "outputs": [
        {
          "output_type": "stream",
          "name": "stdout",
          "text": [
            "TENSORFLOW VERSION: 2.15.0\n",
            "PYTORCH VERSION: 2.1.0+cu121\n",
            "KERAS VERSION: 2.15.0\n"
          ]
        }
      ],
      "source": [
        "# TENSORFLOW\n",
        "import tensorflow as tf\n",
        "print(\"TENSORFLOW VERSION:\",tf.__version__)\n",
        "\n",
        "# PYTORCH\n",
        "import torch\n",
        "print(\"PYTORCH VERSION:\",torch.__version__)\n",
        "\n",
        "# KERAS\n",
        "import keras;\n",
        "print(\"KERAS VERSION:\",keras.__version__)"
      ]
    },
    {
      "cell_type": "code",
      "source": [
        "print(torch.cuda.is_available())"
      ],
      "metadata": {
        "colab": {
          "base_uri": "https://localhost:8080/"
        },
        "id": "MgLd74Zteqck",
        "outputId": "c5c94971-0cb4-4f5e-8270-1fa077c58831"
      },
      "execution_count": 12,
      "outputs": [
        {
          "output_type": "stream",
          "name": "stdout",
          "text": [
            "False\n"
          ]
        }
      ]
    },
    {
      "cell_type": "code",
      "source": [
        "# GET SYSTEM INFO\n",
        "# code modified from: https://stackoverflow.com/questions/110362/how-can-i-find-the-current-os-in-python\n",
        "\n",
        "import platform\n",
        "import multiprocessing\n",
        "import sys\n",
        "import psutil\n",
        "\n",
        "def linux_distribution():\n",
        "  try:\n",
        "    return platform.linux_distribution()\n",
        "  except:\n",
        "    return \"N/A\"\n",
        "\n",
        "def dist():\n",
        "  try:\n",
        "    return platform.dist()\n",
        "  except:\n",
        "    return \"N/A\"\n",
        "\n",
        "num_cores=multiprocessing.cpu_count()\n",
        "\n",
        "print(\"\"\"\n",
        "Python version: %s\n",
        "dist: %s\n",
        "num_cores: %s\n",
        "linux_distribution: %s\n",
        "system: %s\n",
        "machine: %s\n",
        "platform: %s\n",
        "uname: %s\n",
        "version: %s\n",
        "RAM: %s\n",
        "\"\"\" % (\n",
        "sys.version.split('\\n'),\n",
        "str(dist()),\n",
        "num_cores,\n",
        "linux_distribution(),\n",
        "platform.system(),\n",
        "platform.machine(),\n",
        "platform.platform(),\n",
        "platform.uname(),\n",
        "platform.version(),\n",
        "psutil.virtual_memory().total*10**(-9.)\n",
        "))\n",
        "\n",
        "# print('GPU name: ', tf.config.experimental.list_physical_devices('GPU'))"
      ],
      "metadata": {
        "colab": {
          "base_uri": "https://localhost:8080/"
        },
        "id": "BWIeaqgue6WW",
        "outputId": "8e113b2d-a2d9-435f-ccd4-734c9a5bf1ec"
      },
      "execution_count": 13,
      "outputs": [
        {
          "output_type": "stream",
          "name": "stdout",
          "text": [
            "\n",
            "Python version: ['3.10.12 (main, Nov 20 2023, 15:14:05) [GCC 11.4.0]']\n",
            "dist: N/A\n",
            "num_cores: 2\n",
            "linux_distribution: N/A\n",
            "system: Linux\n",
            "machine: x86_64\n",
            "platform: Linux-6.1.58+-x86_64-with-glibc2.35\n",
            "uname: uname_result(system='Linux', node='dfd263d6121c', release='6.1.58+', version='#1 SMP PREEMPT_DYNAMIC Sat Nov 18 15:31:17 UTC 2023', machine='x86_64')\n",
            "version: #1 SMP PREEMPT_DYNAMIC Sat Nov 18 15:31:17 UTC 2023\n",
            "RAM: 13.60945152\n",
            "\n"
          ]
        }
      ]
    },
    {
      "cell_type": "code",
      "source": [
        "torch.cuda.device_count()\n",
        "torch.cuda.get_device_properties(0).total_memory"
      ],
      "metadata": {
        "colab": {
          "base_uri": "https://localhost:8080/",
          "height": 354
        },
        "id": "hHpcauGQfDuU",
        "outputId": "7c720733-1eb7-476e-ac37-19c6076f7cea"
      },
      "execution_count": 5,
      "outputs": [
        {
          "output_type": "error",
          "ename": "RuntimeError",
          "evalue": "Found no NVIDIA driver on your system. Please check that you have an NVIDIA GPU and installed a driver from http://www.nvidia.com/Download/index.aspx",
          "traceback": [
            "\u001b[0;31m---------------------------------------------------------------------------\u001b[0m",
            "\u001b[0;31mRuntimeError\u001b[0m                              Traceback (most recent call last)",
            "\u001b[0;32m<ipython-input-5-d923db55dd9d>\u001b[0m in \u001b[0;36m<cell line: 2>\u001b[0;34m()\u001b[0m\n\u001b[1;32m      1\u001b[0m \u001b[0mtorch\u001b[0m\u001b[0;34m.\u001b[0m\u001b[0mcuda\u001b[0m\u001b[0;34m.\u001b[0m\u001b[0mdevice_count\u001b[0m\u001b[0;34m(\u001b[0m\u001b[0;34m)\u001b[0m\u001b[0;34m\u001b[0m\u001b[0;34m\u001b[0m\u001b[0m\n\u001b[0;32m----> 2\u001b[0;31m \u001b[0mtorch\u001b[0m\u001b[0;34m.\u001b[0m\u001b[0mcuda\u001b[0m\u001b[0;34m.\u001b[0m\u001b[0mget_device_properties\u001b[0m\u001b[0;34m(\u001b[0m\u001b[0;36m0\u001b[0m\u001b[0;34m)\u001b[0m\u001b[0;34m.\u001b[0m\u001b[0mtotal_memory\u001b[0m\u001b[0;34m\u001b[0m\u001b[0;34m\u001b[0m\u001b[0m\n\u001b[0m",
            "\u001b[0;32m/usr/local/lib/python3.10/dist-packages/torch/cuda/__init__.py\u001b[0m in \u001b[0;36mget_device_properties\u001b[0;34m(device)\u001b[0m\n\u001b[1;32m    447\u001b[0m         \u001b[0m_CudaDeviceProperties\u001b[0m\u001b[0;34m:\u001b[0m \u001b[0mthe\u001b[0m \u001b[0mproperties\u001b[0m \u001b[0mof\u001b[0m \u001b[0mthe\u001b[0m \u001b[0mdevice\u001b[0m\u001b[0;34m\u001b[0m\u001b[0;34m\u001b[0m\u001b[0m\n\u001b[1;32m    448\u001b[0m     \"\"\"\n\u001b[0;32m--> 449\u001b[0;31m     \u001b[0m_lazy_init\u001b[0m\u001b[0;34m(\u001b[0m\u001b[0;34m)\u001b[0m  \u001b[0;31m# will define _get_device_properties\u001b[0m\u001b[0;34m\u001b[0m\u001b[0;34m\u001b[0m\u001b[0m\n\u001b[0m\u001b[1;32m    450\u001b[0m     \u001b[0mdevice\u001b[0m \u001b[0;34m=\u001b[0m \u001b[0m_get_device_index\u001b[0m\u001b[0;34m(\u001b[0m\u001b[0mdevice\u001b[0m\u001b[0;34m,\u001b[0m \u001b[0moptional\u001b[0m\u001b[0;34m=\u001b[0m\u001b[0;32mTrue\u001b[0m\u001b[0;34m)\u001b[0m\u001b[0;34m\u001b[0m\u001b[0;34m\u001b[0m\u001b[0m\n\u001b[1;32m    451\u001b[0m     \u001b[0;32mif\u001b[0m \u001b[0mdevice\u001b[0m \u001b[0;34m<\u001b[0m \u001b[0;36m0\u001b[0m \u001b[0;32mor\u001b[0m \u001b[0mdevice\u001b[0m \u001b[0;34m>=\u001b[0m \u001b[0mdevice_count\u001b[0m\u001b[0;34m(\u001b[0m\u001b[0;34m)\u001b[0m\u001b[0;34m:\u001b[0m\u001b[0;34m\u001b[0m\u001b[0;34m\u001b[0m\u001b[0m\n",
            "\u001b[0;32m/usr/local/lib/python3.10/dist-packages/torch/cuda/__init__.py\u001b[0m in \u001b[0;36m_lazy_init\u001b[0;34m()\u001b[0m\n\u001b[1;32m    296\u001b[0m         \u001b[0;32mif\u001b[0m \u001b[0;34m\"CUDA_MODULE_LOADING\"\u001b[0m \u001b[0;32mnot\u001b[0m \u001b[0;32min\u001b[0m \u001b[0mos\u001b[0m\u001b[0;34m.\u001b[0m\u001b[0menviron\u001b[0m\u001b[0;34m:\u001b[0m\u001b[0;34m\u001b[0m\u001b[0;34m\u001b[0m\u001b[0m\n\u001b[1;32m    297\u001b[0m             \u001b[0mos\u001b[0m\u001b[0;34m.\u001b[0m\u001b[0menviron\u001b[0m\u001b[0;34m[\u001b[0m\u001b[0;34m\"CUDA_MODULE_LOADING\"\u001b[0m\u001b[0;34m]\u001b[0m \u001b[0;34m=\u001b[0m \u001b[0;34m\"LAZY\"\u001b[0m\u001b[0;34m\u001b[0m\u001b[0;34m\u001b[0m\u001b[0m\n\u001b[0;32m--> 298\u001b[0;31m         \u001b[0mtorch\u001b[0m\u001b[0;34m.\u001b[0m\u001b[0m_C\u001b[0m\u001b[0;34m.\u001b[0m\u001b[0m_cuda_init\u001b[0m\u001b[0;34m(\u001b[0m\u001b[0;34m)\u001b[0m\u001b[0;34m\u001b[0m\u001b[0;34m\u001b[0m\u001b[0m\n\u001b[0m\u001b[1;32m    299\u001b[0m         \u001b[0;31m# Some of the queued calls may reentrantly call _lazy_init();\u001b[0m\u001b[0;34m\u001b[0m\u001b[0;34m\u001b[0m\u001b[0m\n\u001b[1;32m    300\u001b[0m         \u001b[0;31m# we need to just return without initializing in that case.\u001b[0m\u001b[0;34m\u001b[0m\u001b[0;34m\u001b[0m\u001b[0m\n",
            "\u001b[0;31mRuntimeError\u001b[0m: Found no NVIDIA driver on your system. Please check that you have an NVIDIA GPU and installed a driver from http://www.nvidia.com/Download/index.aspx"
          ]
        }
      ]
    },
    {
      "cell_type": "code",
      "source": [
        "import yfinance as yf\n",
        "import pandas as pd\n",
        "import seaborn as sns\n",
        "import matplotlib as plt\n",
        "from sklearn.model_selection import TimeSeriesSplit\n",
        "from datetime import datetime\n",
        "import matplotlib.pyplot as plt\n",
        "from keras.models import Sequential\n",
        "from keras import layers\n",
        "from keras.optimizers import RMSprop\n",
        "from tensorflow.keras import regularizers\n",
        "from keras.callbacks import EarlyStopping\n",
        "\n",
        "pd.options.mode.chained_assignment = None\n"
      ],
      "metadata": {
        "id": "-YU0DRxuga_4"
      },
      "execution_count": 39,
      "outputs": []
    },
    {
      "cell_type": "code",
      "source": [
        "import subprocess\n",
        "import sys\n",
        "\n",
        "subprocess.check_call([sys.executable, \"-m\", \"pip\", \"install\", \"statsforecast\"])"
      ],
      "metadata": {
        "colab": {
          "base_uri": "https://localhost:8080/"
        },
        "id": "bKOyzoq0kuAB",
        "outputId": "a4b3cbc3-26d7-4a12-ae4a-a18a86678f25"
      },
      "execution_count": 15,
      "outputs": [
        {
          "output_type": "execute_result",
          "data": {
            "text/plain": [
              "0"
            ]
          },
          "metadata": {},
          "execution_count": 15
        }
      ]
    },
    {
      "cell_type": "code",
      "source": [
        "from statsforecast import StatsForecast\n",
        "from statsforecast.models import AutoCES, AutoARIMA, AutoETS, DynamicOptimizedTheta\n",
        "import numpy as np\n",
        "import time"
      ],
      "metadata": {
        "colab": {
          "base_uri": "https://localhost:8080/"
        },
        "id": "HI2srljshLUI",
        "outputId": "16b505e3-3483-4199-cc46-45126d12d491"
      },
      "execution_count": 16,
      "outputs": [
        {
          "output_type": "stream",
          "name": "stderr",
          "text": [
            "/usr/local/lib/python3.10/dist-packages/statsforecast/core.py:26: TqdmExperimentalWarning: Using `tqdm.autonotebook.tqdm` in notebook mode. Use `tqdm.tqdm` instead to force console mode (e.g. in jupyter console)\n",
            "  from tqdm.autonotebook import tqdm\n"
          ]
        }
      ]
    },
    {
      "cell_type": "markdown",
      "source": [
        "# Old Stat Functions"
      ],
      "metadata": {
        "id": "l14ED15pN7TW"
      }
    },
    {
      "cell_type": "code",
      "source": [
        "def crossValidation(train, test, window, outputFrame, modelName, predReturnFunction):\n",
        "\n",
        "    totalPredictions = pd.Series(dtype = 'float64')\n",
        "    windows = len(test) // window\n",
        "\n",
        "    predictionIndex = 0\n",
        "\n",
        "    for i in range(0, windows):\n",
        "        # debug\n",
        "        #print(\"Window: \", i, \"Method: \", modelName)\n",
        "\n",
        "        # How many observations to move forward each frame\n",
        "        addNum = i * window\n",
        "        # Combine training data with additional test window\n",
        "        intermediateData = pd.concat([train, test[:addNum]])\n",
        "        # Generate prediction of the given window size\n",
        "        prediction = predReturnFunction(intermediateData, window)\n",
        "        #print(prediction)\n",
        "        # Check if we have multiple predictions in the window\n",
        "        if len(prediction) > 1:\n",
        "            # Store each predicted value with a loop\n",
        "            for j in range(0,window):\n",
        "\n",
        "                # Store in the prediction-comparison frame\n",
        "                outputFrame[modelName][predictionIndex] = prediction[j]\n",
        "\n",
        "                # Move to next open spot\n",
        "                predictionIndex += 1\n",
        "        else:\n",
        "\n",
        "            outputFrame[modelName][predictionIndex] = prediction[0]\n",
        "            predictionIndex += 1\n"
      ],
      "metadata": {
        "id": "HVpcUSSjhJOd"
      },
      "execution_count": null,
      "outputs": []
    },
    {
      "cell_type": "code",
      "source": [
        "def stat_test_wrapper(seriesTrain, seriesTest, testDF,  test_out_size = 100, window_size = 1):\n",
        "    # Set the number of observations to be included in the test set\n",
        "\n",
        "  testDFCopy = testDF.copy()\n",
        "\n",
        "  tempTest = seriesTest[:test_out_size]\n",
        "\n",
        "  # Auto Arima\n",
        "  crossValidation(seriesTrain, tempTest, window_size, testDFCopy, 'auto_arima', aaPredFunction)\n",
        "\n",
        "  crossValidation(seriesTrain, tempTest, window_size, testDFCopy, 'complex_smoothing', cesPredFunction)\n",
        "\n",
        "  #crossValidation(seriesTrain, tempTest, window_size, testDFCopy, 'auto_ets', etsPredFunction)\n",
        "\n",
        "  crossValidation(seriesTrain, tempTest, window_size, testDFCopy, 'dyn_theta', dotPredFunction)\n",
        "\n",
        "\n",
        "\n",
        "\n",
        "  plot2 = testDFCopy.iloc[0:test_out_size,:]\n",
        "\n",
        "  preds = plot2.loc[:,['auto_arima', 'complex_smoothing', 'dyn_theta']]\n",
        "  # ensemble methods\n",
        "  plot2.loc[:,'mean_ens'] = preds.mean(axis = 1)\n",
        "  plot2.loc[:,'median_ens'] = preds.median(axis = 1)\n",
        "\n",
        "\n",
        "  plot2.loc[:,'auto_arima'] = abs( plot2.loc[:,'auto_arima'] - plot2.loc[:,'Price'] )\n",
        "  # auto ets is not very good apparently\n",
        "  #plot2.loc[:,'auto_ets'] = abs( plot2.loc[:,'auto_ets'] - plot2.loc[:,'Price'] )\n",
        "  plot2.loc[:,'complex_smoothing'] = abs( plot2.loc[:,'complex_smoothing'] - plot2.loc[:,'Price'] )\n",
        "  plot2.loc[:,'dyn_theta'] = abs( plot2.loc[:,'dyn_theta'] - plot2.loc[:,'Price'] )\n",
        "  plot2.loc[:,'mean_ens'] = abs( plot2.loc[:,'mean_ens'] - plot2.loc[:,'Price'] )\n",
        "  plot2.loc[:,'median_ens'] = abs( plot2.loc[:,'median_ens'] - plot2.loc[:,'Price'] )\n",
        "\n",
        "\n",
        "\n",
        "  # get the index as a column for plotting\n",
        "  plot2 = plot2.reset_index()\n",
        "\n",
        "  errorDat = plot2.copy()\n",
        "\n",
        "  names = ['auto_arima', 'dyn_theta', 'complex_smoothing']\n",
        "  errorDat['optimal'] = errorDat[names].idxmin(axis=\"columns\")\n",
        "\n",
        "  #print(\"reached loop\")\n",
        "  \"\"\"\n",
        "  for index in range(0, errorDat.shape[0]):\n",
        "      #print(index)\n",
        "\n",
        "      predictionErrors = errorDat.loc[index,['auto_arima', 'auto_ets', 'dyn_theta', 'complex_smoothing'] ]\n",
        "\n",
        "      #print(predictionErrors)\n",
        "\n",
        "      #print(min(abs(predictionErrors)))\n",
        "      #errorDat.loc[index ,'optimal'] = min(abs(predictionErrors))\n",
        "  \"\"\"\n",
        "\n",
        "\n",
        "\n",
        "  return testDFCopy, errorDat"
      ],
      "metadata": {
        "id": "e0eVuMiIlN01"
      },
      "execution_count": null,
      "outputs": []
    },
    {
      "cell_type": "code",
      "source": [
        "def aaPredFunction(dataIn, windowSize):\n",
        "    model = AutoARIMA()\n",
        "    fit1 = model.fit(y = np.concatenate(dataIn.to_numpy()))\n",
        "    prediction = fit1.predict(h = windowSize)\n",
        "    return prediction.get('mean')\n",
        "\n",
        "\n",
        "def cesPredFunction(dataIn, windowSize):\n",
        "    model = AutoCES()\n",
        "    fit1 = model.fit(y = np.concatenate(dataIn.to_numpy()))\n",
        "    predictionList = fit1.predict(windowSize)\n",
        "    return predictionList.get('mean')\n",
        "\n",
        "def etsPredFunction(dataIn, windowSize):\n",
        "    model = AutoETS()\n",
        "    fit1 = model.fit(y = np.concatenate(dataIn.to_numpy()))\n",
        "    predictionList = fit1.predict(windowSize)\n",
        "    return predictionList.get('mean')\n",
        "\n",
        "def dotPredFunction(dataIn, windowSize):\n",
        "    model = DynamicOptimizedTheta()\n",
        "    fit1 = model.fit(y = np.concatenate(dataIn.to_numpy()))\n",
        "    predictionList = fit1.predict(windowSize)\n",
        "    return predictionList.get('mean')\n",
        "\n",
        "\n",
        "\n",
        "# Set the number of observations to be included in the test set\n",
        "test_out_size = 200\n",
        "\n",
        "tempTest = seriesTest[:test_out_size]\n"
      ],
      "metadata": {
        "id": "tM9QbHylhSvQ"
      },
      "execution_count": null,
      "outputs": []
    },
    {
      "cell_type": "code",
      "source": [
        "\n",
        "\n",
        "def prep_ticker(ticker, start_date = '2022-06-01', end_date = '2023-09-30', intervals = '60m', split = True, train_size = 2000, model_list = ['auto_arima', 'dyn_theta', 'auto_ets', 'complex_smoothing']):\n",
        "  data = yf.download(ticker,start_date, end_date, interval = intervals)\n",
        "  #print(data.head())\n",
        "  data.reset_index(inplace = True)\n",
        "\n",
        "\n",
        "  data_train = data[:train_size]\n",
        "  data_test = data[train_size:]\n",
        "\n",
        "  test_size = len(data_test)\n",
        "\n",
        "\n",
        "  data_test = data_test[[\"Datetime\", \"Close\"]]\n",
        "  data_train = data_train[[\"Datetime\", \"Close\"]]\n",
        "\n",
        "  seriesTrain = data_train.set_index('Datetime')\n",
        "  seriesTest = data_test.set_index('Datetime')\n",
        "\n",
        "  testResultsDF = pd.DataFrame(index = range(test_size))\n",
        "  testResultsDF['Price'] = 0\n",
        "\n",
        "  #print(data.head())\n",
        "\n",
        "  # Get a clean format for close prices\n",
        "  for i in range(0,test_size):\n",
        "      testResultsDF['Price'][i] = seriesTest.values[i][0]\n",
        "\n",
        "\n",
        "  # Initialize empty cells for the statistical forecasts\n",
        "  for modeltype in model_list:\n",
        "    testResultsDF[modeltype] = 0\n",
        "\n",
        "  return testResultsDF, seriesTrain, seriesTest"
      ],
      "metadata": {
        "id": "GRRsuTtaWZd2"
      },
      "execution_count": null,
      "outputs": []
    },
    {
      "cell_type": "markdown",
      "source": [
        "# Old Stat Examples\n"
      ],
      "metadata": {
        "id": "N3FbBbIBN-db"
      }
    },
    {
      "cell_type": "code",
      "source": [
        "\n",
        "data = yf.download('SPY','2022-06-01','2023-09-30', interval =\"60m\")\n",
        "%matplotlib inline\n",
        "\n",
        "data['Adj Close'].plot()\n",
        "plt.ion()\n",
        "print(data)\n",
        "\n",
        "data.reset_index(inplace = True)\n",
        "print(data.head())"
      ],
      "metadata": {
        "id": "yzKoe4nigzre"
      },
      "execution_count": null,
      "outputs": []
    },
    {
      "cell_type": "code",
      "source": [
        "train_size = 2000\n",
        "\n",
        "data_train = data[:train_size]\n",
        "data_test = data[train_size:]\n",
        "\n",
        "test_size = len(data_test)\n",
        "\n",
        "\n",
        "data_test = data_test[[\"Datetime\", \"Close\"]]\n",
        "data_train = data_train[[\"Datetime\", \"Close\"]]\n",
        "\n",
        "seriesTrain = data_train.set_index('Datetime')\n",
        "seriesTest = data_test.set_index('Datetime')\n",
        "\n",
        "cv_data = data[['Close']]"
      ],
      "metadata": {
        "id": "Xo_WQK4WhEky"
      },
      "execution_count": null,
      "outputs": []
    },
    {
      "cell_type": "code",
      "source": [
        "# Let's reformat the test data into a dataframe we can add our predictions to\n",
        "\n",
        "testResultsDF = pd.DataFrame(index = range(test_size))\n",
        "testResultsDF['Price'] = 0\n",
        "# Get a clean format for close prices\n",
        "for i in range(0,test_size):\n",
        "    testResultsDF['Price'][i] = seriesTest.values[i][0]\n",
        "\n",
        "\n",
        "# Initialize empty cells for the statistical forecasts\n",
        "testResultsDF['auto_arima'] = 0\n",
        "testResultsDF['dyn_theta'] = 0\n",
        "#testResultsDF['auto_ets'] = 0\n",
        "testResultsDF['complex_smoothing'] = 0"
      ],
      "metadata": {
        "id": "nAYAKdiChGmB"
      },
      "execution_count": null,
      "outputs": []
    },
    {
      "cell_type": "code",
      "source": [
        "\n",
        "# Auto Arima\n",
        "crossValidation(seriesTrain, tempTest, 1, testResultsDF, 'auto_arima', aaPredFunction)\n",
        "\n",
        "crossValidation(seriesTrain, tempTest, 1, testResultsDF, 'complex_smoothing', cesPredFunction)\n",
        "\n",
        "crossValidation(seriesTrain, tempTest, 1, testResultsDF, 'auto_ets', etsPredFunction)\n",
        "\n",
        "crossValidation(seriesTrain, tempTest, 1, testResultsDF, 'dyn_theta', dotPredFunction)\n"
      ],
      "metadata": {
        "id": "nzAn1r3eAO3y"
      },
      "execution_count": null,
      "outputs": []
    },
    {
      "cell_type": "code",
      "source": [
        "print(testResultsDF)\n",
        "\n",
        "plot1 = testResultsDF.iloc[0:test_out_size,:]\n",
        "\n",
        "# get the index as a column for plotting\n",
        "plot1 = plot1.reset_index()\n",
        "\n",
        "plot1 = pd.melt(plot1, id_vars = ['index'], value_vars =  ['auto_arima', 'auto_ets', 'complex_smoothing', 'dyn_theta', 'Price'])\n",
        "\n",
        "print(plot1)\n",
        "\n",
        "sns.lineplot(plot1, x = 'index', y = 'value', hue = 'variable')"
      ],
      "metadata": {
        "id": "3pR4l_YPhdoF"
      },
      "execution_count": null,
      "outputs": []
    },
    {
      "cell_type": "code",
      "source": [
        "\n",
        "plot1 = testResultsDF.iloc[0:test_out_size,:]\n",
        "\n",
        "# get the index as a column for plotting\n",
        "plot1 = plot1.reset_index()\n",
        "\n",
        "plot1 = pd.melt(plot1, id_vars = ['index'], value_vars =  ['auto_arima', 'auto_ets', 'complex_smoothing', 'dyn_theta', 'Price'])\n",
        "\n",
        "print(plot1)\n",
        "\n",
        "sns.lineplot(plot1, x = 'index', y = 'value', hue = 'variable')"
      ],
      "metadata": {
        "id": "99el4haXjZJM"
      },
      "execution_count": null,
      "outputs": []
    },
    {
      "cell_type": "code",
      "source": [
        "print(testResultsDF)\n",
        "\n",
        "plot2 = testResultsDF.iloc[0:test_out_size,:]\n",
        "\n",
        "plot2['auto_arima'] = plot2['auto_arima'] - plot2['Price']\n",
        "plot2['auto_ets'] = plot2['auto_ets'] - plot2['Price']\n",
        "plot2['complex_smoothing'] = plot2['complex_smoothing'] - plot2['Price']\n",
        "plot2['dyn_theta'] = plot2['dyn_theta'] - plot2['Price']\n",
        "\n",
        "\n",
        "\n",
        "\n",
        "\n",
        "# get the index as a column for plotting\n",
        "plot2 = plot2.reset_index()\n",
        "\n",
        "errorDat = plot2.copy()\n",
        "\n",
        "plot2 = pd.melt(plot2, id_vars = ['index'], value_vars =  ['auto_arima', 'auto_ets', 'complex_smoothing', 'dyn_theta'])\n",
        "\n",
        "sns.barplot(plot2, x = 'index', y = 'value', hue = 'variable')"
      ],
      "metadata": {
        "id": "P-p9QbHCj5gN"
      },
      "execution_count": null,
      "outputs": []
    },
    {
      "cell_type": "code",
      "source": [
        "print(AAPLerrors.head())\n",
        "print(AAPLerrors['optimal'].value_counts() )\n",
        "\n",
        "print(AAPLerrors['auto_arima'].mean())\n",
        "print(AAPLerrors['dyn_theta'].mean())\n",
        "print(AAPLerrors['complex_smoothing'].mean())\n",
        "print(AAPLerrors['mean_ens'].mean())\n",
        "\n",
        "optimals = ['auto_arima', 'dyn_theta', 'complex_smoothing']\n",
        "print(AAPLerrors[optimals].min(axis=\"columns\").mean())\n"
      ],
      "metadata": {
        "id": "aeAJVba9zC3G"
      },
      "execution_count": null,
      "outputs": []
    },
    {
      "cell_type": "code",
      "source": [
        "AAPLpreds, AAPLerrors = stat_test_wrapper(trainSeriesAAPL, testSeriesAAPL, testResultsAAPL, 25, 1)\n"
      ],
      "metadata": {
        "id": "G57EBqz8y2S-"
      },
      "execution_count": null,
      "outputs": []
    },
    {
      "cell_type": "code",
      "source": [
        "errorDat['optimal'] = 0\n",
        "\n",
        "for index in range(0, errorDat.shape[0]):\n",
        "   # print(index)\n",
        "    predictionErrors = errorDat.loc[:,('auto_arima', 'auto_ets', 'dyn_theta', 'complex_smoothing') ]\n",
        "\n",
        "    #print(predictionErrors.min())\n",
        "\n",
        "    errorDat.loc[index ,'optimal'] = min(predictionErrors)\n",
        "\n",
        "errorDat"
      ],
      "metadata": {
        "id": "rRxuc2fUly-G"
      },
      "execution_count": null,
      "outputs": []
    },
    {
      "cell_type": "code",
      "source": [
        "print(qqqerrors.head())\n",
        "print(qqqerrors['optimal'].value_counts() )\n",
        "# QQQ, 22-6-1 to 23-9-30, 1hr,\n",
        "# > 5-1 is auto_arima 4, complex smoothing 1\n",
        "# > 100-1 is auto_arima 50, complex smoothing 44, dyn_theta 6\n",
        "# > 200-20 is auto_arima 41, complex_smoothing 111, dyn_theta 48\n",
        "# > 200-50 is auto_arima 18, c_s 92, dyn_theta 90\n",
        "# > 200-100 is a_a 60, c_s 78, d_t 62\n",
        "# AAPL, 22-6-1 to 23-9-30, 1hr,\n",
        "# 100 - 1 is a_a 42, c_s 51, d_t 7\n",
        "\n"
      ],
      "metadata": {
        "id": "5oF603FGsIs1"
      },
      "execution_count": null,
      "outputs": []
    },
    {
      "cell_type": "markdown",
      "source": [
        "\n",
        "\n",
        "```\n",
        "# This is formatted as code\n",
        "```\n",
        "\n",
        "# New DL Functions"
      ],
      "metadata": {
        "id": "Cx2aXYcaOA0-"
      }
    },
    {
      "cell_type": "code",
      "source": [
        "# Getting more different financial datasets\n",
        "\n",
        "\n",
        "def prep_ticker(ticker, start_date = '2022-06-01', end_date = '2023-09-30', intervals = '60m', split = True, train_size = 2000):\n",
        "  data = yf.download(ticker,start_date, end_date, interval = intervals)\n",
        "\n",
        "  #print(data.head)\n",
        "\n",
        "  data.reset_index(inplace = True)\n",
        "\n",
        "  if split == True:\n",
        "    data_train = data[:train_size]\n",
        "    data_test = data[train_size:]\n",
        "\n",
        "    test_size = len(data_test)\n",
        "\n",
        "\n",
        "    data_test = data_test[[\"Datetime\", \"Close\"]]\n",
        "    data_train = data_train[[\"Datetime\", \"Close\"]]\n",
        "\n",
        "    seriesTrain = data_train.set_index('Datetime')\n",
        "    seriesTest = data_test.set_index('Datetime')\n",
        "\n",
        "\n",
        "    return seriesTrain, seriesTest\n",
        "\n",
        "  elif split == False:\n",
        "    data_out = data\n",
        "\n",
        "    data_out = data_out[[\"Datetime\", \"Close\"]]\n",
        "\n",
        "    seriesOut = data_out.set_index('Datetime')\n",
        "\n",
        "\n",
        "    return seriesOut\n",
        "\n",
        "\n"
      ],
      "metadata": {
        "id": "7ZVIFG9onTH7"
      },
      "execution_count": 29,
      "outputs": []
    },
    {
      "cell_type": "code",
      "source": [
        "def new_aaPredFunction(dataIn, windowSize):\n",
        "    model = AutoARIMA()\n",
        "    fit1 = model.fit(dataIn)\n",
        "    prediction = fit1.predict(h = windowSize)\n",
        "    return prediction.get('mean')\n",
        "\n",
        "\n",
        "def new_cesPredFunction(dataIn, windowSize):\n",
        "    model = AutoCES()\n",
        "    fit1 = model.fit(dataIn)\n",
        "    predictionList = fit1.predict(windowSize)\n",
        "    return predictionList.get('mean')\n",
        "\n",
        "def new_etsPredFunction(dataIn, windowSize):\n",
        "    model = AutoETS()\n",
        "    fit1 = model.fit(dataIn)\n",
        "    predictionList = fit1.predict(windowSize)\n",
        "    return predictionList.get('mean')\n",
        "\n",
        "def new_dotPredFunction(dataIn, windowSize):\n",
        "    model = DynamicOptimizedTheta()\n",
        "    fit1 = model.fit(dataIn)\n",
        "    predictionList = fit1.predict(windowSize)\n",
        "    return predictionList.get('mean')"
      ],
      "metadata": {
        "id": "nzhZY8XEPjkZ"
      },
      "execution_count": 30,
      "outputs": []
    },
    {
      "cell_type": "code",
      "source": [
        "def stat_true_window_cross_val(unsplitdata, model_names, predReturnFunctions, train_window = 10, test_window = 1):\n",
        "    totalPredictions = pd.Series(dtype = 'float64')\n",
        "    windows = len(unsplitdata) // (train_window + test_window)\n",
        "    columns = train_window + (test_window * (1 + len(model_names)))\n",
        "\n",
        "    pred_df = np.zeros([windows, columns])\n",
        "    print(pred_df.shape)\n",
        "\n",
        "    unsplitdata = np.array(unsplitdata)\n",
        "    unsplitdata = unsplitdata.reshape((unsplitdata.shape[0],))\n",
        "    print(unsplitdata.shape)\n",
        "\n",
        "    # indexes loop through the data\n",
        "    predictionIndex = 0\n",
        "    startindex = 0\n",
        "\n",
        "    for i in range(0, windows):\n",
        "        # debug\n",
        "        #print(\"Window: \", i)\n",
        "\n",
        "        train_window_dat = unsplitdata[startindex:(startindex+train_window)]\n",
        "        #print(train_window_dat)\n",
        "        test_window_dat = unsplitdata[(startindex+train_window ): (test_window + startindex+train_window)]\n",
        "\n",
        "        startindex = startindex + train_window + test_window\n",
        "\n",
        "        #print(pred_df[i,0:train_window])\n",
        "        #print(pred_df[i,0:train_window].shape)\n",
        "\n",
        "        #print(train_window_dat.shape)\n",
        "        #print( train_window_dat.reshape((train_window,)).shape)\n",
        "\n",
        "        pred_df[i,0:train_window] = np.reshape(train_window_dat, [train_window])\n",
        "        pred_df[i,(train_window):(train_window + test_window)] = test_window_dat\n",
        "\n",
        "        for modnum, modelfunction in enumerate(predReturnFunctions):\n",
        "          # account for how many columns in output array over to shift for this model\n",
        "          # add 1 to fit the real values\n",
        "          #print(modnum)\n",
        "          offset = ((modnum + 1) * test_window) + train_window\n",
        "\n",
        "          # Generate prediction of the given window size\n",
        "          prediction = modelfunction(train_window_dat, test_window)\n",
        "          #print(prediction[0])\n",
        "\n",
        "          # Check if we have multiple predictions in the window\n",
        "          if len(prediction) > 1:\n",
        "              # Store each predicted value with a loop\n",
        "              for j in range(0,test_window):\n",
        "\n",
        "                  # Store in the prediction-comparison frame\n",
        "                  pred_df[i,j + offset] = prediction[j]\n",
        "\n",
        "          else:\n",
        "\n",
        "              pred_df[i,offset] = prediction[0]\n",
        "\n",
        "    # currently configured to split up data into 3 matrices instead of returning together\n",
        "    x_windows = pred_df[:,0:train_window]\n",
        "    real_ys = pred_df[:,train_window:(train_window + test_window)]\n",
        "    stat_preds = pred_df[:,(train_window + test_window):(columns+1) ]\n",
        "\n",
        "\n",
        "    #print(pred_df)\n",
        "\n",
        "    return x_windows, real_ys, stat_preds\n"
      ],
      "metadata": {
        "id": "skBWEjboSjvV"
      },
      "execution_count": 31,
      "outputs": []
    },
    {
      "cell_type": "code",
      "source": [
        "def history_plot(history):\n",
        "    FS=18   #FONT SIZE\n",
        "    # PLOTTING THE TRAINING AND VALIDATION LOSS\n",
        "    history_dict = history.history\n",
        "    loss_values = history_dict[\"loss\"]\n",
        "    val_loss_values = history_dict[\"val_loss\"]\n",
        "    epochs = range(1, len(loss_values) + 1)\n",
        "    plt.plot(epochs, loss_values, \"bo\", label=\"Training loss\")\n",
        "    plt.plot(epochs, val_loss_values, \"b\", label=\"Validation loss\")\n",
        "    plt.title(\"Training and validation loss\")\n",
        "    plt.xlabel(\"Epochs\")\n",
        "    plt.ylabel(\"Loss\")\n",
        "    plt.legend()\n",
        "    plt.show()"
      ],
      "metadata": {
        "id": "Ql8LVy1foPmW"
      },
      "execution_count": 32,
      "outputs": []
    },
    {
      "cell_type": "code",
      "source": [
        "def calculate_metrics(window_size, real_data, stat_pred, nn_pred):\n",
        "    # declare values we will calculate when looping through the real data\n",
        "    stat_avg_mse, nn_mse, nn_avg_mse = 0,0,0\n",
        "    # find out how many stat models are in the ensemble\n",
        "    num_stat_mods = int(stat_pred.shape[1] / window_size)\n",
        "\n",
        "    print(num_stat_mods)\n",
        "\n",
        "    for row in range(0, real_data.shape[0]):\n",
        "      for obs in range(0,real_data.shape[1]):\n",
        "\n",
        "        # real value\n",
        "        rv = real_data[row,obs]\n",
        "\n",
        "        # squared error for neural network model\n",
        "        nn_mse += (rv - nn_pred[row,obs]) ** 2\n",
        "\n",
        "        # numerator for stat model avg\n",
        "        stat_numerator = 0\n",
        "\n",
        "        for mod in range(0,num_stat_mods):\n",
        "          # add each models prediction for the given datapoint\n",
        "          stat_numerator += stat_pred[row,obs + (mod*window_size)]\n",
        "\n",
        "        # numerator for the stat+NN ensemble\n",
        "        nn_stat_numerator = stat_numerator + nn_pred[row,obs]\n",
        "\n",
        "        # find the ensemble prediction for the datapoint\n",
        "        stat_avg = stat_numerator / num_stat_mods\n",
        "        nn_stat_avg = nn_stat_numerator / (num_stat_mods + 1)\n",
        "\n",
        "        # calculate the squared error for these ensembles\n",
        "        stat_avg_mse += (rv - stat_avg) ** 2\n",
        "        nn_avg_mse += (rv - nn_stat_avg) ** 2\n",
        "\n",
        "    # find mean square error instead of total\n",
        "    n_obs = real_data.shape[0]\n",
        "    nn_mse = nn_mse / n_obs\n",
        "    stat_avg_mse = stat_avg_mse / n_obs\n",
        "    nn_avg_mse = nn_avg_mse / n_obs\n",
        "\n",
        "    return stat_avg_mse, nn_mse, nn_avg_mse\n",
        "\n"
      ],
      "metadata": {
        "id": "VtAPlWf4owQw"
      },
      "execution_count": 33,
      "outputs": []
    },
    {
      "cell_type": "code",
      "source": [
        "def full_single_nn_wrapper(\n",
        "    nn_modeltype,\n",
        "    nn_task,\n",
        "    train_split,\n",
        "    ticker,\n",
        "    model_names = ['auto_arima','complex_smoothing'],\n",
        "    predReturnFunctions = [new_aaPredFunction, new_cesPredFunction],\n",
        "    start_date_in = '2022-06-01',\n",
        "    end_date_in = '2023-09-30',\n",
        "    interval_in = '60m',\n",
        "    split = False,\n",
        "    train_size = 2000,\n",
        "    train_window = 10,\n",
        "    test_window = 1,\n",
        "    epochs_in = 50,\n",
        "    verbose = 1):\n",
        "\n",
        "  # use inputs to get stock data of the requested format\n",
        "  ticker_data = prep_ticker(ticker, intervals = interval_in, start_date = start_date_in, end_date = end_date_in, split = split)\n",
        "\n",
        "  # normalize data\n",
        "  ticker_mean = ticker_data.mean()\n",
        "  ticker_std = ticker_data.std()\n",
        "  ticker_data = (ticker_data - ticker_mean) / ticker_std\n",
        "\n",
        "  # break stock data into windows and return statistical model predictions\n",
        "  xs,ys,preds = stat_true_window_cross_val(ticker_data, model_names, predReturnFunctions, train_window, test_window)\n",
        "\n",
        "  # status update\n",
        "  if verbose == 1:\n",
        "    print(\"STAT MODELS TRAINED\")\n",
        "\n",
        "  # calculate train test split\n",
        "  train_obs = round(xs.shape[0] * train_split)\n",
        "\n",
        "\n",
        "\n",
        "  # divide matrices\n",
        "  x_train_dat = xs[0:train_obs,:]\n",
        "  x_val_dat = xs[train_obs:xs.shape[0],:]\n",
        "  y_train_dat = ys[0:train_obs,:]\n",
        "  y_val_dat = ys[train_obs:ys.shape[0],:]\n",
        "  stat_train = preds[0:train_obs,:]\n",
        "  stat_val = preds[train_obs:preds.shape[0],:]\n",
        "\n",
        "\n",
        "  if verbose == 1:\n",
        "      print(\"X DATA SHAPE:\", xs.shape)\n",
        "      print(\"X TRAINING DATA SHAPE:\", x_train_dat.shape)\n",
        "      print(\"STAT PRED DATA SHAPE:\", preds.shape)\n",
        "      print(\"X VALIDATION DATA SHAPE:\", x_val_dat.shape)\n",
        "\n",
        "\n",
        "\n",
        "\n",
        "  # train-test split\n",
        "  if verbose == 1:\n",
        "\n",
        "    print(\"TRAIN SHAPE: \", x_train_dat.shape)\n",
        "    print(\"VAL SHAPE: \", x_val_dat.shape)\n",
        "\n",
        "\n",
        "\n",
        "\n",
        "  # set up neural network for the given data\n",
        "\n",
        "  # Include stat preds into the data (will be for one type of CV and included in if-statement later)\n",
        "  x_train_dat = np.concatenate([x_train_dat, stat_train], axis = 1)\n",
        "  x_val_dat = np.concatenate([x_val_dat, stat_val], axis = 1)\n",
        "\n",
        "\n",
        "\n",
        "\n",
        "  # declare a sequential model\n",
        "  model = Sequential()\n",
        "\n",
        "  if nn_modeltype == \"feedforward\" and nn_task == \"regression\":\n",
        "\n",
        "    # create a simple linear feed forward model\n",
        "\n",
        "    model.add(layers.Dense(32, activation='relu',input_shape=[x_train_dat.shape[1],]))\n",
        "    # This layer is the recurent layer, which returns all previous data\n",
        "    model.add(layers.Dense(64, kernel_regularizer=regularizers.L1L2(l1=L1, l2=L2)))\n",
        "\n",
        "    # layer that reads the recurent layer\n",
        "    model.add(layers.Dense(y_train_dat.shape[1]))\n",
        "    model.compile(optimizer=RMSprop(learning_rate = 0.0001), loss='mse')\n",
        "\n",
        "\n",
        "\n",
        "\n",
        "\n",
        "\n",
        "  # run NN model\n",
        "  test_one = model.fit(x = x_train_dat,\n",
        "                      y = y_train_dat,\n",
        "                      steps_per_epoch = x_train_dat.shape[0],\n",
        "                      epochs= epochs_in,\n",
        "                      batch_size = 1,\n",
        "                      validation_data= (x_val_dat, y_val_dat),\n",
        "                      callbacks=[callback],\n",
        "                      validation_steps= x_val_dat.shape[0],\n",
        "                      verbose = 1)\n",
        "  # print plot training graph\n",
        "  if verbose == 1:\n",
        "    history_plot(test_one)\n",
        "\n",
        "  # get NN predictions\n",
        "  nn_preds = model.predict(x_val_dat)\n",
        "\n",
        "  print(\"NN pred shape\", nn_preds.shape)\n",
        "  print(\"Y Shape\", y_val_dat.shape )\n",
        "\n",
        "  # get MSE for validation data\n",
        "  stat_avg_mse, nn_mse, nn_avg_mse = calculate_metrics(test_window, y_val_dat, stat_val, nn_preds)\n",
        "\n",
        "  print(\"STAT VAL ENSEMBLE MSE: \", stat_avg_mse)\n",
        "  print(\"NN VAL MODEL MSE: \", nn_mse)\n",
        "  print(\"NN+STAT VAL ENSEMBLE MSE: \", nn_avg_mse)\n",
        "\n",
        "  if nn_task == \"regression\":\n",
        "    return stat_avg_mse, nn_mse, nn_avg_mse\n",
        "\n",
        "\n",
        "\n",
        "\n",
        "\n",
        "\n",
        "\n"
      ],
      "metadata": {
        "id": "yQv9zLVxJHLp"
      },
      "execution_count": 75,
      "outputs": []
    },
    {
      "cell_type": "markdown",
      "source": [
        "# New DL Examples\n"
      ],
      "metadata": {
        "id": "Klo_b31iOH6F"
      }
    },
    {
      "cell_type": "code",
      "source": [
        "# Hyper parameters\n",
        "L1=0\n",
        "L2=1e-3\n",
        "callback = keras.callbacks.EarlyStopping(monitor='loss',patience=20)\n",
        "\n",
        "\n",
        "\n",
        "\n",
        "full_single_nn_wrapper(\n",
        "    \"feedforward\",\n",
        "    \"regression\",\n",
        "    0.8,\n",
        "    \"SPY\",\n",
        "    model_names = ['auto_arima','complex_smoothing'],\n",
        "    predReturnFunctions = [new_aaPredFunction, new_cesPredFunction],\n",
        "    start_date_in = '2023-12-15',\n",
        "    end_date_in = '2024-01-30',\n",
        "    interval_in = '5m',\n",
        "    split = False,\n",
        "    train_size = 2000,\n",
        "    train_window = 20,\n",
        "    test_window = 5,\n",
        "    verbose = 1)"
      ],
      "metadata": {
        "colab": {
          "base_uri": "https://localhost:8080/"
        },
        "id": "WQHbj-ELcAbA",
        "outputId": "97b8388b-717f-4127-9dba-fc7c5444f06a"
      },
      "execution_count": 76,
      "outputs": [
        {
          "output_type": "stream",
          "name": "stderr",
          "text": [
            "\r[*********************100%%**********************]  1 of 1 completed\n"
          ]
        },
        {
          "output_type": "stream",
          "name": "stdout",
          "text": [
            "(90, 35)\n",
            "(2262,)\n",
            "STAT MODELS TRAINED\n",
            "X DATA SHAPE: (90, 20)\n",
            "X TRAINING DATA SHAPE: (72, 20)\n",
            "STAT PRED DATA SHAPE: (90, 10)\n",
            "X VALIDATION DATA SHAPE: (18, 20)\n",
            "TRAIN SHAPE:  (72, 20)\n",
            "VAL SHAPE:  (18, 20)\n",
            "Epoch 1/50\n",
            "72/72 [==============================] - 1s 3ms/step - loss: 0.4394 - val_loss: 3.6269\n",
            "Epoch 2/50\n",
            "72/72 [==============================] - 0s 2ms/step - loss: 0.2187 - val_loss: 3.0966\n",
            "Epoch 3/50\n",
            "72/72 [==============================] - 0s 2ms/step - loss: 0.1232 - val_loss: 2.3225\n",
            "Epoch 4/50\n",
            "72/72 [==============================] - 0s 2ms/step - loss: 0.1035 - val_loss: 1.7915\n",
            "Epoch 5/50\n",
            "72/72 [==============================] - 0s 2ms/step - loss: 0.0961 - val_loss: 1.3234\n",
            "Epoch 6/50\n",
            "72/72 [==============================] - 0s 2ms/step - loss: 0.0866 - val_loss: 0.8691\n",
            "Epoch 7/50\n",
            "72/72 [==============================] - 0s 2ms/step - loss: 0.0815 - val_loss: 0.6477\n",
            "Epoch 8/50\n",
            "72/72 [==============================] - 0s 2ms/step - loss: 0.0753 - val_loss: 0.3705\n",
            "Epoch 9/50\n",
            "72/72 [==============================] - 0s 2ms/step - loss: 0.0711 - val_loss: 0.2293\n",
            "Epoch 10/50\n",
            "72/72 [==============================] - 0s 2ms/step - loss: 0.0681 - val_loss: 0.1354\n",
            "Epoch 11/50\n",
            "72/72 [==============================] - 0s 2ms/step - loss: 0.0646 - val_loss: 0.0996\n",
            "Epoch 12/50\n",
            "72/72 [==============================] - 0s 2ms/step - loss: 0.0623 - val_loss: 0.0983\n",
            "Epoch 13/50\n",
            "72/72 [==============================] - 0s 2ms/step - loss: 0.0605 - val_loss: 0.1205\n",
            "Epoch 14/50\n",
            "72/72 [==============================] - 0s 2ms/step - loss: 0.0588 - val_loss: 0.1311\n",
            "Epoch 15/50\n",
            "72/72 [==============================] - 0s 2ms/step - loss: 0.0575 - val_loss: 0.1408\n",
            "Epoch 16/50\n",
            "72/72 [==============================] - 0s 2ms/step - loss: 0.0562 - val_loss: 0.1381\n",
            "Epoch 17/50\n",
            "72/72 [==============================] - 0s 2ms/step - loss: 0.0551 - val_loss: 0.1642\n",
            "Epoch 18/50\n",
            "72/72 [==============================] - 0s 2ms/step - loss: 0.0539 - val_loss: 0.1504\n",
            "Epoch 19/50\n",
            "72/72 [==============================] - 0s 2ms/step - loss: 0.0523 - val_loss: 0.1526\n",
            "Epoch 20/50\n",
            "72/72 [==============================] - 0s 2ms/step - loss: 0.0518 - val_loss: 0.1568\n",
            "Epoch 21/50\n",
            "72/72 [==============================] - 0s 2ms/step - loss: 0.0508 - val_loss: 0.1621\n",
            "Epoch 22/50\n",
            "72/72 [==============================] - 0s 1ms/step - loss: 0.0500 - val_loss: 0.1431\n",
            "Epoch 23/50\n",
            "72/72 [==============================] - 0s 2ms/step - loss: 0.0491 - val_loss: 0.1531\n",
            "Epoch 24/50\n",
            "72/72 [==============================] - 0s 2ms/step - loss: 0.0479 - val_loss: 0.1383\n",
            "Epoch 25/50\n",
            "72/72 [==============================] - 0s 2ms/step - loss: 0.0474 - val_loss: 0.1347\n",
            "Epoch 26/50\n",
            "72/72 [==============================] - 0s 2ms/step - loss: 0.0465 - val_loss: 0.1300\n",
            "Epoch 27/50\n",
            "72/72 [==============================] - 0s 1ms/step - loss: 0.0455 - val_loss: 0.1351\n",
            "Epoch 28/50\n",
            "72/72 [==============================] - 0s 1ms/step - loss: 0.0449 - val_loss: 0.1250\n",
            "Epoch 29/50\n",
            "72/72 [==============================] - 0s 2ms/step - loss: 0.0444 - val_loss: 0.1148\n",
            "Epoch 30/50\n",
            "72/72 [==============================] - 0s 2ms/step - loss: 0.0435 - val_loss: 0.1268\n",
            "Epoch 31/50\n",
            "72/72 [==============================] - 0s 2ms/step - loss: 0.0425 - val_loss: 0.1210\n",
            "Epoch 32/50\n",
            "72/72 [==============================] - 0s 2ms/step - loss: 0.0426 - val_loss: 0.1066\n",
            "Epoch 33/50\n",
            "72/72 [==============================] - 0s 2ms/step - loss: 0.0421 - val_loss: 0.1099\n",
            "Epoch 34/50\n",
            "72/72 [==============================] - 0s 2ms/step - loss: 0.0412 - val_loss: 0.1101\n",
            "Epoch 35/50\n",
            "72/72 [==============================] - 0s 2ms/step - loss: 0.0407 - val_loss: 0.1001\n",
            "Epoch 36/50\n",
            "72/72 [==============================] - 0s 2ms/step - loss: 0.0403 - val_loss: 0.0868\n",
            "Epoch 37/50\n",
            "72/72 [==============================] - 0s 2ms/step - loss: 0.0398 - val_loss: 0.0979\n",
            "Epoch 38/50\n",
            "72/72 [==============================] - 0s 2ms/step - loss: 0.0394 - val_loss: 0.0888\n",
            "Epoch 39/50\n",
            "72/72 [==============================] - 0s 2ms/step - loss: 0.0389 - val_loss: 0.1034\n",
            "Epoch 40/50\n",
            "72/72 [==============================] - 0s 2ms/step - loss: 0.0384 - val_loss: 0.1095\n",
            "Epoch 41/50\n",
            "72/72 [==============================] - 0s 2ms/step - loss: 0.0377 - val_loss: 0.0960\n",
            "Epoch 42/50\n",
            "72/72 [==============================] - 0s 2ms/step - loss: 0.0379 - val_loss: 0.1019\n",
            "Epoch 43/50\n",
            "72/72 [==============================] - 0s 1ms/step - loss: 0.0372 - val_loss: 0.0968\n",
            "Epoch 44/50\n",
            "72/72 [==============================] - 0s 2ms/step - loss: 0.0365 - val_loss: 0.0837\n",
            "Epoch 45/50\n",
            "72/72 [==============================] - 0s 1ms/step - loss: 0.0366 - val_loss: 0.0941\n",
            "Epoch 46/50\n",
            "72/72 [==============================] - 0s 2ms/step - loss: 0.0365 - val_loss: 0.0916\n",
            "Epoch 47/50\n",
            "72/72 [==============================] - 0s 2ms/step - loss: 0.0360 - val_loss: 0.0985\n",
            "Epoch 48/50\n",
            "72/72 [==============================] - 0s 2ms/step - loss: 0.0354 - val_loss: 0.0887\n",
            "Epoch 49/50\n",
            "72/72 [==============================] - 0s 2ms/step - loss: 0.0351 - val_loss: 0.0914\n",
            "Epoch 50/50\n",
            "72/72 [==============================] - 0s 2ms/step - loss: 0.0352 - val_loss: 0.0868\n",
            "1/1 [==============================] - 0s 40ms/step\n",
            "NN pred shape (18, 5)\n",
            "Y Shape (18, 5)\n",
            "2\n",
            "STAT VAL ENSEMBLE MSE:  0.011116362793365807\n",
            "NN VAL MODEL MSE:  0.3154049763774058\n",
            "NN+STAT VAL ENSEMBLE MSE:  0.04064959612965088\n"
          ]
        },
        {
          "output_type": "execute_result",
          "data": {
            "text/plain": [
              "(0.011116362793365807, 0.3154049763774058, 0.04064959612965088)"
            ]
          },
          "metadata": {},
          "execution_count": 76
        }
      ]
    },
    {
      "cell_type": "code",
      "source": [
        "\"\"\"full_test = prep_ticker('QQQ', intervals = \"5m\", start_date = '2023-12-15', end_date = '2024-01-30', split = False)\n",
        "\n",
        "print(np.mean(full_test, axis = 0))\n",
        "\n",
        "full_test = (full_test - np.mean(full_test, axis = 0) ) / np.std(full_test ,axis = 0)\n",
        "\n",
        "print(full_test.head)\"\"\"\n",
        "\n",
        "full_test = prep_ticker('SPY', intervals = \"5m\", start_date = '2023-12-15', end_date = '2024-01-30', split = False)\n",
        "\n",
        "print(np.mean(full_test, axis = 0))\n",
        "\n",
        "full_test = (full_test - np.mean(full_test, axis = 0) ) / np.std(full_test ,axis = 0)\n",
        "\n",
        "print(full_test.head)\n"
      ],
      "metadata": {
        "colab": {
          "base_uri": "https://localhost:8080/"
        },
        "id": "yRoxdMf4XcQz",
        "outputId": "98369099-3625-4b47-be4e-635b0997a34a"
      },
      "execution_count": null,
      "outputs": [
        {
          "output_type": "stream",
          "name": "stderr",
          "text": [
            "\r[*********************100%%**********************]  1 of 1 completed"
          ]
        },
        {
          "output_type": "stream",
          "name": "stdout",
          "text": [
            "Close    476.134572\n",
            "dtype: float64\n",
            "<bound method NDFrame.head of                               Close\n",
            "Datetime                           \n",
            "2023-12-15 09:30:00-05:00 -1.188376\n",
            "2023-12-15 09:35:00-05:00 -1.177371\n",
            "2023-12-15 09:40:00-05:00 -1.121501\n",
            "2023-12-15 09:45:00-05:00 -1.170598\n",
            "2023-12-15 09:50:00-05:00 -1.100561\n",
            "...                             ...\n",
            "2024-01-29 15:35:00-05:00  2.487009\n",
            "2024-01-29 15:40:00-05:00  2.461610\n",
            "2024-01-29 15:45:00-05:00  2.438759\n",
            "2024-01-29 15:50:00-05:00  2.453995\n",
            "2024-01-29 15:55:00-05:00  2.560651\n",
            "\n",
            "[2262 rows x 1 columns]>\n"
          ]
        },
        {
          "output_type": "stream",
          "name": "stderr",
          "text": [
            "\n"
          ]
        }
      ]
    },
    {
      "cell_type": "code",
      "source": [
        "output = stat_true_window_cross_val(full_test, ['auto_arima','complex_smoothing'], [new_aaPredFunction, new_cesPredFunction], train_window= 20)"
      ],
      "metadata": {
        "colab": {
          "base_uri": "https://localhost:8080/"
        },
        "id": "UY12vWSUo8qW",
        "outputId": "32b3cfb1-6569-4b2d-a532-ba1e76f5b436"
      },
      "execution_count": null,
      "outputs": [
        {
          "output_type": "stream",
          "name": "stdout",
          "text": [
            "(107, 23)\n",
            "(2262,)\n"
          ]
        }
      ]
    },
    {
      "cell_type": "code",
      "source": [
        "##sanity_check = np.array([1,2,3,4,5,6])\n",
        "\n",
        "#xs,ys,preds = stat_true_window_cross_val(sanity_check, ['auto_arima','complex_smoothing'], [new_aaPredFunction, new_cesPredFunction], train_window= 5, test_window = 1)\n",
        "\n"
      ],
      "metadata": {
        "colab": {
          "base_uri": "https://localhost:8080/"
        },
        "id": "xqHxcneKR2cq",
        "outputId": "796d3a62-7def-4613-83d8-779e8ee67c52"
      },
      "execution_count": null,
      "outputs": [
        {
          "output_type": "stream",
          "name": "stdout",
          "text": [
            "(1, 8)\n",
            "(6,)\n",
            "[[1.         2.         3.         4.         5.         6.\n",
            "  6.         3.77109623]]\n"
          ]
        }
      ]
    },
    {
      "cell_type": "code",
      "source": [
        "\n",
        "first_try_x = output[0:80,np.r_[0:10, 11:13]]\n",
        "first_try_y = output[0:80, 10:11]\n",
        "\n",
        "first_try_x_val = output[80:107,np.r_[0:10, 11:13]]\n",
        "first_try_y_val = output[80:107, 10:11]\n",
        "\n",
        "print(first_try_x.shape)\n",
        "print(first_try_y.shape)"
      ],
      "metadata": {
        "colab": {
          "base_uri": "https://localhost:8080/"
        },
        "id": "Bin6j0ElqL59",
        "outputId": "cee21e63-e075-48f5-d963-b8504bf57313"
      },
      "execution_count": null,
      "outputs": [
        {
          "output_type": "stream",
          "name": "stdout",
          "text": [
            "(80, 12)\n",
            "(80, 1)\n"
          ]
        }
      ]
    },
    {
      "cell_type": "code",
      "source": [
        "\n",
        "\n",
        "\"\"\"L1=0\n",
        "L2=1e-3\n",
        "\n",
        "# create a sequential model once again\n",
        "model = Sequential()\n",
        "model.add(layers.Dense(32, activation='relu',input_shape=[12]))\n",
        "# This layer is the recurent layer, which returns all previous data\n",
        "model.add(layers.Dense(64, kernel_regularizer=regularizers.L1L2(l1=L1, l2=L2)))\n",
        "model.add(layers.Dense(64, kernel_regularizer=regularizers.L1L2(l1=L1, l2=L2)))\n",
        "model.add(layers.Dense(64, kernel_regularizer=regularizers.L1L2(l1=L1, l2=L2)))\n",
        "\n",
        "\n",
        "# layer that reads the recurent layer\n",
        "model.add(layers.Dense(1))\n",
        "model.compile(optimizer=RMSprop(), loss='mae')\n",
        "\n",
        "\n",
        "test_one = model.fit(x = first_try_x, y = first_try_y, steps_per_epoch=150, epochs=20, batch_size = 1, validation_data= (first_try_x_val, first_try_y_val), validation_steps=60, verbose = 1)\n",
        "\"\"\"\n",
        "\n",
        "print(len(first_try_x))\n",
        "\n",
        "# Hyper parameters\n",
        "L1=0\n",
        "L2=1e-3\n",
        "callback = keras.callbacks.EarlyStopping(monitor='loss',patience=5)\n",
        "\n",
        "\n",
        "# create a sequential model once again\n",
        "model = Sequential()\n",
        "model.add(layers.Dense(32, activation='relu',input_shape=[12,]))\n",
        "# This layer is the recurent layer, which returns all previous data\n",
        "model.add(layers.Dense(64, kernel_regularizer=regularizers.L1L2(l1=L1, l2=L2)))\n",
        "#model.add(layers.Dropout(rate=0.25))\n",
        "#model.add(layers.Dense(64, kernel_regularizer=regularizers.L1L2(l1=L1, l2=L2)))\n",
        "#model.add(layers.Dense(64, kernel_regularizer=regularizers.L1L2(l1=L1, l2=L2)))\n",
        "\n",
        "\n",
        "# layer that reads the recurent layer\n",
        "model.add(layers.Dense(1))\n",
        "model.compile(optimizer=RMSprop(learning_rate = 0.00001), loss='mse')\n",
        "\n",
        "\n",
        "test_one = model.fit(x = first_try_x, y = first_try_y, steps_per_epoch = 80, epochs=150, batch_size = 1, validation_data= (first_try_x_val, first_try_y_val),callbacks=[callback], validation_steps=25, verbose = 1)\n"
      ],
      "metadata": {
        "id": "yLvdMoURncTs",
        "colab": {
          "base_uri": "https://localhost:8080/"
        },
        "outputId": "bf616d9c-a671-4370-9bbb-db897257d52b"
      },
      "execution_count": null,
      "outputs": [
        {
          "output_type": "stream",
          "name": "stdout",
          "text": [
            "80\n",
            "Epoch 1/150\n",
            "80/80 [==============================] - 2s 12ms/step - loss: 1.2630 - val_loss: 1.1436\n",
            "Epoch 2/150\n",
            "80/80 [==============================] - 0s 5ms/step - loss: 1.1412 - val_loss: 1.1157\n",
            "Epoch 3/150\n",
            "80/80 [==============================] - 0s 4ms/step - loss: 1.0294 - val_loss: 1.0837\n",
            "Epoch 4/150\n",
            "80/80 [==============================] - 0s 5ms/step - loss: 0.9234 - val_loss: 1.0533\n",
            "Epoch 5/150\n",
            "80/80 [==============================] - 0s 5ms/step - loss: 0.8274 - val_loss: 1.0219\n",
            "Epoch 6/150\n",
            "80/80 [==============================] - 0s 4ms/step - loss: 0.7413 - val_loss: 0.9864\n",
            "Epoch 7/150\n",
            "80/80 [==============================] - 0s 3ms/step - loss: 0.6530 - val_loss: 0.9519\n",
            "Epoch 8/150\n",
            "80/80 [==============================] - 0s 4ms/step - loss: 0.5724 - val_loss: 0.9161\n",
            "Epoch 9/150\n",
            "80/80 [==============================] - 0s 3ms/step - loss: 0.5048 - val_loss: 0.8792\n",
            "Epoch 10/150\n",
            "80/80 [==============================] - 0s 3ms/step - loss: 0.4381 - val_loss: 0.8468\n",
            "Epoch 11/150\n",
            "80/80 [==============================] - 1s 7ms/step - loss: 0.3804 - val_loss: 0.8121\n",
            "Epoch 12/150\n",
            "80/80 [==============================] - 1s 7ms/step - loss: 0.3249 - val_loss: 0.7740\n",
            "Epoch 13/150\n",
            "80/80 [==============================] - 0s 3ms/step - loss: 0.2778 - val_loss: 0.7383\n",
            "Epoch 14/150\n",
            "80/80 [==============================] - 1s 8ms/step - loss: 0.2355 - val_loss: 0.7030\n",
            "Epoch 15/150\n",
            "80/80 [==============================] - 0s 5ms/step - loss: 0.1980 - val_loss: 0.6666\n",
            "Epoch 16/150\n",
            "80/80 [==============================] - 0s 3ms/step - loss: 0.1669 - val_loss: 0.6322\n",
            "Epoch 17/150\n",
            "80/80 [==============================] - 1s 7ms/step - loss: 0.1390 - val_loss: 0.5942\n",
            "Epoch 18/150\n",
            "80/80 [==============================] - 1s 7ms/step - loss: 0.1175 - val_loss: 0.5619\n",
            "Epoch 19/150\n",
            "80/80 [==============================] - 0s 3ms/step - loss: 0.0997 - val_loss: 0.5232\n",
            "Epoch 20/150\n",
            "80/80 [==============================] - 0s 3ms/step - loss: 0.0862 - val_loss: 0.4863\n",
            "Epoch 21/150\n",
            "80/80 [==============================] - 0s 3ms/step - loss: 0.0764 - val_loss: 0.4501\n",
            "Epoch 22/150\n",
            "80/80 [==============================] - 0s 3ms/step - loss: 0.0700 - val_loss: 0.4117\n",
            "Epoch 23/150\n",
            "80/80 [==============================] - 0s 3ms/step - loss: 0.0659 - val_loss: 0.3756\n",
            "Epoch 24/150\n",
            "80/80 [==============================] - 0s 3ms/step - loss: 0.0635 - val_loss: 0.3417\n",
            "Epoch 25/150\n",
            "80/80 [==============================] - 0s 4ms/step - loss: 0.0620 - val_loss: 0.3080\n",
            "Epoch 26/150\n",
            "80/80 [==============================] - 0s 3ms/step - loss: 0.0610 - val_loss: 0.2762\n",
            "Epoch 27/150\n",
            "80/80 [==============================] - 0s 3ms/step - loss: 0.0602 - val_loss: 0.2461\n",
            "Epoch 28/150\n",
            "80/80 [==============================] - 0s 3ms/step - loss: 0.0596 - val_loss: 0.2181\n",
            "Epoch 29/150\n",
            "80/80 [==============================] - 0s 4ms/step - loss: 0.0589 - val_loss: 0.1955\n",
            "Epoch 30/150\n",
            "80/80 [==============================] - 0s 3ms/step - loss: 0.0583 - val_loss: 0.1723\n",
            "Epoch 31/150\n",
            "80/80 [==============================] - 0s 3ms/step - loss: 0.0578 - val_loss: 0.1521\n",
            "Epoch 32/150\n",
            "80/80 [==============================] - 0s 3ms/step - loss: 0.0573 - val_loss: 0.1346\n",
            "Epoch 33/150\n",
            "80/80 [==============================] - 0s 3ms/step - loss: 0.0569 - val_loss: 0.1188\n",
            "Epoch 34/150\n",
            "80/80 [==============================] - 0s 3ms/step - loss: 0.0562 - val_loss: 0.1038\n",
            "Epoch 35/150\n",
            "80/80 [==============================] - 0s 3ms/step - loss: 0.0557 - val_loss: 0.0909\n",
            "Epoch 36/150\n",
            "80/80 [==============================] - 0s 4ms/step - loss: 0.0552 - val_loss: 0.0803\n",
            "Epoch 37/150\n",
            "80/80 [==============================] - 0s 4ms/step - loss: 0.0548 - val_loss: 0.0712\n",
            "Epoch 38/150\n",
            "80/80 [==============================] - 0s 5ms/step - loss: 0.0543 - val_loss: 0.0633\n",
            "Epoch 39/150\n",
            "80/80 [==============================] - 0s 5ms/step - loss: 0.0538 - val_loss: 0.0571\n",
            "Epoch 40/150\n",
            "80/80 [==============================] - 0s 5ms/step - loss: 0.0534 - val_loss: 0.0520\n",
            "Epoch 41/150\n",
            "80/80 [==============================] - 0s 6ms/step - loss: 0.0529 - val_loss: 0.0485\n",
            "Epoch 42/150\n",
            "80/80 [==============================] - 0s 4ms/step - loss: 0.0525 - val_loss: 0.0459\n",
            "Epoch 43/150\n",
            "80/80 [==============================] - 0s 3ms/step - loss: 0.0521 - val_loss: 0.0447\n",
            "Epoch 44/150\n",
            "80/80 [==============================] - 0s 3ms/step - loss: 0.0517 - val_loss: 0.0443\n",
            "Epoch 45/150\n",
            "80/80 [==============================] - 0s 3ms/step - loss: 0.0513 - val_loss: 0.0449\n",
            "Epoch 46/150\n",
            "80/80 [==============================] - 0s 3ms/step - loss: 0.0509 - val_loss: 0.0464\n",
            "Epoch 47/150\n",
            "80/80 [==============================] - 0s 3ms/step - loss: 0.0506 - val_loss: 0.0484\n",
            "Epoch 48/150\n",
            "80/80 [==============================] - 0s 3ms/step - loss: 0.0502 - val_loss: 0.0506\n",
            "Epoch 49/150\n",
            "80/80 [==============================] - 0s 4ms/step - loss: 0.0499 - val_loss: 0.0534\n",
            "Epoch 50/150\n",
            "80/80 [==============================] - 0s 4ms/step - loss: 0.0495 - val_loss: 0.0565\n",
            "Epoch 51/150\n",
            "80/80 [==============================] - 0s 3ms/step - loss: 0.0492 - val_loss: 0.0602\n",
            "Epoch 52/150\n",
            "80/80 [==============================] - 0s 3ms/step - loss: 0.0489 - val_loss: 0.0633\n",
            "Epoch 53/150\n",
            "80/80 [==============================] - 0s 3ms/step - loss: 0.0486 - val_loss: 0.0669\n",
            "Epoch 54/150\n",
            "80/80 [==============================] - 0s 4ms/step - loss: 0.0483 - val_loss: 0.0690\n",
            "Epoch 55/150\n",
            "80/80 [==============================] - 0s 3ms/step - loss: 0.0479 - val_loss: 0.0716\n",
            "Epoch 56/150\n",
            "80/80 [==============================] - 0s 4ms/step - loss: 0.0477 - val_loss: 0.0741\n",
            "Epoch 57/150\n",
            "80/80 [==============================] - 0s 3ms/step - loss: 0.0474 - val_loss: 0.0757\n",
            "Epoch 58/150\n",
            "80/80 [==============================] - 0s 3ms/step - loss: 0.0472 - val_loss: 0.0770\n",
            "Epoch 59/150\n",
            "80/80 [==============================] - 0s 4ms/step - loss: 0.0469 - val_loss: 0.0781\n",
            "Epoch 60/150\n",
            "80/80 [==============================] - 0s 4ms/step - loss: 0.0467 - val_loss: 0.0794\n",
            "Epoch 61/150\n",
            "80/80 [==============================] - 0s 3ms/step - loss: 0.0463 - val_loss: 0.0804\n",
            "Epoch 62/150\n",
            "80/80 [==============================] - 0s 3ms/step - loss: 0.0462 - val_loss: 0.0801\n",
            "Epoch 63/150\n",
            "80/80 [==============================] - 0s 3ms/step - loss: 0.0459 - val_loss: 0.0799\n",
            "Epoch 64/150\n",
            "80/80 [==============================] - 0s 4ms/step - loss: 0.0457 - val_loss: 0.0795\n",
            "Epoch 65/150\n",
            "80/80 [==============================] - 0s 4ms/step - loss: 0.0454 - val_loss: 0.0792\n",
            "Epoch 66/150\n",
            "80/80 [==============================] - 0s 3ms/step - loss: 0.0452 - val_loss: 0.0777\n",
            "Epoch 67/150\n",
            "80/80 [==============================] - 0s 3ms/step - loss: 0.0450 - val_loss: 0.0772\n",
            "Epoch 68/150\n",
            "80/80 [==============================] - 0s 3ms/step - loss: 0.0448 - val_loss: 0.0757\n",
            "Epoch 69/150\n",
            "80/80 [==============================] - 0s 3ms/step - loss: 0.0446 - val_loss: 0.0753\n",
            "Epoch 70/150\n",
            "80/80 [==============================] - 0s 3ms/step - loss: 0.0444 - val_loss: 0.0734\n",
            "Epoch 71/150\n",
            "80/80 [==============================] - 0s 3ms/step - loss: 0.0441 - val_loss: 0.0723\n",
            "Epoch 72/150\n",
            "80/80 [==============================] - 0s 4ms/step - loss: 0.0439 - val_loss: 0.0710\n",
            "Epoch 73/150\n",
            "80/80 [==============================] - 0s 4ms/step - loss: 0.0437 - val_loss: 0.0695\n",
            "Epoch 74/150\n",
            "80/80 [==============================] - 0s 3ms/step - loss: 0.0435 - val_loss: 0.0676\n",
            "Epoch 75/150\n",
            "80/80 [==============================] - 0s 3ms/step - loss: 0.0433 - val_loss: 0.0662\n",
            "Epoch 76/150\n",
            "80/80 [==============================] - 0s 3ms/step - loss: 0.0432 - val_loss: 0.0641\n",
            "Epoch 77/150\n",
            "80/80 [==============================] - 0s 4ms/step - loss: 0.0430 - val_loss: 0.0623\n",
            "Epoch 78/150\n",
            "80/80 [==============================] - 0s 5ms/step - loss: 0.0428 - val_loss: 0.0603\n",
            "Epoch 79/150\n",
            "80/80 [==============================] - 0s 5ms/step - loss: 0.0426 - val_loss: 0.0586\n",
            "Epoch 80/150\n",
            "80/80 [==============================] - 0s 4ms/step - loss: 0.0424 - val_loss: 0.0570\n",
            "Epoch 81/150\n",
            "80/80 [==============================] - 0s 5ms/step - loss: 0.0422 - val_loss: 0.0557\n",
            "Epoch 82/150\n",
            "80/80 [==============================] - 0s 5ms/step - loss: 0.0420 - val_loss: 0.0542\n",
            "Epoch 83/150\n",
            "80/80 [==============================] - 0s 5ms/step - loss: 0.0418 - val_loss: 0.0531\n",
            "Epoch 84/150\n",
            "80/80 [==============================] - 0s 4ms/step - loss: 0.0416 - val_loss: 0.0515\n",
            "Epoch 85/150\n",
            "80/80 [==============================] - 0s 4ms/step - loss: 0.0415 - val_loss: 0.0503\n",
            "Epoch 86/150\n",
            "80/80 [==============================] - 0s 4ms/step - loss: 0.0413 - val_loss: 0.0488\n",
            "Epoch 87/150\n",
            "80/80 [==============================] - 0s 3ms/step - loss: 0.0411 - val_loss: 0.0475\n",
            "Epoch 88/150\n",
            "80/80 [==============================] - 0s 3ms/step - loss: 0.0409 - val_loss: 0.0459\n",
            "Epoch 89/150\n",
            "80/80 [==============================] - 0s 3ms/step - loss: 0.0407 - val_loss: 0.0446\n",
            "Epoch 90/150\n",
            "80/80 [==============================] - 0s 3ms/step - loss: 0.0406 - val_loss: 0.0437\n",
            "Epoch 91/150\n",
            "80/80 [==============================] - 0s 4ms/step - loss: 0.0404 - val_loss: 0.0430\n",
            "Epoch 92/150\n",
            "80/80 [==============================] - 0s 3ms/step - loss: 0.0402 - val_loss: 0.0418\n",
            "Epoch 93/150\n",
            "80/80 [==============================] - 0s 3ms/step - loss: 0.0401 - val_loss: 0.0410\n",
            "Epoch 94/150\n",
            "80/80 [==============================] - 0s 3ms/step - loss: 0.0399 - val_loss: 0.0403\n",
            "Epoch 95/150\n",
            "80/80 [==============================] - 0s 3ms/step - loss: 0.0398 - val_loss: 0.0398\n",
            "Epoch 96/150\n",
            "80/80 [==============================] - 0s 3ms/step - loss: 0.0396 - val_loss: 0.0394\n",
            "Epoch 97/150\n",
            "80/80 [==============================] - 0s 3ms/step - loss: 0.0395 - val_loss: 0.0389\n",
            "Epoch 98/150\n",
            "80/80 [==============================] - 0s 3ms/step - loss: 0.0393 - val_loss: 0.0383\n",
            "Epoch 99/150\n",
            "80/80 [==============================] - 0s 3ms/step - loss: 0.0392 - val_loss: 0.0379\n",
            "Epoch 100/150\n",
            "80/80 [==============================] - 0s 3ms/step - loss: 0.0390 - val_loss: 0.0375\n",
            "Epoch 101/150\n",
            "80/80 [==============================] - 0s 3ms/step - loss: 0.0388 - val_loss: 0.0372\n",
            "Epoch 102/150\n",
            "80/80 [==============================] - 0s 4ms/step - loss: 0.0387 - val_loss: 0.0369\n",
            "Epoch 103/150\n",
            "80/80 [==============================] - 0s 3ms/step - loss: 0.0385 - val_loss: 0.0366\n",
            "Epoch 104/150\n",
            "80/80 [==============================] - 0s 4ms/step - loss: 0.0384 - val_loss: 0.0364\n",
            "Epoch 105/150\n",
            "80/80 [==============================] - 0s 3ms/step - loss: 0.0382 - val_loss: 0.0362\n",
            "Epoch 106/150\n",
            "80/80 [==============================] - 0s 4ms/step - loss: 0.0381 - val_loss: 0.0360\n",
            "Epoch 107/150\n",
            "80/80 [==============================] - 0s 3ms/step - loss: 0.0380 - val_loss: 0.0359\n",
            "Epoch 108/150\n",
            "80/80 [==============================] - 0s 3ms/step - loss: 0.0378 - val_loss: 0.0358\n",
            "Epoch 109/150\n",
            "80/80 [==============================] - 0s 4ms/step - loss: 0.0377 - val_loss: 0.0357\n",
            "Epoch 110/150\n",
            "80/80 [==============================] - 0s 3ms/step - loss: 0.0375 - val_loss: 0.0356\n",
            "Epoch 111/150\n",
            "80/80 [==============================] - 0s 3ms/step - loss: 0.0373 - val_loss: 0.0355\n",
            "Epoch 112/150\n",
            "80/80 [==============================] - 0s 3ms/step - loss: 0.0373 - val_loss: 0.0356\n",
            "Epoch 113/150\n",
            "80/80 [==============================] - 0s 3ms/step - loss: 0.0371 - val_loss: 0.0356\n",
            "Epoch 114/150\n",
            "80/80 [==============================] - 0s 3ms/step - loss: 0.0370 - val_loss: 0.0356\n",
            "Epoch 115/150\n",
            "80/80 [==============================] - 0s 3ms/step - loss: 0.0369 - val_loss: 0.0357\n",
            "Epoch 116/150\n",
            "80/80 [==============================] - 0s 3ms/step - loss: 0.0367 - val_loss: 0.0357\n",
            "Epoch 117/150\n",
            "80/80 [==============================] - 0s 4ms/step - loss: 0.0366 - val_loss: 0.0358\n",
            "Epoch 118/150\n",
            "80/80 [==============================] - 0s 3ms/step - loss: 0.0365 - val_loss: 0.0359\n",
            "Epoch 119/150\n",
            "80/80 [==============================] - 0s 3ms/step - loss: 0.0363 - val_loss: 0.0360\n",
            "Epoch 120/150\n",
            "80/80 [==============================] - 0s 5ms/step - loss: 0.0362 - val_loss: 0.0361\n",
            "Epoch 121/150\n",
            "80/80 [==============================] - 0s 5ms/step - loss: 0.0361 - val_loss: 0.0362\n",
            "Epoch 122/150\n",
            "80/80 [==============================] - 0s 4ms/step - loss: 0.0359 - val_loss: 0.0363\n",
            "Epoch 123/150\n",
            "80/80 [==============================] - 0s 4ms/step - loss: 0.0358 - val_loss: 0.0364\n",
            "Epoch 124/150\n",
            "80/80 [==============================] - 0s 5ms/step - loss: 0.0357 - val_loss: 0.0365\n",
            "Epoch 125/150\n",
            "80/80 [==============================] - 0s 4ms/step - loss: 0.0355 - val_loss: 0.0367\n",
            "Epoch 126/150\n",
            "80/80 [==============================] - 0s 3ms/step - loss: 0.0354 - val_loss: 0.0369\n",
            "Epoch 127/150\n",
            "80/80 [==============================] - 0s 3ms/step - loss: 0.0353 - val_loss: 0.0368\n",
            "Epoch 128/150\n",
            "80/80 [==============================] - 0s 3ms/step - loss: 0.0352 - val_loss: 0.0370\n",
            "Epoch 129/150\n",
            "80/80 [==============================] - 0s 4ms/step - loss: 0.0351 - val_loss: 0.0370\n",
            "Epoch 130/150\n",
            "80/80 [==============================] - 0s 3ms/step - loss: 0.0349 - val_loss: 0.0372\n",
            "Epoch 131/150\n",
            "80/80 [==============================] - 0s 3ms/step - loss: 0.0348 - val_loss: 0.0373\n",
            "Epoch 132/150\n",
            "80/80 [==============================] - 0s 3ms/step - loss: 0.0347 - val_loss: 0.0375\n",
            "Epoch 133/150\n",
            "80/80 [==============================] - 0s 3ms/step - loss: 0.0346 - val_loss: 0.0375\n",
            "Epoch 134/150\n",
            "80/80 [==============================] - 0s 3ms/step - loss: 0.0345 - val_loss: 0.0376\n",
            "Epoch 135/150\n",
            "80/80 [==============================] - 0s 4ms/step - loss: 0.0344 - val_loss: 0.0379\n",
            "Epoch 136/150\n",
            "80/80 [==============================] - 0s 4ms/step - loss: 0.0342 - val_loss: 0.0376\n",
            "Epoch 137/150\n",
            "80/80 [==============================] - 0s 3ms/step - loss: 0.0341 - val_loss: 0.0379\n",
            "Epoch 138/150\n",
            "80/80 [==============================] - 0s 3ms/step - loss: 0.0340 - val_loss: 0.0377\n",
            "Epoch 139/150\n",
            "80/80 [==============================] - 0s 4ms/step - loss: 0.0338 - val_loss: 0.0376\n",
            "Epoch 140/150\n",
            "80/80 [==============================] - 0s 4ms/step - loss: 0.0338 - val_loss: 0.0377\n",
            "Epoch 141/150\n",
            "80/80 [==============================] - 0s 3ms/step - loss: 0.0336 - val_loss: 0.0375\n",
            "Epoch 142/150\n",
            "80/80 [==============================] - 0s 3ms/step - loss: 0.0336 - val_loss: 0.0376\n",
            "Epoch 143/150\n",
            "80/80 [==============================] - 0s 3ms/step - loss: 0.0334 - val_loss: 0.0378\n",
            "Epoch 144/150\n",
            "80/80 [==============================] - 0s 3ms/step - loss: 0.0333 - val_loss: 0.0376\n",
            "Epoch 145/150\n",
            "80/80 [==============================] - 0s 3ms/step - loss: 0.0332 - val_loss: 0.0376\n",
            "Epoch 146/150\n",
            "80/80 [==============================] - 0s 3ms/step - loss: 0.0331 - val_loss: 0.0375\n",
            "Epoch 147/150\n",
            "80/80 [==============================] - 0s 4ms/step - loss: 0.0330 - val_loss: 0.0374\n",
            "Epoch 148/150\n",
            "80/80 [==============================] - 0s 3ms/step - loss: 0.0329 - val_loss: 0.0375\n",
            "Epoch 149/150\n",
            "80/80 [==============================] - 0s 4ms/step - loss: 0.0328 - val_loss: 0.0375\n",
            "Epoch 150/150\n",
            "80/80 [==============================] - 0s 3ms/step - loss: 0.0327 - val_loss: 0.0374\n"
          ]
        }
      ]
    },
    {
      "cell_type": "code",
      "source": [
        "history_plot(test_one)"
      ],
      "metadata": {
        "colab": {
          "base_uri": "https://localhost:8080/",
          "height": 472
        },
        "id": "BreXjQMHucxP",
        "outputId": "e9d0a27b-bf6a-4169-fe7a-8903aba1a966"
      },
      "execution_count": null,
      "outputs": [
        {
          "output_type": "display_data",
          "data": {
            "text/plain": [
              "<Figure size 640x480 with 1 Axes>"
            ],
            "image/png": "[encoded data removed]"
          },
          "metadata": {}
        }
      ]
    },
    {
      "cell_type": "code",
      "source": [
        "#print(model.predict(first_try_x))\n",
        "\n",
        "nn_preds = model.predict(first_try_x)\n",
        "stat_preds = first_try_x[:,10:12]\n",
        "print(stat_preds[0:3,:])\n",
        "print(first_try_x[0:3,:])\n",
        "real_ys = first_try_y\n",
        "window = 1\n",
        "\n",
        "stat_avg_mse, nn_mse, nn_avg_mse = calculate_metrics(window, real_ys, stat_preds, nn_preds)\n",
        "\n",
        "print(\"STAT TRAIN ENSEMBLE MSE: \", stat_avg_mse)\n",
        "print(\"NN TRAIN MODEL MSE: \", nn_mse)\n",
        "print(\"NN+STAT TRAIN ENSEMBLE MSE: \", nn_avg_mse)\n",
        "\n",
        "\n",
        "nn_preds2 = model.predict(first_try_x_val)\n",
        "stat_preds2 = first_try_x_val[:,10:12]\n",
        "print(stat_preds2[0:3,:])\n",
        "real_ys2 = first_try_y_val\n",
        "window2 = 1\n",
        "\n",
        "stat_avg_mse, nn_mse, nn_avg_mse = calculate_metrics(window, real_ys2, stat_preds2, nn_preds2)\n",
        "\n",
        "print(\"STAT VAL ENSEMBLE MSE: \", stat_avg_mse)\n",
        "print(\"NN VAL MODEL MSE: \", nn_mse)\n",
        "print(\"NN+STAT VAL ENSEMBLE MSE: \", nn_avg_mse)"
      ],
      "metadata": {
        "colab": {
          "base_uri": "https://localhost:8080/"
        },
        "id": "3N1QzdPB5Xyf",
        "outputId": "2b6980c8-5f36-43e6-dd69-123b4ef4f1c1"
      },
      "execution_count": null,
      "outputs": [
        {
          "output_type": "stream",
          "name": "stdout",
          "text": [
            "3/3 [==============================] - 0s 15ms/step\n",
            "[[-1.02839118 -1.00976611]\n",
            " [-1.02246525 -1.00636658]\n",
            " [-1.26201821 -1.25186096]]\n",
            "[[-1.18837558 -1.17737103 -1.121501   -1.17059781 -1.10056137 -1.18244965\n",
            "  -1.15197791 -1.10795973 -1.08849253 -1.09441329 -1.02839118 -1.00976611]\n",
            " [-1.01821843 -1.00215076 -0.98268356 -0.98776218 -1.01653933 -1.02669658\n",
            "  -1.04955297 -1.05378429 -1.02502265 -1.06055752 -1.02246525 -1.00636658]\n",
            " [-1.13081612 -1.13165825 -1.1214855  -1.13335285 -1.09780248 -1.07409879\n",
            "  -1.07071476 -1.14556118 -1.26370764 -1.20784277 -1.26201821 -1.25186096]]\n",
            "2\n",
            "STAT TRAIN ENSEMBLE MSE:  0.002580036183811661\n",
            "NN TRAIN MODEL MSE:  0.0034495044041024624\n",
            "NN+STAT TRAIN ENSEMBLE MSE:  0.0020458753035366454\n",
            "1/1 [==============================] - 0s 19ms/step\n",
            "[[-0.36473955 -0.30719559]\n",
            " [ 0.03647174  0.04324496]\n",
            " [ 0.36326026  0.37759717]]\n",
            "2\n",
            "STAT VAL ENSEMBLE MSE:  0.002839849369788067\n",
            "NN VAL MODEL MSE:  0.008564990617821129\n",
            "NN+STAT VAL ENSEMBLE MSE:  0.0020829388950082527\n"
          ]
        }
      ]
    },
    {
      "cell_type": "code",
      "source": [
        "cv_data2 = cv_data[1:120]\n",
        "\n",
        "cv_data2[0:12] = np.array([0,1,2,3,4,5,6,7,8,9,10,11]).reshape([12,1])\n",
        "output = stat_true_window_cross_val(cv_data2, ['auto_arima','complex_smoothing'], [new_aaPredFunction, new_cesPredFunction])"
      ],
      "metadata": {
        "colab": {
          "base_uri": "https://localhost:8080/",
          "height": 237
        },
        "id": "HFHezSU2AQPb",
        "outputId": "6d44c730-96f5-4fd5-dd61-522af7816b42"
      },
      "execution_count": null,
      "outputs": [
        {
          "output_type": "error",
          "ename": "NameError",
          "evalue": "name 'cv_data' is not defined",
          "traceback": [
            "\u001b[0;31m---------------------------------------------------------------------------\u001b[0m",
            "\u001b[0;31mNameError\u001b[0m                                 Traceback (most recent call last)",
            "\u001b[0;32m<ipython-input-29-c366178482a6>\u001b[0m in \u001b[0;36m<cell line: 1>\u001b[0;34m()\u001b[0m\n\u001b[0;32m----> 1\u001b[0;31m \u001b[0mcv_data2\u001b[0m \u001b[0;34m=\u001b[0m \u001b[0mcv_data\u001b[0m\u001b[0;34m[\u001b[0m\u001b[0;36m1\u001b[0m\u001b[0;34m:\u001b[0m\u001b[0;36m120\u001b[0m\u001b[0;34m]\u001b[0m\u001b[0;34m\u001b[0m\u001b[0;34m\u001b[0m\u001b[0m\n\u001b[0m\u001b[1;32m      2\u001b[0m \u001b[0;34m\u001b[0m\u001b[0m\n\u001b[1;32m      3\u001b[0m \u001b[0mcv_data2\u001b[0m\u001b[0;34m[\u001b[0m\u001b[0;36m0\u001b[0m\u001b[0;34m:\u001b[0m\u001b[0;36m12\u001b[0m\u001b[0;34m]\u001b[0m \u001b[0;34m=\u001b[0m \u001b[0mnp\u001b[0m\u001b[0;34m.\u001b[0m\u001b[0marray\u001b[0m\u001b[0;34m(\u001b[0m\u001b[0;34m[\u001b[0m\u001b[0;36m0\u001b[0m\u001b[0;34m,\u001b[0m\u001b[0;36m1\u001b[0m\u001b[0;34m,\u001b[0m\u001b[0;36m2\u001b[0m\u001b[0;34m,\u001b[0m\u001b[0;36m3\u001b[0m\u001b[0;34m,\u001b[0m\u001b[0;36m4\u001b[0m\u001b[0;34m,\u001b[0m\u001b[0;36m5\u001b[0m\u001b[0;34m,\u001b[0m\u001b[0;36m6\u001b[0m\u001b[0;34m,\u001b[0m\u001b[0;36m7\u001b[0m\u001b[0;34m,\u001b[0m\u001b[0;36m8\u001b[0m\u001b[0;34m,\u001b[0m\u001b[0;36m9\u001b[0m\u001b[0;34m,\u001b[0m\u001b[0;36m10\u001b[0m\u001b[0;34m,\u001b[0m\u001b[0;36m11\u001b[0m\u001b[0;34m]\u001b[0m\u001b[0;34m)\u001b[0m\u001b[0;34m.\u001b[0m\u001b[0mreshape\u001b[0m\u001b[0;34m(\u001b[0m\u001b[0;34m[\u001b[0m\u001b[0;36m12\u001b[0m\u001b[0;34m,\u001b[0m\u001b[0;36m1\u001b[0m\u001b[0;34m]\u001b[0m\u001b[0;34m)\u001b[0m\u001b[0;34m\u001b[0m\u001b[0;34m\u001b[0m\u001b[0m\n\u001b[1;32m      4\u001b[0m \u001b[0moutput\u001b[0m \u001b[0;34m=\u001b[0m \u001b[0mstat_true_window_cross_val\u001b[0m\u001b[0;34m(\u001b[0m\u001b[0mcv_data2\u001b[0m\u001b[0;34m,\u001b[0m \u001b[0;34m[\u001b[0m\u001b[0;34m'auto_arima'\u001b[0m\u001b[0;34m,\u001b[0m\u001b[0;34m'complex_smoothing'\u001b[0m\u001b[0;34m]\u001b[0m\u001b[0;34m,\u001b[0m \u001b[0;34m[\u001b[0m\u001b[0mnew_aaPredFunction\u001b[0m\u001b[0;34m,\u001b[0m \u001b[0mnew_cesPredFunction\u001b[0m\u001b[0;34m]\u001b[0m\u001b[0;34m)\u001b[0m\u001b[0;34m\u001b[0m\u001b[0;34m\u001b[0m\u001b[0m\n",
            "\u001b[0;31mNameError\u001b[0m: name 'cv_data' is not defined"
          ]
        }
      ]
    },
    {
      "cell_type": "code",
      "source": [
        "print(output[0:3,0:13])\n",
        "print(cv_data[0:12])"
      ],
      "metadata": {
        "id": "CMN8rUW_EsM8"
      },
      "execution_count": null,
      "outputs": []
    },
    {
      "cell_type": "code",
      "source": [
        "testResultsQQQ, trainSeriesQQQ, testSeriesQQQ = prep_ticker('QQQ')\n",
        "\n",
        "print(testResultsQQQ.head() )\n",
        "print(trainSeriesQQQ.head() )\n",
        "print(testSeriesQQQ.head() )"
      ],
      "metadata": {
        "colab": {
          "base_uri": "https://localhost:8080/"
        },
        "id": "RjvXcXzlkHvq",
        "outputId": "13b0e978-c764-4595-8710-4efa008f77f1"
      },
      "execution_count": null,
      "outputs": [
        {
          "output_type": "stream",
          "name": "stderr",
          "text": [
            "\r[*********************100%%**********************]  1 of 1 completed"
          ]
        },
        {
          "output_type": "stream",
          "name": "stdout",
          "text": [
            "        Price  auto_arima  dyn_theta  auto_ets  complex_smoothing\n",
            "0  376.239990           0          0         0                  0\n",
            "1  377.880005           0          0         0                  0\n",
            "2  378.390015           0          0         0                  0\n",
            "3  378.799988           0          0         0                  0\n",
            "4  379.730011           0          0         0                  0\n"
          ]
        },
        {
          "output_type": "stream",
          "name": "stderr",
          "text": [
            "\n"
          ]
        }
      ]
    },
    {
      "cell_type": "code",
      "source": [
        "testResultsQQQ, trainSeriesQQQ, testSeriesQQQ = prep_ticker('QQQ', model_list = ['auto_arima', 'dyn_theta', 'complex_smoothing'])\n",
        "\n"
      ],
      "metadata": {
        "id": "sLT6_TwVmgc9",
        "colab": {
          "base_uri": "https://localhost:8080/",
          "height": 330
        },
        "outputId": "3dba41b7-f16b-48c2-cc10-faf439cf784f"
      },
      "execution_count": null,
      "outputs": [
        {
          "output_type": "error",
          "ename": "NameError",
          "evalue": "name 'yf' is not defined",
          "traceback": [
            "\u001b[0;31m---------------------------------------------------------------------------\u001b[0m",
            "\u001b[0;31mNameError\u001b[0m                                 Traceback (most recent call last)",
            "\u001b[0;32m<ipython-input-5-34105c547167>\u001b[0m in \u001b[0;36m<cell line: 1>\u001b[0;34m()\u001b[0m\n\u001b[0;32m----> 1\u001b[0;31m \u001b[0mtestResultsQQQ\u001b[0m\u001b[0;34m,\u001b[0m \u001b[0mtrainSeriesQQQ\u001b[0m\u001b[0;34m,\u001b[0m \u001b[0mtestSeriesQQQ\u001b[0m \u001b[0;34m=\u001b[0m \u001b[0mprep_ticker\u001b[0m\u001b[0;34m(\u001b[0m\u001b[0;34m'QQQ'\u001b[0m\u001b[0;34m,\u001b[0m \u001b[0mmodel_list\u001b[0m \u001b[0;34m=\u001b[0m \u001b[0;34m[\u001b[0m\u001b[0;34m'auto_arima'\u001b[0m\u001b[0;34m,\u001b[0m \u001b[0;34m'dyn_theta'\u001b[0m\u001b[0;34m,\u001b[0m \u001b[0;34m'complex_smoothing'\u001b[0m\u001b[0;34m]\u001b[0m\u001b[0;34m)\u001b[0m\u001b[0;34m\u001b[0m\u001b[0;34m\u001b[0m\u001b[0m\n\u001b[0m\u001b[1;32m      2\u001b[0m \u001b[0;34m\u001b[0m\u001b[0m\n",
            "\u001b[0;32m<ipython-input-2-69f3cddda564>\u001b[0m in \u001b[0;36mprep_ticker\u001b[0;34m(ticker, start_date, end_date, intervals, train_size, model_list)\u001b[0m\n\u001b[1;32m      3\u001b[0m \u001b[0;34m\u001b[0m\u001b[0m\n\u001b[1;32m      4\u001b[0m \u001b[0;32mdef\u001b[0m \u001b[0mprep_ticker\u001b[0m\u001b[0;34m(\u001b[0m\u001b[0mticker\u001b[0m\u001b[0;34m,\u001b[0m \u001b[0mstart_date\u001b[0m \u001b[0;34m=\u001b[0m \u001b[0;34m'2022-06-01'\u001b[0m\u001b[0;34m,\u001b[0m \u001b[0mend_date\u001b[0m \u001b[0;34m=\u001b[0m \u001b[0;34m'2023-09-30'\u001b[0m\u001b[0;34m,\u001b[0m \u001b[0mintervals\u001b[0m \u001b[0;34m=\u001b[0m \u001b[0;34m'60m'\u001b[0m\u001b[0;34m,\u001b[0m \u001b[0mtrain_size\u001b[0m \u001b[0;34m=\u001b[0m \u001b[0;36m2000\u001b[0m\u001b[0;34m,\u001b[0m \u001b[0mmodel_list\u001b[0m \u001b[0;34m=\u001b[0m \u001b[0;34m[\u001b[0m\u001b[0;34m'auto_arima'\u001b[0m\u001b[0;34m,\u001b[0m \u001b[0;34m'dyn_theta'\u001b[0m\u001b[0;34m,\u001b[0m \u001b[0;34m'auto_ets'\u001b[0m\u001b[0;34m,\u001b[0m \u001b[0;34m'complex_smoothing'\u001b[0m\u001b[0;34m]\u001b[0m\u001b[0;34m)\u001b[0m\u001b[0;34m:\u001b[0m\u001b[0;34m\u001b[0m\u001b[0;34m\u001b[0m\u001b[0m\n\u001b[0;32m----> 5\u001b[0;31m   \u001b[0mdata\u001b[0m \u001b[0;34m=\u001b[0m \u001b[0myf\u001b[0m\u001b[0;34m.\u001b[0m\u001b[0mdownload\u001b[0m\u001b[0;34m(\u001b[0m\u001b[0mticker\u001b[0m\u001b[0;34m,\u001b[0m\u001b[0mstart_date\u001b[0m\u001b[0;34m,\u001b[0m \u001b[0mend_date\u001b[0m\u001b[0;34m,\u001b[0m \u001b[0minterval\u001b[0m \u001b[0;34m=\u001b[0m \u001b[0mintervals\u001b[0m\u001b[0;34m)\u001b[0m\u001b[0;34m\u001b[0m\u001b[0;34m\u001b[0m\u001b[0m\n\u001b[0m\u001b[1;32m      6\u001b[0m   \u001b[0;31m#print(data.head())\u001b[0m\u001b[0;34m\u001b[0m\u001b[0;34m\u001b[0m\u001b[0m\n\u001b[1;32m      7\u001b[0m   \u001b[0mdata\u001b[0m\u001b[0;34m.\u001b[0m\u001b[0mreset_index\u001b[0m\u001b[0;34m(\u001b[0m\u001b[0minplace\u001b[0m \u001b[0;34m=\u001b[0m \u001b[0;32mTrue\u001b[0m\u001b[0;34m)\u001b[0m\u001b[0;34m\u001b[0m\u001b[0;34m\u001b[0m\u001b[0m\n",
            "\u001b[0;31mNameError\u001b[0m: name 'yf' is not defined"
          ]
        }
      ]
    },
    {
      "cell_type": "code",
      "source": [
        "qqqpreds, qqqerrors = stat_test_wrapper(trainSeriesQQQ, testSeriesQQQ, testResultsQQQ, 200, 10)\n"
      ],
      "metadata": {
        "id": "5g9CjbLhshfv"
      },
      "execution_count": null,
      "outputs": []
    }
  ]
}